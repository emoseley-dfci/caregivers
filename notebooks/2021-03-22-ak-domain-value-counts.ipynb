{
 "cells": [
  {
   "cell_type": "code",
   "execution_count": 1,
   "metadata": {},
   "outputs": [],
   "source": [
    "import pandas as pd\n",
    "import plotly.express as px"
   ]
  },
  {
   "cell_type": "code",
   "execution_count": 2,
   "metadata": {},
   "outputs": [],
   "source": [
    "PATH_DATA = \"../data/raw/initial_results19May2020.csv\""
   ]
  },
  {
   "cell_type": "code",
   "execution_count": 3,
   "metadata": {},
   "outputs": [],
   "source": [
    "df = pd.read_csv(PATH_DATA)"
   ]
  },
  {
   "cell_type": "code",
   "execution_count": 4,
   "metadata": {},
   "outputs": [
    {
     "data": {
      "text/plain": [
       "Code Status Limitations    126\n",
       "None                        73\n",
       "Family (Undefined)          71\n",
       "Spouse/Partner              40\n",
       "Goals of Care               40\n",
       "Child                       32\n",
       "Reference to Discussion     26\n",
       "Sibling                     16\n",
       "Proxy/Legal Guardian         6\n",
       "Extended Family              3\n",
       "Parent                       2\n",
       "Friend                       1\n",
       "Name: label_var, dtype: int64"
      ]
     },
     "execution_count": 4,
     "metadata": {},
     "output_type": "execute_result"
    }
   ],
   "source": [
    "df[\"label_var\"].value_counts()"
   ]
  },
  {
   "cell_type": "code",
   "execution_count": 11,
   "metadata": {},
   "outputs": [
    {
     "data": {
      "application/vnd.plotly.v1+json": {
       "config": {
        "plotlyServerURL": "https://plot.ly"
       },
       "data": [
        {
         "alignmentgroup": "True",
         "bingroup": "y",
         "histfunc": "count",
         "hovertemplate": "count=%{x}<br>label_var=%{y}<extra></extra>",
         "legendgroup": "",
         "marker": {
          "color": "rgb(76,114,176)"
         },
         "name": "",
         "offsetgroup": "",
         "orientation": "h",
         "showlegend": false,
         "type": "histogram",
         "xaxis": "x",
         "y": [
          "Code Status Limitations",
          "Family (Undefined)",
          "Code Status Limitations",
          "None",
          "None",
          "Code Status Limitations",
          "Code Status Limitations",
          "Family (Undefined)",
          "Goals of Care",
          "Family (Undefined)",
          "Reference to Discussion",
          "Family (Undefined)",
          "Code Status Limitations",
          "None",
          "Code Status Limitations",
          "Child",
          "Goals of Care",
          "None",
          "None",
          "Code Status Limitations",
          "Family (Undefined)",
          "Code Status Limitations",
          "Code Status Limitations",
          "Spouse/Partner",
          "Code Status Limitations",
          "Child",
          "Code Status Limitations",
          "Family (Undefined)",
          "Goals of Care",
          "Code Status Limitations",
          "Child",
          "Code Status Limitations",
          "Family (Undefined)",
          "Reference to Discussion",
          "Family (Undefined)",
          "Child",
          "Spouse/Partner",
          "Family (Undefined)",
          "Child",
          "Code Status Limitations",
          "Family (Undefined)",
          "Code Status Limitations",
          "None",
          "Family (Undefined)",
          "Goals of Care",
          "Family (Undefined)",
          "Goals of Care",
          "Code Status Limitations",
          "Code Status Limitations",
          "Goals of Care",
          "Family (Undefined)",
          "Reference to Discussion",
          "Family (Undefined)",
          "Reference to Discussion",
          "Goals of Care",
          "Code Status Limitations",
          "Child",
          "Spouse/Partner",
          "Sibling",
          "Sibling",
          "Family (Undefined)",
          "Code Status Limitations",
          "Sibling",
          "Family (Undefined)",
          "Family (Undefined)",
          "Family (Undefined)",
          "Parent",
          "Spouse/Partner",
          "Spouse/Partner",
          "Family (Undefined)",
          "Child",
          "Family (Undefined)",
          "Sibling",
          "Family (Undefined)",
          "Reference to Discussion",
          "Goals of Care",
          "None",
          "Reference to Discussion",
          "Family (Undefined)",
          "Goals of Care",
          "None",
          "Family (Undefined)",
          "Family (Undefined)",
          "Family (Undefined)",
          "Code Status Limitations",
          "Code Status Limitations",
          "Family (Undefined)",
          "Code Status Limitations",
          "Family (Undefined)",
          "Family (Undefined)",
          "Family (Undefined)",
          "Family (Undefined)",
          "Family (Undefined)",
          "Sibling",
          "Parent",
          "Code Status Limitations",
          "Extended Family",
          "None",
          "Sibling",
          "Proxy/Legal Guardian",
          "Code Status Limitations",
          "Code Status Limitations",
          "None",
          "Code Status Limitations",
          "Code Status Limitations",
          "Sibling",
          "Code Status Limitations",
          "Proxy/Legal Guardian",
          "Code Status Limitations",
          "Sibling",
          "Spouse/Partner",
          "Code Status Limitations",
          "Spouse/Partner",
          "Spouse/Partner",
          "Family (Undefined)",
          "Code Status Limitations",
          "Spouse/Partner",
          "Spouse/Partner",
          "Child",
          "Code Status Limitations",
          "Spouse/Partner",
          "Child",
          "Reference to Discussion",
          "Goals of Care",
          "Code Status Limitations",
          "Code Status Limitations",
          "Code Status Limitations",
          "Spouse/Partner",
          "Reference to Discussion",
          "Code Status Limitations",
          "None",
          "Goals of Care",
          "Goals of Care",
          "Code Status Limitations",
          "Child",
          "None",
          "None",
          "Code Status Limitations",
          "Code Status Limitations",
          "Code Status Limitations",
          "None",
          "None",
          "Spouse/Partner",
          "Code Status Limitations",
          "Code Status Limitations",
          "Spouse/Partner",
          "Spouse/Partner",
          "Spouse/Partner",
          "Reference to Discussion",
          "Code Status Limitations",
          "Family (Undefined)",
          "None",
          "Code Status Limitations",
          "Family (Undefined)",
          "Code Status Limitations",
          "Family (Undefined)",
          "Goals of Care",
          "Sibling",
          "Code Status Limitations",
          "Code Status Limitations",
          "Reference to Discussion",
          "Sibling",
          "Sibling",
          "None",
          "None",
          "None",
          "Spouse/Partner",
          "Spouse/Partner",
          "Code Status Limitations",
          "Spouse/Partner",
          "None",
          "Spouse/Partner",
          "Code Status Limitations",
          "Family (Undefined)",
          "Spouse/Partner",
          "Family (Undefined)",
          "Family (Undefined)",
          "Spouse/Partner",
          "Code Status Limitations",
          "None",
          "Goals of Care",
          "Reference to Discussion",
          "Code Status Limitations",
          "Reference to Discussion",
          "Child",
          "Reference to Discussion",
          "Reference to Discussion",
          "Reference to Discussion",
          "Goals of Care",
          "Family (Undefined)",
          "Code Status Limitations",
          "Code Status Limitations",
          "Goals of Care",
          "Goals of Care",
          "Code Status Limitations",
          "Family (Undefined)",
          "None",
          "Goals of Care",
          "Goals of Care",
          "Code Status Limitations",
          "Family (Undefined)",
          "Child",
          "None",
          "Family (Undefined)",
          "Goals of Care",
          "Child",
          "None",
          "Goals of Care",
          "Family (Undefined)",
          "Code Status Limitations",
          "Code Status Limitations",
          "Code Status Limitations",
          "Goals of Care",
          "Code Status Limitations",
          "Child",
          "None",
          "None",
          "Child",
          "Reference to Discussion",
          "Child",
          "Code Status Limitations",
          "Code Status Limitations",
          "Child",
          "Reference to Discussion",
          "Code Status Limitations",
          "Reference to Discussion",
          "Child",
          "None",
          "None",
          "None",
          "Code Status Limitations",
          "Child",
          "Child",
          "Child",
          "Code Status Limitations",
          "Reference to Discussion",
          "Family (Undefined)",
          "Code Status Limitations",
          "Family (Undefined)",
          "Reference to Discussion",
          "None",
          "Family (Undefined)",
          "Code Status Limitations",
          "Family (Undefined)",
          "Family (Undefined)",
          "Family (Undefined)",
          "Family (Undefined)",
          "None",
          "Goals of Care",
          "Spouse/Partner",
          "Code Status Limitations",
          "Code Status Limitations",
          "Code Status Limitations",
          "None",
          "None",
          "Code Status Limitations",
          "Code Status Limitations",
          "None",
          "None",
          "Code Status Limitations",
          "Code Status Limitations",
          "Code Status Limitations",
          "Code Status Limitations",
          "Spouse/Partner",
          "Code Status Limitations",
          "Code Status Limitations",
          "Code Status Limitations",
          "Code Status Limitations",
          "Family (Undefined)",
          "None",
          "None",
          "Child",
          "Code Status Limitations",
          "Goals of Care",
          "Child",
          "Spouse/Partner",
          "None",
          "Code Status Limitations",
          "Code Status Limitations",
          "None",
          "Family (Undefined)",
          "Code Status Limitations",
          "Spouse/Partner",
          "Child",
          "Family (Undefined)",
          "Code Status Limitations",
          "Code Status Limitations",
          "Family (Undefined)",
          "Code Status Limitations",
          "Friend",
          "Code Status Limitations",
          "None",
          "Reference to Discussion",
          "Goals of Care",
          "Goals of Care",
          "None",
          "None",
          "Code Status Limitations",
          "Code Status Limitations",
          "Code Status Limitations",
          "Code Status Limitations",
          "None",
          "None",
          "None",
          "None",
          "None",
          "Code Status Limitations",
          "Spouse/Partner",
          "Family (Undefined)",
          "Code Status Limitations",
          "Spouse/Partner",
          "Spouse/Partner",
          "Extended Family",
          "Code Status Limitations",
          "Code Status Limitations",
          "Code Status Limitations",
          "None",
          "None",
          "None",
          "Code Status Limitations",
          "None",
          "Goals of Care",
          "Code Status Limitations",
          "Spouse/Partner",
          "Code Status Limitations",
          "Goals of Care",
          "Goals of Care",
          "Code Status Limitations",
          "Child",
          "None",
          "None",
          "None",
          "None",
          "None",
          "Extended Family",
          "Code Status Limitations",
          "Code Status Limitations",
          "Code Status Limitations",
          "Family (Undefined)",
          "Goals of Care",
          "Child",
          "Child",
          "Spouse/Partner",
          "Code Status Limitations",
          "Goals of Care",
          "Goals of Care",
          "Child",
          "Child",
          "Child",
          "Spouse/Partner",
          "Code Status Limitations",
          "None",
          "Code Status Limitations",
          "None",
          "Goals of Care",
          "Spouse/Partner",
          "Code Status Limitations",
          "Child",
          "Code Status Limitations",
          "Goals of Care",
          "Family (Undefined)",
          "Code Status Limitations",
          "Goals of Care",
          "Family (Undefined)",
          "Reference to Discussion",
          "Code Status Limitations",
          "Family (Undefined)",
          "Spouse/Partner",
          "Code Status Limitations",
          "Family (Undefined)",
          "None",
          "Family (Undefined)",
          "Family (Undefined)",
          "Family (Undefined)",
          "Family (Undefined)",
          "Spouse/Partner",
          "Code Status Limitations",
          "Family (Undefined)",
          "Family (Undefined)",
          "Reference to Discussion",
          "Family (Undefined)",
          "None",
          "None",
          "None",
          "Family (Undefined)",
          "Goals of Care",
          "Family (Undefined)",
          "Proxy/Legal Guardian",
          "Reference to Discussion",
          "Proxy/Legal Guardian",
          "Code Status Limitations",
          "Proxy/Legal Guardian",
          "Code Status Limitations",
          "Goals of Care",
          "Reference to Discussion",
          "Proxy/Legal Guardian",
          "Goals of Care",
          "Code Status Limitations",
          "None",
          "Goals of Care",
          "Code Status Limitations",
          "Goals of Care",
          "Spouse/Partner",
          "Code Status Limitations",
          "Spouse/Partner",
          "Spouse/Partner",
          "Child",
          "Spouse/Partner",
          "None",
          "None",
          "None",
          "None",
          "Code Status Limitations",
          "Code Status Limitations",
          "Spouse/Partner",
          "None",
          "None",
          "None",
          "None",
          "Sibling",
          "Sibling",
          "Family (Undefined)",
          "Code Status Limitations",
          "Code Status Limitations",
          "None",
          "Code Status Limitations",
          "Sibling",
          "Family (Undefined)",
          "Code Status Limitations",
          "Code Status Limitations",
          "Sibling",
          "Reference to Discussion",
          "Code Status Limitations",
          "None",
          "Sibling",
          "Code Status Limitations"
         ],
         "yaxis": "y"
        }
       ],
       "layout": {
        "autosize": true,
        "barmode": "group",
        "font": {
         "family": "Poppins",
         "size": 16
        },
        "legend": {
         "tracegroupgap": 0
        },
        "margin": {
         "t": 60
        },
        "template": {
         "data": {
          "bar": [
           {
            "error_x": {
             "color": "rgb(36,36,36)"
            },
            "error_y": {
             "color": "rgb(36,36,36)"
            },
            "marker": {
             "line": {
              "color": "rgb(234,234,242)",
              "width": 0.5
             }
            },
            "type": "bar"
           }
          ],
          "barpolar": [
           {
            "marker": {
             "line": {
              "color": "rgb(234,234,242)",
              "width": 0.5
             }
            },
            "type": "barpolar"
           }
          ],
          "carpet": [
           {
            "aaxis": {
             "endlinecolor": "rgb(36,36,36)",
             "gridcolor": "white",
             "linecolor": "white",
             "minorgridcolor": "white",
             "startlinecolor": "rgb(36,36,36)"
            },
            "baxis": {
             "endlinecolor": "rgb(36,36,36)",
             "gridcolor": "white",
             "linecolor": "white",
             "minorgridcolor": "white",
             "startlinecolor": "rgb(36,36,36)"
            },
            "type": "carpet"
           }
          ],
          "choropleth": [
           {
            "colorbar": {
             "outlinewidth": 0,
             "tickcolor": "rgb(36,36,36)",
             "ticklen": 8,
             "ticks": "outside",
             "tickwidth": 2
            },
            "type": "choropleth"
           }
          ],
          "contour": [
           {
            "colorbar": {
             "outlinewidth": 0,
             "tickcolor": "rgb(36,36,36)",
             "ticklen": 8,
             "ticks": "outside",
             "tickwidth": 2
            },
            "colorscale": [
             [
              0,
              "rgb(2,4,25)"
             ],
             [
              0.06274509803921569,
              "rgb(24,15,41)"
             ],
             [
              0.12549019607843137,
              "rgb(47,23,57)"
             ],
             [
              0.18823529411764706,
              "rgb(71,28,72)"
             ],
             [
              0.25098039215686274,
              "rgb(97,30,82)"
             ],
             [
              0.3137254901960784,
              "rgb(123,30,89)"
             ],
             [
              0.3764705882352941,
              "rgb(150,27,91)"
             ],
             [
              0.4392156862745098,
              "rgb(177,22,88)"
             ],
             [
              0.5019607843137255,
              "rgb(203,26,79)"
             ],
             [
              0.5647058823529412,
              "rgb(223,47,67)"
             ],
             [
              0.6274509803921569,
              "rgb(236,76,61)"
             ],
             [
              0.6901960784313725,
              "rgb(242,107,73)"
             ],
             [
              0.7529411764705882,
              "rgb(244,135,95)"
             ],
             [
              0.8156862745098039,
              "rgb(245,162,122)"
             ],
             [
              0.8784313725490196,
              "rgb(246,188,153)"
             ],
             [
              0.9411764705882353,
              "rgb(247,212,187)"
             ],
             [
              1,
              "rgb(250,234,220)"
             ]
            ],
            "type": "contour"
           }
          ],
          "contourcarpet": [
           {
            "colorbar": {
             "outlinewidth": 0,
             "tickcolor": "rgb(36,36,36)",
             "ticklen": 8,
             "ticks": "outside",
             "tickwidth": 2
            },
            "type": "contourcarpet"
           }
          ],
          "heatmap": [
           {
            "colorbar": {
             "outlinewidth": 0,
             "tickcolor": "rgb(36,36,36)",
             "ticklen": 8,
             "ticks": "outside",
             "tickwidth": 2
            },
            "colorscale": [
             [
              0,
              "rgb(2,4,25)"
             ],
             [
              0.06274509803921569,
              "rgb(24,15,41)"
             ],
             [
              0.12549019607843137,
              "rgb(47,23,57)"
             ],
             [
              0.18823529411764706,
              "rgb(71,28,72)"
             ],
             [
              0.25098039215686274,
              "rgb(97,30,82)"
             ],
             [
              0.3137254901960784,
              "rgb(123,30,89)"
             ],
             [
              0.3764705882352941,
              "rgb(150,27,91)"
             ],
             [
              0.4392156862745098,
              "rgb(177,22,88)"
             ],
             [
              0.5019607843137255,
              "rgb(203,26,79)"
             ],
             [
              0.5647058823529412,
              "rgb(223,47,67)"
             ],
             [
              0.6274509803921569,
              "rgb(236,76,61)"
             ],
             [
              0.6901960784313725,
              "rgb(242,107,73)"
             ],
             [
              0.7529411764705882,
              "rgb(244,135,95)"
             ],
             [
              0.8156862745098039,
              "rgb(245,162,122)"
             ],
             [
              0.8784313725490196,
              "rgb(246,188,153)"
             ],
             [
              0.9411764705882353,
              "rgb(247,212,187)"
             ],
             [
              1,
              "rgb(250,234,220)"
             ]
            ],
            "type": "heatmap"
           }
          ],
          "heatmapgl": [
           {
            "colorbar": {
             "outlinewidth": 0,
             "tickcolor": "rgb(36,36,36)",
             "ticklen": 8,
             "ticks": "outside",
             "tickwidth": 2
            },
            "colorscale": [
             [
              0,
              "rgb(2,4,25)"
             ],
             [
              0.06274509803921569,
              "rgb(24,15,41)"
             ],
             [
              0.12549019607843137,
              "rgb(47,23,57)"
             ],
             [
              0.18823529411764706,
              "rgb(71,28,72)"
             ],
             [
              0.25098039215686274,
              "rgb(97,30,82)"
             ],
             [
              0.3137254901960784,
              "rgb(123,30,89)"
             ],
             [
              0.3764705882352941,
              "rgb(150,27,91)"
             ],
             [
              0.4392156862745098,
              "rgb(177,22,88)"
             ],
             [
              0.5019607843137255,
              "rgb(203,26,79)"
             ],
             [
              0.5647058823529412,
              "rgb(223,47,67)"
             ],
             [
              0.6274509803921569,
              "rgb(236,76,61)"
             ],
             [
              0.6901960784313725,
              "rgb(242,107,73)"
             ],
             [
              0.7529411764705882,
              "rgb(244,135,95)"
             ],
             [
              0.8156862745098039,
              "rgb(245,162,122)"
             ],
             [
              0.8784313725490196,
              "rgb(246,188,153)"
             ],
             [
              0.9411764705882353,
              "rgb(247,212,187)"
             ],
             [
              1,
              "rgb(250,234,220)"
             ]
            ],
            "type": "heatmapgl"
           }
          ],
          "histogram": [
           {
            "marker": {
             "colorbar": {
              "outlinewidth": 0,
              "tickcolor": "rgb(36,36,36)",
              "ticklen": 8,
              "ticks": "outside",
              "tickwidth": 2
             }
            },
            "type": "histogram"
           }
          ],
          "histogram2d": [
           {
            "colorbar": {
             "outlinewidth": 0,
             "tickcolor": "rgb(36,36,36)",
             "ticklen": 8,
             "ticks": "outside",
             "tickwidth": 2
            },
            "colorscale": [
             [
              0,
              "rgb(2,4,25)"
             ],
             [
              0.06274509803921569,
              "rgb(24,15,41)"
             ],
             [
              0.12549019607843137,
              "rgb(47,23,57)"
             ],
             [
              0.18823529411764706,
              "rgb(71,28,72)"
             ],
             [
              0.25098039215686274,
              "rgb(97,30,82)"
             ],
             [
              0.3137254901960784,
              "rgb(123,30,89)"
             ],
             [
              0.3764705882352941,
              "rgb(150,27,91)"
             ],
             [
              0.4392156862745098,
              "rgb(177,22,88)"
             ],
             [
              0.5019607843137255,
              "rgb(203,26,79)"
             ],
             [
              0.5647058823529412,
              "rgb(223,47,67)"
             ],
             [
              0.6274509803921569,
              "rgb(236,76,61)"
             ],
             [
              0.6901960784313725,
              "rgb(242,107,73)"
             ],
             [
              0.7529411764705882,
              "rgb(244,135,95)"
             ],
             [
              0.8156862745098039,
              "rgb(245,162,122)"
             ],
             [
              0.8784313725490196,
              "rgb(246,188,153)"
             ],
             [
              0.9411764705882353,
              "rgb(247,212,187)"
             ],
             [
              1,
              "rgb(250,234,220)"
             ]
            ],
            "type": "histogram2d"
           }
          ],
          "histogram2dcontour": [
           {
            "colorbar": {
             "outlinewidth": 0,
             "tickcolor": "rgb(36,36,36)",
             "ticklen": 8,
             "ticks": "outside",
             "tickwidth": 2
            },
            "colorscale": [
             [
              0,
              "rgb(2,4,25)"
             ],
             [
              0.06274509803921569,
              "rgb(24,15,41)"
             ],
             [
              0.12549019607843137,
              "rgb(47,23,57)"
             ],
             [
              0.18823529411764706,
              "rgb(71,28,72)"
             ],
             [
              0.25098039215686274,
              "rgb(97,30,82)"
             ],
             [
              0.3137254901960784,
              "rgb(123,30,89)"
             ],
             [
              0.3764705882352941,
              "rgb(150,27,91)"
             ],
             [
              0.4392156862745098,
              "rgb(177,22,88)"
             ],
             [
              0.5019607843137255,
              "rgb(203,26,79)"
             ],
             [
              0.5647058823529412,
              "rgb(223,47,67)"
             ],
             [
              0.6274509803921569,
              "rgb(236,76,61)"
             ],
             [
              0.6901960784313725,
              "rgb(242,107,73)"
             ],
             [
              0.7529411764705882,
              "rgb(244,135,95)"
             ],
             [
              0.8156862745098039,
              "rgb(245,162,122)"
             ],
             [
              0.8784313725490196,
              "rgb(246,188,153)"
             ],
             [
              0.9411764705882353,
              "rgb(247,212,187)"
             ],
             [
              1,
              "rgb(250,234,220)"
             ]
            ],
            "type": "histogram2dcontour"
           }
          ],
          "mesh3d": [
           {
            "colorbar": {
             "outlinewidth": 0,
             "tickcolor": "rgb(36,36,36)",
             "ticklen": 8,
             "ticks": "outside",
             "tickwidth": 2
            },
            "type": "mesh3d"
           }
          ],
          "parcoords": [
           {
            "line": {
             "colorbar": {
              "outlinewidth": 0,
              "tickcolor": "rgb(36,36,36)",
              "ticklen": 8,
              "ticks": "outside",
              "tickwidth": 2
             }
            },
            "type": "parcoords"
           }
          ],
          "pie": [
           {
            "automargin": true,
            "type": "pie"
           }
          ],
          "scatter": [
           {
            "marker": {
             "colorbar": {
              "outlinewidth": 0,
              "tickcolor": "rgb(36,36,36)",
              "ticklen": 8,
              "ticks": "outside",
              "tickwidth": 2
             }
            },
            "type": "scatter"
           }
          ],
          "scatter3d": [
           {
            "line": {
             "colorbar": {
              "outlinewidth": 0,
              "tickcolor": "rgb(36,36,36)",
              "ticklen": 8,
              "ticks": "outside",
              "tickwidth": 2
             }
            },
            "marker": {
             "colorbar": {
              "outlinewidth": 0,
              "tickcolor": "rgb(36,36,36)",
              "ticklen": 8,
              "ticks": "outside",
              "tickwidth": 2
             }
            },
            "type": "scatter3d"
           }
          ],
          "scattercarpet": [
           {
            "marker": {
             "colorbar": {
              "outlinewidth": 0,
              "tickcolor": "rgb(36,36,36)",
              "ticklen": 8,
              "ticks": "outside",
              "tickwidth": 2
             }
            },
            "type": "scattercarpet"
           }
          ],
          "scattergeo": [
           {
            "marker": {
             "colorbar": {
              "outlinewidth": 0,
              "tickcolor": "rgb(36,36,36)",
              "ticklen": 8,
              "ticks": "outside",
              "tickwidth": 2
             }
            },
            "type": "scattergeo"
           }
          ],
          "scattergl": [
           {
            "marker": {
             "colorbar": {
              "outlinewidth": 0,
              "tickcolor": "rgb(36,36,36)",
              "ticklen": 8,
              "ticks": "outside",
              "tickwidth": 2
             }
            },
            "type": "scattergl"
           }
          ],
          "scattermapbox": [
           {
            "marker": {
             "colorbar": {
              "outlinewidth": 0,
              "tickcolor": "rgb(36,36,36)",
              "ticklen": 8,
              "ticks": "outside",
              "tickwidth": 2
             }
            },
            "type": "scattermapbox"
           }
          ],
          "scatterpolar": [
           {
            "marker": {
             "colorbar": {
              "outlinewidth": 0,
              "tickcolor": "rgb(36,36,36)",
              "ticklen": 8,
              "ticks": "outside",
              "tickwidth": 2
             }
            },
            "type": "scatterpolar"
           }
          ],
          "scatterpolargl": [
           {
            "marker": {
             "colorbar": {
              "outlinewidth": 0,
              "tickcolor": "rgb(36,36,36)",
              "ticklen": 8,
              "ticks": "outside",
              "tickwidth": 2
             }
            },
            "type": "scatterpolargl"
           }
          ],
          "scatterternary": [
           {
            "marker": {
             "colorbar": {
              "outlinewidth": 0,
              "tickcolor": "rgb(36,36,36)",
              "ticklen": 8,
              "ticks": "outside",
              "tickwidth": 2
             }
            },
            "type": "scatterternary"
           }
          ],
          "surface": [
           {
            "colorbar": {
             "outlinewidth": 0,
             "tickcolor": "rgb(36,36,36)",
             "ticklen": 8,
             "ticks": "outside",
             "tickwidth": 2
            },
            "colorscale": [
             [
              0,
              "rgb(2,4,25)"
             ],
             [
              0.06274509803921569,
              "rgb(24,15,41)"
             ],
             [
              0.12549019607843137,
              "rgb(47,23,57)"
             ],
             [
              0.18823529411764706,
              "rgb(71,28,72)"
             ],
             [
              0.25098039215686274,
              "rgb(97,30,82)"
             ],
             [
              0.3137254901960784,
              "rgb(123,30,89)"
             ],
             [
              0.3764705882352941,
              "rgb(150,27,91)"
             ],
             [
              0.4392156862745098,
              "rgb(177,22,88)"
             ],
             [
              0.5019607843137255,
              "rgb(203,26,79)"
             ],
             [
              0.5647058823529412,
              "rgb(223,47,67)"
             ],
             [
              0.6274509803921569,
              "rgb(236,76,61)"
             ],
             [
              0.6901960784313725,
              "rgb(242,107,73)"
             ],
             [
              0.7529411764705882,
              "rgb(244,135,95)"
             ],
             [
              0.8156862745098039,
              "rgb(245,162,122)"
             ],
             [
              0.8784313725490196,
              "rgb(246,188,153)"
             ],
             [
              0.9411764705882353,
              "rgb(247,212,187)"
             ],
             [
              1,
              "rgb(250,234,220)"
             ]
            ],
            "type": "surface"
           }
          ],
          "table": [
           {
            "cells": {
             "fill": {
              "color": "rgb(231,231,240)"
             },
             "line": {
              "color": "white"
             }
            },
            "header": {
             "fill": {
              "color": "rgb(183,183,191)"
             },
             "line": {
              "color": "white"
             }
            },
            "type": "table"
           }
          ]
         },
         "layout": {
          "annotationdefaults": {
           "arrowcolor": "rgb(67,103,167)"
          },
          "coloraxis": {
           "colorbar": {
            "outlinewidth": 0,
            "tickcolor": "rgb(36,36,36)",
            "ticklen": 8,
            "ticks": "outside",
            "tickwidth": 2
           }
          },
          "colorscale": {
           "sequential": [
            [
             0,
             "rgb(2,4,25)"
            ],
            [
             0.06274509803921569,
             "rgb(24,15,41)"
            ],
            [
             0.12549019607843137,
             "rgb(47,23,57)"
            ],
            [
             0.18823529411764706,
             "rgb(71,28,72)"
            ],
            [
             0.25098039215686274,
             "rgb(97,30,82)"
            ],
            [
             0.3137254901960784,
             "rgb(123,30,89)"
            ],
            [
             0.3764705882352941,
             "rgb(150,27,91)"
            ],
            [
             0.4392156862745098,
             "rgb(177,22,88)"
            ],
            [
             0.5019607843137255,
             "rgb(203,26,79)"
            ],
            [
             0.5647058823529412,
             "rgb(223,47,67)"
            ],
            [
             0.6274509803921569,
             "rgb(236,76,61)"
            ],
            [
             0.6901960784313725,
             "rgb(242,107,73)"
            ],
            [
             0.7529411764705882,
             "rgb(244,135,95)"
            ],
            [
             0.8156862745098039,
             "rgb(245,162,122)"
            ],
            [
             0.8784313725490196,
             "rgb(246,188,153)"
            ],
            [
             0.9411764705882353,
             "rgb(247,212,187)"
            ],
            [
             1,
             "rgb(250,234,220)"
            ]
           ],
           "sequentialminus": [
            [
             0,
             "rgb(2,4,25)"
            ],
            [
             0.06274509803921569,
             "rgb(24,15,41)"
            ],
            [
             0.12549019607843137,
             "rgb(47,23,57)"
            ],
            [
             0.18823529411764706,
             "rgb(71,28,72)"
            ],
            [
             0.25098039215686274,
             "rgb(97,30,82)"
            ],
            [
             0.3137254901960784,
             "rgb(123,30,89)"
            ],
            [
             0.3764705882352941,
             "rgb(150,27,91)"
            ],
            [
             0.4392156862745098,
             "rgb(177,22,88)"
            ],
            [
             0.5019607843137255,
             "rgb(203,26,79)"
            ],
            [
             0.5647058823529412,
             "rgb(223,47,67)"
            ],
            [
             0.6274509803921569,
             "rgb(236,76,61)"
            ],
            [
             0.6901960784313725,
             "rgb(242,107,73)"
            ],
            [
             0.7529411764705882,
             "rgb(244,135,95)"
            ],
            [
             0.8156862745098039,
             "rgb(245,162,122)"
            ],
            [
             0.8784313725490196,
             "rgb(246,188,153)"
            ],
            [
             0.9411764705882353,
             "rgb(247,212,187)"
            ],
            [
             1,
             "rgb(250,234,220)"
            ]
           ]
          },
          "colorway": [
           "rgb(76,114,176)",
           "rgb(221,132,82)",
           "rgb(85,168,104)",
           "rgb(196,78,82)",
           "rgb(129,114,179)",
           "rgb(147,120,96)",
           "rgb(218,139,195)",
           "rgb(140,140,140)",
           "rgb(204,185,116)",
           "rgb(100,181,205)"
          ],
          "font": {
           "color": "rgb(36,36,36)"
          },
          "geo": {
           "bgcolor": "white",
           "lakecolor": "white",
           "landcolor": "rgb(234,234,242)",
           "showlakes": true,
           "showland": true,
           "subunitcolor": "white"
          },
          "hoverlabel": {
           "align": "left"
          },
          "hovermode": "closest",
          "paper_bgcolor": "white",
          "plot_bgcolor": "rgb(234,234,242)",
          "polar": {
           "angularaxis": {
            "gridcolor": "white",
            "linecolor": "white",
            "showgrid": true,
            "ticks": ""
           },
           "bgcolor": "rgb(234,234,242)",
           "radialaxis": {
            "gridcolor": "white",
            "linecolor": "white",
            "showgrid": true,
            "ticks": ""
           }
          },
          "scene": {
           "xaxis": {
            "backgroundcolor": "rgb(234,234,242)",
            "gridcolor": "white",
            "gridwidth": 2,
            "linecolor": "white",
            "showbackground": true,
            "showgrid": true,
            "ticks": "",
            "zerolinecolor": "white"
           },
           "yaxis": {
            "backgroundcolor": "rgb(234,234,242)",
            "gridcolor": "white",
            "gridwidth": 2,
            "linecolor": "white",
            "showbackground": true,
            "showgrid": true,
            "ticks": "",
            "zerolinecolor": "white"
           },
           "zaxis": {
            "backgroundcolor": "rgb(234,234,242)",
            "gridcolor": "white",
            "gridwidth": 2,
            "linecolor": "white",
            "showbackground": true,
            "showgrid": true,
            "ticks": "",
            "zerolinecolor": "white"
           }
          },
          "shapedefaults": {
           "fillcolor": "rgb(67,103,167)",
           "line": {
            "width": 0
           },
           "opacity": 0.5
          },
          "ternary": {
           "aaxis": {
            "gridcolor": "white",
            "linecolor": "white",
            "showgrid": true,
            "ticks": ""
           },
           "baxis": {
            "gridcolor": "white",
            "linecolor": "white",
            "showgrid": true,
            "ticks": ""
           },
           "bgcolor": "rgb(234,234,242)",
           "caxis": {
            "gridcolor": "white",
            "linecolor": "white",
            "showgrid": true,
            "ticks": ""
           }
          },
          "xaxis": {
           "automargin": true,
           "gridcolor": "white",
           "linecolor": "white",
           "showgrid": true,
           "ticks": "",
           "title": {
            "standoff": 15
           },
           "zerolinecolor": "white"
          },
          "yaxis": {
           "automargin": true,
           "gridcolor": "white",
           "linecolor": "white",
           "showgrid": true,
           "ticks": "",
           "title": {
            "standoff": 15
           },
           "zerolinecolor": "white"
          }
         }
        },
        "xaxis": {
         "anchor": "y",
         "autorange": true,
         "domain": [
          0,
          1
         ],
         "range": [
          0,
          132.6315789473684
         ],
         "title": {
          "text": "<b>Count</b>"
         }
        },
        "yaxis": {
         "anchor": "x",
         "autorange": true,
         "categoryorder": "total ascending",
         "domain": [
          0,
          1
         ],
         "range": [
          -0.5,
          11.5
         ],
         "ticksuffix": "   ",
         "title": {
          "text": "<b>Domain</b>"
         },
         "type": "category"
        }
       }
      },
      "image/png": "[encoded data removed]",
      "text/html": [
       "<div>\n",
       "        \n",
       "        \n",
       "            <div id=\"c287e1e6-2186-4e49-a0ca-2101395b7db2\" class=\"plotly-graph-div\" style=\"height:600px; width:100%;\"></div>\n",
       "            <script type=\"text/javascript\">\n",
       "                require([\"plotly\"], function(Plotly) {\n",
       "                    window.PLOTLYENV=window.PLOTLYENV || {};\n",
       "                    \n",
       "                if (document.getElementById(\"c287e1e6-2186-4e49-a0ca-2101395b7db2\")) {\n",
       "                    Plotly.newPlot(\n",
       "                        'c287e1e6-2186-4e49-a0ca-2101395b7db2',\n",
       "                        [{\"alignmentgroup\": \"True\", \"bingroup\": \"y\", \"histfunc\": \"count\", \"hovertemplate\": \"count=%{x}<br>label_var=%{y}<extra></extra>\", \"legendgroup\": \"\", \"marker\": {\"color\": \"rgb(76,114,176)\"}, \"name\": \"\", \"offsetgroup\": \"\", \"orientation\": \"h\", \"showlegend\": false, \"type\": \"histogram\", \"xaxis\": \"x\", \"y\": [\"Code Status Limitations\", \"Family (Undefined)\", \"Code Status Limitations\", \"None\", \"None\", \"Code Status Limitations\", \"Code Status Limitations\", \"Family (Undefined)\", \"Goals of Care\", \"Family (Undefined)\", \"Reference to Discussion\", \"Family (Undefined)\", \"Code Status Limitations\", \"None\", \"Code Status Limitations\", \"Child\", \"Goals of Care\", \"None\", \"None\", \"Code Status Limitations\", \"Family (Undefined)\", \"Code Status Limitations\", \"Code Status Limitations\", \"Spouse/Partner\", \"Code Status Limitations\", \"Child\", \"Code Status Limitations\", \"Family (Undefined)\", \"Goals of Care\", \"Code Status Limitations\", \"Child\", \"Code Status Limitations\", \"Family (Undefined)\", \"Reference to Discussion\", \"Family (Undefined)\", \"Child\", \"Spouse/Partner\", \"Family (Undefined)\", \"Child\", \"Code Status Limitations\", \"Family (Undefined)\", \"Code Status Limitations\", \"None\", \"Family (Undefined)\", \"Goals of Care\", \"Family (Undefined)\", \"Goals of Care\", \"Code Status Limitations\", \"Code Status Limitations\", \"Goals of Care\", \"Family (Undefined)\", \"Reference to Discussion\", \"Family (Undefined)\", \"Reference to Discussion\", \"Goals of Care\", \"Code Status Limitations\", \"Child\", \"Spouse/Partner\", \"Sibling\", \"Sibling\", \"Family (Undefined)\", \"Code Status Limitations\", \"Sibling\", \"Family (Undefined)\", \"Family (Undefined)\", \"Family (Undefined)\", \"Parent\", \"Spouse/Partner\", \"Spouse/Partner\", \"Family (Undefined)\", \"Child\", \"Family (Undefined)\", \"Sibling\", \"Family (Undefined)\", \"Reference to Discussion\", \"Goals of Care\", \"None\", \"Reference to Discussion\", \"Family (Undefined)\", \"Goals of Care\", \"None\", \"Family (Undefined)\", \"Family (Undefined)\", \"Family (Undefined)\", \"Code Status Limitations\", \"Code Status Limitations\", \"Family (Undefined)\", \"Code Status Limitations\", \"Family (Undefined)\", \"Family (Undefined)\", \"Family (Undefined)\", \"Family (Undefined)\", \"Family (Undefined)\", \"Sibling\", \"Parent\", \"Code Status Limitations\", \"Extended Family\", \"None\", \"Sibling\", \"Proxy/Legal Guardian\", \"Code Status Limitations\", \"Code Status Limitations\", \"None\", \"Code Status Limitations\", \"Code Status Limitations\", \"Sibling\", \"Code Status Limitations\", \"Proxy/Legal Guardian\", \"Code Status Limitations\", \"Sibling\", \"Spouse/Partner\", \"Code Status Limitations\", \"Spouse/Partner\", \"Spouse/Partner\", \"Family (Undefined)\", \"Code Status Limitations\", \"Spouse/Partner\", \"Spouse/Partner\", \"Child\", \"Code Status Limitations\", \"Spouse/Partner\", \"Child\", \"Reference to Discussion\", \"Goals of Care\", \"Code Status Limitations\", \"Code Status Limitations\", \"Code Status Limitations\", \"Spouse/Partner\", \"Reference to Discussion\", \"Code Status Limitations\", \"None\", \"Goals of Care\", \"Goals of Care\", \"Code Status Limitations\", \"Child\", \"None\", \"None\", \"Code Status Limitations\", \"Code Status Limitations\", \"Code Status Limitations\", \"None\", \"None\", \"Spouse/Partner\", \"Code Status Limitations\", \"Code Status Limitations\", \"Spouse/Partner\", \"Spouse/Partner\", \"Spouse/Partner\", \"Reference to Discussion\", \"Code Status Limitations\", \"Family (Undefined)\", \"None\", \"Code Status Limitations\", \"Family (Undefined)\", \"Code Status Limitations\", \"Family (Undefined)\", \"Goals of Care\", \"Sibling\", \"Code Status Limitations\", \"Code Status Limitations\", \"Reference to Discussion\", \"Sibling\", \"Sibling\", \"None\", \"None\", \"None\", \"Spouse/Partner\", \"Spouse/Partner\", \"Code Status Limitations\", \"Spouse/Partner\", \"None\", \"Spouse/Partner\", \"Code Status Limitations\", \"Family (Undefined)\", \"Spouse/Partner\", \"Family (Undefined)\", \"Family (Undefined)\", \"Spouse/Partner\", \"Code Status Limitations\", \"None\", \"Goals of Care\", \"Reference to Discussion\", \"Code Status Limitations\", \"Reference to Discussion\", \"Child\", \"Reference to Discussion\", \"Reference to Discussion\", \"Reference to Discussion\", \"Goals of Care\", \"Family (Undefined)\", \"Code Status Limitations\", \"Code Status Limitations\", \"Goals of Care\", \"Goals of Care\", \"Code Status Limitations\", \"Family (Undefined)\", \"None\", \"Goals of Care\", \"Goals of Care\", \"Code Status Limitations\", \"Family (Undefined)\", \"Child\", \"None\", \"Family (Undefined)\", \"Goals of Care\", \"Child\", \"None\", \"Goals of Care\", \"Family (Undefined)\", \"Code Status Limitations\", \"Code Status Limitations\", \"Code Status Limitations\", \"Goals of Care\", \"Code Status Limitations\", \"Child\", \"None\", \"None\", \"Child\", \"Reference to Discussion\", \"Child\", \"Code Status Limitations\", \"Code Status Limitations\", \"Child\", \"Reference to Discussion\", \"Code Status Limitations\", \"Reference to Discussion\", \"Child\", \"None\", \"None\", \"None\", \"Code Status Limitations\", \"Child\", \"Child\", \"Child\", \"Code Status Limitations\", \"Reference to Discussion\", \"Family (Undefined)\", \"Code Status Limitations\", \"Family (Undefined)\", \"Reference to Discussion\", \"None\", \"Family (Undefined)\", \"Code Status Limitations\", \"Family (Undefined)\", \"Family (Undefined)\", \"Family (Undefined)\", \"Family (Undefined)\", \"None\", \"Goals of Care\", \"Spouse/Partner\", \"Code Status Limitations\", \"Code Status Limitations\", \"Code Status Limitations\", \"None\", \"None\", \"Code Status Limitations\", \"Code Status Limitations\", \"None\", \"None\", \"Code Status Limitations\", \"Code Status Limitations\", \"Code Status Limitations\", \"Code Status Limitations\", \"Spouse/Partner\", \"Code Status Limitations\", \"Code Status Limitations\", \"Code Status Limitations\", \"Code Status Limitations\", \"Family (Undefined)\", \"None\", \"None\", \"Child\", \"Code Status Limitations\", \"Goals of Care\", \"Child\", \"Spouse/Partner\", \"None\", \"Code Status Limitations\", \"Code Status Limitations\", \"None\", \"Family (Undefined)\", \"Code Status Limitations\", \"Spouse/Partner\", \"Child\", \"Family (Undefined)\", \"Code Status Limitations\", \"Code Status Limitations\", \"Family (Undefined)\", \"Code Status Limitations\", \"Friend\", \"Code Status Limitations\", \"None\", \"Reference to Discussion\", \"Goals of Care\", \"Goals of Care\", \"None\", \"None\", \"Code Status Limitations\", \"Code Status Limitations\", \"Code Status Limitations\", \"Code Status Limitations\", \"None\", \"None\", \"None\", \"None\", \"None\", \"Code Status Limitations\", \"Spouse/Partner\", \"Family (Undefined)\", \"Code Status Limitations\", \"Spouse/Partner\", \"Spouse/Partner\", \"Extended Family\", \"Code Status Limitations\", \"Code Status Limitations\", \"Code Status Limitations\", \"None\", \"None\", \"None\", \"Code Status Limitations\", \"None\", \"Goals of Care\", \"Code Status Limitations\", \"Spouse/Partner\", \"Code Status Limitations\", \"Goals of Care\", \"Goals of Care\", \"Code Status Limitations\", \"Child\", \"None\", \"None\", \"None\", \"None\", \"None\", \"Extended Family\", \"Code Status Limitations\", \"Code Status Limitations\", \"Code Status Limitations\", \"Family (Undefined)\", \"Goals of Care\", \"Child\", \"Child\", \"Spouse/Partner\", \"Code Status Limitations\", \"Goals of Care\", \"Goals of Care\", \"Child\", \"Child\", \"Child\", \"Spouse/Partner\", \"Code Status Limitations\", \"None\", \"Code Status Limitations\", \"None\", \"Goals of Care\", \"Spouse/Partner\", \"Code Status Limitations\", \"Child\", \"Code Status Limitations\", \"Goals of Care\", \"Family (Undefined)\", \"Code Status Limitations\", \"Goals of Care\", \"Family (Undefined)\", \"Reference to Discussion\", \"Code Status Limitations\", \"Family (Undefined)\", \"Spouse/Partner\", \"Code Status Limitations\", \"Family (Undefined)\", \"None\", \"Family (Undefined)\", \"Family (Undefined)\", \"Family (Undefined)\", \"Family (Undefined)\", \"Spouse/Partner\", \"Code Status Limitations\", \"Family (Undefined)\", \"Family (Undefined)\", \"Reference to Discussion\", \"Family (Undefined)\", \"None\", \"None\", \"None\", \"Family (Undefined)\", \"Goals of Care\", \"Family (Undefined)\", \"Proxy/Legal Guardian\", \"Reference to Discussion\", \"Proxy/Legal Guardian\", \"Code Status Limitations\", \"Proxy/Legal Guardian\", \"Code Status Limitations\", \"Goals of Care\", \"Reference to Discussion\", \"Proxy/Legal Guardian\", \"Goals of Care\", \"Code Status Limitations\", \"None\", \"Goals of Care\", \"Code Status Limitations\", \"Goals of Care\", \"Spouse/Partner\", \"Code Status Limitations\", \"Spouse/Partner\", \"Spouse/Partner\", \"Child\", \"Spouse/Partner\", \"None\", \"None\", \"None\", \"None\", \"Code Status Limitations\", \"Code Status Limitations\", \"Spouse/Partner\", \"None\", \"None\", \"None\", \"None\", \"Sibling\", \"Sibling\", \"Family (Undefined)\", \"Code Status Limitations\", \"Code Status Limitations\", \"None\", \"Code Status Limitations\", \"Sibling\", \"Family (Undefined)\", \"Code Status Limitations\", \"Code Status Limitations\", \"Sibling\", \"Reference to Discussion\", \"Code Status Limitations\", \"None\", \"Sibling\", \"Code Status Limitations\"], \"yaxis\": \"y\"}],\n",
       "                        {\"barmode\": \"group\", \"font\": {\"family\": \"Poppins\", \"size\": 16}, \"height\": 600, \"legend\": {\"tracegroupgap\": 0}, \"margin\": {\"t\": 60}, \"template\": {\"data\": {\"bar\": [{\"error_x\": {\"color\": \"rgb(36,36,36)\"}, \"error_y\": {\"color\": \"rgb(36,36,36)\"}, \"marker\": {\"line\": {\"color\": \"rgb(234,234,242)\", \"width\": 0.5}}, \"type\": \"bar\"}], \"barpolar\": [{\"marker\": {\"line\": {\"color\": \"rgb(234,234,242)\", \"width\": 0.5}}, \"type\": \"barpolar\"}], \"carpet\": [{\"aaxis\": {\"endlinecolor\": \"rgb(36,36,36)\", \"gridcolor\": \"white\", \"linecolor\": \"white\", \"minorgridcolor\": \"white\", \"startlinecolor\": \"rgb(36,36,36)\"}, \"baxis\": {\"endlinecolor\": \"rgb(36,36,36)\", \"gridcolor\": \"white\", \"linecolor\": \"white\", \"minorgridcolor\": \"white\", \"startlinecolor\": \"rgb(36,36,36)\"}, \"type\": \"carpet\"}], \"choropleth\": [{\"colorbar\": {\"outlinewidth\": 0, \"tickcolor\": \"rgb(36,36,36)\", \"ticklen\": 8, \"ticks\": \"outside\", \"tickwidth\": 2}, \"type\": \"choropleth\"}], \"contour\": [{\"colorbar\": {\"outlinewidth\": 0, \"tickcolor\": \"rgb(36,36,36)\", \"ticklen\": 8, \"ticks\": \"outside\", \"tickwidth\": 2}, \"colorscale\": [[0.0, \"rgb(2,4,25)\"], [0.06274509803921569, \"rgb(24,15,41)\"], [0.12549019607843137, \"rgb(47,23,57)\"], [0.18823529411764706, \"rgb(71,28,72)\"], [0.25098039215686274, \"rgb(97,30,82)\"], [0.3137254901960784, \"rgb(123,30,89)\"], [0.3764705882352941, \"rgb(150,27,91)\"], [0.4392156862745098, \"rgb(177,22,88)\"], [0.5019607843137255, \"rgb(203,26,79)\"], [0.5647058823529412, \"rgb(223,47,67)\"], [0.6274509803921569, \"rgb(236,76,61)\"], [0.6901960784313725, \"rgb(242,107,73)\"], [0.7529411764705882, \"rgb(244,135,95)\"], [0.8156862745098039, \"rgb(245,162,122)\"], [0.8784313725490196, \"rgb(246,188,153)\"], [0.9411764705882353, \"rgb(247,212,187)\"], [1.0, \"rgb(250,234,220)\"]], \"type\": \"contour\"}], \"contourcarpet\": [{\"colorbar\": {\"outlinewidth\": 0, \"tickcolor\": \"rgb(36,36,36)\", \"ticklen\": 8, \"ticks\": \"outside\", \"tickwidth\": 2}, \"type\": \"contourcarpet\"}], \"heatmap\": [{\"colorbar\": {\"outlinewidth\": 0, \"tickcolor\": \"rgb(36,36,36)\", \"ticklen\": 8, \"ticks\": \"outside\", \"tickwidth\": 2}, \"colorscale\": [[0.0, \"rgb(2,4,25)\"], [0.06274509803921569, \"rgb(24,15,41)\"], [0.12549019607843137, \"rgb(47,23,57)\"], [0.18823529411764706, \"rgb(71,28,72)\"], [0.25098039215686274, \"rgb(97,30,82)\"], [0.3137254901960784, \"rgb(123,30,89)\"], [0.3764705882352941, \"rgb(150,27,91)\"], [0.4392156862745098, \"rgb(177,22,88)\"], [0.5019607843137255, \"rgb(203,26,79)\"], [0.5647058823529412, \"rgb(223,47,67)\"], [0.6274509803921569, \"rgb(236,76,61)\"], [0.6901960784313725, \"rgb(242,107,73)\"], [0.7529411764705882, \"rgb(244,135,95)\"], [0.8156862745098039, \"rgb(245,162,122)\"], [0.8784313725490196, \"rgb(246,188,153)\"], [0.9411764705882353, \"rgb(247,212,187)\"], [1.0, \"rgb(250,234,220)\"]], \"type\": \"heatmap\"}], \"heatmapgl\": [{\"colorbar\": {\"outlinewidth\": 0, \"tickcolor\": \"rgb(36,36,36)\", \"ticklen\": 8, \"ticks\": \"outside\", \"tickwidth\": 2}, \"colorscale\": [[0.0, \"rgb(2,4,25)\"], [0.06274509803921569, \"rgb(24,15,41)\"], [0.12549019607843137, \"rgb(47,23,57)\"], [0.18823529411764706, \"rgb(71,28,72)\"], [0.25098039215686274, \"rgb(97,30,82)\"], [0.3137254901960784, \"rgb(123,30,89)\"], [0.3764705882352941, \"rgb(150,27,91)\"], [0.4392156862745098, \"rgb(177,22,88)\"], [0.5019607843137255, \"rgb(203,26,79)\"], [0.5647058823529412, \"rgb(223,47,67)\"], [0.6274509803921569, \"rgb(236,76,61)\"], [0.6901960784313725, \"rgb(242,107,73)\"], [0.7529411764705882, \"rgb(244,135,95)\"], [0.8156862745098039, \"rgb(245,162,122)\"], [0.8784313725490196, \"rgb(246,188,153)\"], [0.9411764705882353, \"rgb(247,212,187)\"], [1.0, \"rgb(250,234,220)\"]], \"type\": \"heatmapgl\"}], \"histogram\": [{\"marker\": {\"colorbar\": {\"outlinewidth\": 0, \"tickcolor\": \"rgb(36,36,36)\", \"ticklen\": 8, \"ticks\": \"outside\", \"tickwidth\": 2}}, \"type\": \"histogram\"}], \"histogram2d\": [{\"colorbar\": {\"outlinewidth\": 0, \"tickcolor\": \"rgb(36,36,36)\", \"ticklen\": 8, \"ticks\": \"outside\", \"tickwidth\": 2}, \"colorscale\": [[0.0, \"rgb(2,4,25)\"], [0.06274509803921569, \"rgb(24,15,41)\"], [0.12549019607843137, \"rgb(47,23,57)\"], [0.18823529411764706, \"rgb(71,28,72)\"], [0.25098039215686274, \"rgb(97,30,82)\"], [0.3137254901960784, \"rgb(123,30,89)\"], [0.3764705882352941, \"rgb(150,27,91)\"], [0.4392156862745098, \"rgb(177,22,88)\"], [0.5019607843137255, \"rgb(203,26,79)\"], [0.5647058823529412, \"rgb(223,47,67)\"], [0.6274509803921569, \"rgb(236,76,61)\"], [0.6901960784313725, \"rgb(242,107,73)\"], [0.7529411764705882, \"rgb(244,135,95)\"], [0.8156862745098039, \"rgb(245,162,122)\"], [0.8784313725490196, \"rgb(246,188,153)\"], [0.9411764705882353, \"rgb(247,212,187)\"], [1.0, \"rgb(250,234,220)\"]], \"type\": \"histogram2d\"}], \"histogram2dcontour\": [{\"colorbar\": {\"outlinewidth\": 0, \"tickcolor\": \"rgb(36,36,36)\", \"ticklen\": 8, \"ticks\": \"outside\", \"tickwidth\": 2}, \"colorscale\": [[0.0, \"rgb(2,4,25)\"], [0.06274509803921569, \"rgb(24,15,41)\"], [0.12549019607843137, \"rgb(47,23,57)\"], [0.18823529411764706, \"rgb(71,28,72)\"], [0.25098039215686274, \"rgb(97,30,82)\"], [0.3137254901960784, \"rgb(123,30,89)\"], [0.3764705882352941, \"rgb(150,27,91)\"], [0.4392156862745098, \"rgb(177,22,88)\"], [0.5019607843137255, \"rgb(203,26,79)\"], [0.5647058823529412, \"rgb(223,47,67)\"], [0.6274509803921569, \"rgb(236,76,61)\"], [0.6901960784313725, \"rgb(242,107,73)\"], [0.7529411764705882, \"rgb(244,135,95)\"], [0.8156862745098039, \"rgb(245,162,122)\"], [0.8784313725490196, \"rgb(246,188,153)\"], [0.9411764705882353, \"rgb(247,212,187)\"], [1.0, \"rgb(250,234,220)\"]], \"type\": \"histogram2dcontour\"}], \"mesh3d\": [{\"colorbar\": {\"outlinewidth\": 0, \"tickcolor\": \"rgb(36,36,36)\", \"ticklen\": 8, \"ticks\": \"outside\", \"tickwidth\": 2}, \"type\": \"mesh3d\"}], \"parcoords\": [{\"line\": {\"colorbar\": {\"outlinewidth\": 0, \"tickcolor\": \"rgb(36,36,36)\", \"ticklen\": 8, \"ticks\": \"outside\", \"tickwidth\": 2}}, \"type\": \"parcoords\"}], \"pie\": [{\"automargin\": true, \"type\": \"pie\"}], \"scatter\": [{\"marker\": {\"colorbar\": {\"outlinewidth\": 0, \"tickcolor\": \"rgb(36,36,36)\", \"ticklen\": 8, \"ticks\": \"outside\", \"tickwidth\": 2}}, \"type\": \"scatter\"}], \"scatter3d\": [{\"line\": {\"colorbar\": {\"outlinewidth\": 0, \"tickcolor\": \"rgb(36,36,36)\", \"ticklen\": 8, \"ticks\": \"outside\", \"tickwidth\": 2}}, \"marker\": {\"colorbar\": {\"outlinewidth\": 0, \"tickcolor\": \"rgb(36,36,36)\", \"ticklen\": 8, \"ticks\": \"outside\", \"tickwidth\": 2}}, \"type\": \"scatter3d\"}], \"scattercarpet\": [{\"marker\": {\"colorbar\": {\"outlinewidth\": 0, \"tickcolor\": \"rgb(36,36,36)\", \"ticklen\": 8, \"ticks\": \"outside\", \"tickwidth\": 2}}, \"type\": \"scattercarpet\"}], \"scattergeo\": [{\"marker\": {\"colorbar\": {\"outlinewidth\": 0, \"tickcolor\": \"rgb(36,36,36)\", \"ticklen\": 8, \"ticks\": \"outside\", \"tickwidth\": 2}}, \"type\": \"scattergeo\"}], \"scattergl\": [{\"marker\": {\"colorbar\": {\"outlinewidth\": 0, \"tickcolor\": \"rgb(36,36,36)\", \"ticklen\": 8, \"ticks\": \"outside\", \"tickwidth\": 2}}, \"type\": \"scattergl\"}], \"scattermapbox\": [{\"marker\": {\"colorbar\": {\"outlinewidth\": 0, \"tickcolor\": \"rgb(36,36,36)\", \"ticklen\": 8, \"ticks\": \"outside\", \"tickwidth\": 2}}, \"type\": \"scattermapbox\"}], \"scatterpolar\": [{\"marker\": {\"colorbar\": {\"outlinewidth\": 0, \"tickcolor\": \"rgb(36,36,36)\", \"ticklen\": 8, \"ticks\": \"outside\", \"tickwidth\": 2}}, \"type\": \"scatterpolar\"}], \"scatterpolargl\": [{\"marker\": {\"colorbar\": {\"outlinewidth\": 0, \"tickcolor\": \"rgb(36,36,36)\", \"ticklen\": 8, \"ticks\": \"outside\", \"tickwidth\": 2}}, \"type\": \"scatterpolargl\"}], \"scatterternary\": [{\"marker\": {\"colorbar\": {\"outlinewidth\": 0, \"tickcolor\": \"rgb(36,36,36)\", \"ticklen\": 8, \"ticks\": \"outside\", \"tickwidth\": 2}}, \"type\": \"scatterternary\"}], \"surface\": [{\"colorbar\": {\"outlinewidth\": 0, \"tickcolor\": \"rgb(36,36,36)\", \"ticklen\": 8, \"ticks\": \"outside\", \"tickwidth\": 2}, \"colorscale\": [[0.0, \"rgb(2,4,25)\"], [0.06274509803921569, \"rgb(24,15,41)\"], [0.12549019607843137, \"rgb(47,23,57)\"], [0.18823529411764706, \"rgb(71,28,72)\"], [0.25098039215686274, \"rgb(97,30,82)\"], [0.3137254901960784, \"rgb(123,30,89)\"], [0.3764705882352941, \"rgb(150,27,91)\"], [0.4392156862745098, \"rgb(177,22,88)\"], [0.5019607843137255, \"rgb(203,26,79)\"], [0.5647058823529412, \"rgb(223,47,67)\"], [0.6274509803921569, \"rgb(236,76,61)\"], [0.6901960784313725, \"rgb(242,107,73)\"], [0.7529411764705882, \"rgb(244,135,95)\"], [0.8156862745098039, \"rgb(245,162,122)\"], [0.8784313725490196, \"rgb(246,188,153)\"], [0.9411764705882353, \"rgb(247,212,187)\"], [1.0, \"rgb(250,234,220)\"]], \"type\": \"surface\"}], \"table\": [{\"cells\": {\"fill\": {\"color\": \"rgb(231,231,240)\"}, \"line\": {\"color\": \"white\"}}, \"header\": {\"fill\": {\"color\": \"rgb(183,183,191)\"}, \"line\": {\"color\": \"white\"}}, \"type\": \"table\"}]}, \"layout\": {\"annotationdefaults\": {\"arrowcolor\": \"rgb(67,103,167)\"}, \"coloraxis\": {\"colorbar\": {\"outlinewidth\": 0, \"tickcolor\": \"rgb(36,36,36)\", \"ticklen\": 8, \"ticks\": \"outside\", \"tickwidth\": 2}}, \"colorscale\": {\"sequential\": [[0.0, \"rgb(2,4,25)\"], [0.06274509803921569, \"rgb(24,15,41)\"], [0.12549019607843137, \"rgb(47,23,57)\"], [0.18823529411764706, \"rgb(71,28,72)\"], [0.25098039215686274, \"rgb(97,30,82)\"], [0.3137254901960784, \"rgb(123,30,89)\"], [0.3764705882352941, \"rgb(150,27,91)\"], [0.4392156862745098, \"rgb(177,22,88)\"], [0.5019607843137255, \"rgb(203,26,79)\"], [0.5647058823529412, \"rgb(223,47,67)\"], [0.6274509803921569, \"rgb(236,76,61)\"], [0.6901960784313725, \"rgb(242,107,73)\"], [0.7529411764705882, \"rgb(244,135,95)\"], [0.8156862745098039, \"rgb(245,162,122)\"], [0.8784313725490196, \"rgb(246,188,153)\"], [0.9411764705882353, \"rgb(247,212,187)\"], [1.0, \"rgb(250,234,220)\"]], \"sequentialminus\": [[0.0, \"rgb(2,4,25)\"], [0.06274509803921569, \"rgb(24,15,41)\"], [0.12549019607843137, \"rgb(47,23,57)\"], [0.18823529411764706, \"rgb(71,28,72)\"], [0.25098039215686274, \"rgb(97,30,82)\"], [0.3137254901960784, \"rgb(123,30,89)\"], [0.3764705882352941, \"rgb(150,27,91)\"], [0.4392156862745098, \"rgb(177,22,88)\"], [0.5019607843137255, \"rgb(203,26,79)\"], [0.5647058823529412, \"rgb(223,47,67)\"], [0.6274509803921569, \"rgb(236,76,61)\"], [0.6901960784313725, \"rgb(242,107,73)\"], [0.7529411764705882, \"rgb(244,135,95)\"], [0.8156862745098039, \"rgb(245,162,122)\"], [0.8784313725490196, \"rgb(246,188,153)\"], [0.9411764705882353, \"rgb(247,212,187)\"], [1.0, \"rgb(250,234,220)\"]]}, \"colorway\": [\"rgb(76,114,176)\", \"rgb(221,132,82)\", \"rgb(85,168,104)\", \"rgb(196,78,82)\", \"rgb(129,114,179)\", \"rgb(147,120,96)\", \"rgb(218,139,195)\", \"rgb(140,140,140)\", \"rgb(204,185,116)\", \"rgb(100,181,205)\"], \"font\": {\"color\": \"rgb(36,36,36)\"}, \"geo\": {\"bgcolor\": \"white\", \"lakecolor\": \"white\", \"landcolor\": \"rgb(234,234,242)\", \"showlakes\": true, \"showland\": true, \"subunitcolor\": \"white\"}, \"hoverlabel\": {\"align\": \"left\"}, \"hovermode\": \"closest\", \"paper_bgcolor\": \"white\", \"plot_bgcolor\": \"rgb(234,234,242)\", \"polar\": {\"angularaxis\": {\"gridcolor\": \"white\", \"linecolor\": \"white\", \"showgrid\": true, \"ticks\": \"\"}, \"bgcolor\": \"rgb(234,234,242)\", \"radialaxis\": {\"gridcolor\": \"white\", \"linecolor\": \"white\", \"showgrid\": true, \"ticks\": \"\"}}, \"scene\": {\"xaxis\": {\"backgroundcolor\": \"rgb(234,234,242)\", \"gridcolor\": \"white\", \"gridwidth\": 2, \"linecolor\": \"white\", \"showbackground\": true, \"showgrid\": true, \"ticks\": \"\", \"zerolinecolor\": \"white\"}, \"yaxis\": {\"backgroundcolor\": \"rgb(234,234,242)\", \"gridcolor\": \"white\", \"gridwidth\": 2, \"linecolor\": \"white\", \"showbackground\": true, \"showgrid\": true, \"ticks\": \"\", \"zerolinecolor\": \"white\"}, \"zaxis\": {\"backgroundcolor\": \"rgb(234,234,242)\", \"gridcolor\": \"white\", \"gridwidth\": 2, \"linecolor\": \"white\", \"showbackground\": true, \"showgrid\": true, \"ticks\": \"\", \"zerolinecolor\": \"white\"}}, \"shapedefaults\": {\"fillcolor\": \"rgb(67,103,167)\", \"line\": {\"width\": 0}, \"opacity\": 0.5}, \"ternary\": {\"aaxis\": {\"gridcolor\": \"white\", \"linecolor\": \"white\", \"showgrid\": true, \"ticks\": \"\"}, \"baxis\": {\"gridcolor\": \"white\", \"linecolor\": \"white\", \"showgrid\": true, \"ticks\": \"\"}, \"bgcolor\": \"rgb(234,234,242)\", \"caxis\": {\"gridcolor\": \"white\", \"linecolor\": \"white\", \"showgrid\": true, \"ticks\": \"\"}}, \"xaxis\": {\"automargin\": true, \"gridcolor\": \"white\", \"linecolor\": \"white\", \"showgrid\": true, \"ticks\": \"\", \"title\": {\"standoff\": 15}, \"zerolinecolor\": \"white\"}, \"yaxis\": {\"automargin\": true, \"gridcolor\": \"white\", \"linecolor\": \"white\", \"showgrid\": true, \"ticks\": \"\", \"title\": {\"standoff\": 15}, \"zerolinecolor\": \"white\"}}}, \"xaxis\": {\"anchor\": \"y\", \"domain\": [0.0, 1.0], \"title\": {\"text\": \"<b>Count</b>\"}}, \"yaxis\": {\"anchor\": \"x\", \"categoryorder\": \"total ascending\", \"domain\": [0.0, 1.0], \"ticksuffix\": \"   \", \"title\": {\"text\": \"<b>Domain</b>\"}}},\n",
       "                        {\"responsive\": true}\n",
       "                    ).then(function(){\n",
       "                            \n",
       "var gd = document.getElementById('c287e1e6-2186-4e49-a0ca-2101395b7db2');\n",
       "var x = new MutationObserver(function (mutations, observer) {{\n",
       "        var display = window.getComputedStyle(gd).display;\n",
       "        if (!display || display === 'none') {{\n",
       "            console.log([gd, 'removed!']);\n",
       "            Plotly.purge(gd);\n",
       "            observer.disconnect();\n",
       "        }}\n",
       "}});\n",
       "\n",
       "// Listen for the removal of the full notebook cells\n",
       "var notebookContainer = gd.closest('#notebook-container');\n",
       "if (notebookContainer) {{\n",
       "    x.observe(notebookContainer, {childList: true});\n",
       "}}\n",
       "\n",
       "// Listen for the clearing of the current output cell\n",
       "var outputEl = gd.closest('.output');\n",
       "if (outputEl) {{\n",
       "    x.observe(outputEl, {childList: true});\n",
       "}}\n",
       "\n",
       "                        })\n",
       "                };\n",
       "                });\n",
       "            </script>\n",
       "        </div>"
      ]
     },
     "metadata": {},
     "output_type": "display_data"
    }
   ],
   "source": [
    "fig = px.histogram(\n",
    "    df,\n",
    "    y=\"label_var\",\n",
    "    barmode=\"group\",\n",
    "    histfunc=\"count\",\n",
    "    template=\"seaborn\",\n",
    "    height=600\n",
    ")\n",
    "\n",
    "fig.update_xaxes(title_text=\"<b>Count</b>\")\n",
    "fig.update_yaxes(title_text=\"<b>Domain</b>\", categoryorder=\"total ascending\", ticksuffix=\"   \")\n",
    "fig.update_layout(\n",
    "    font_family=\"Poppins\",\n",
    "    font_size=16\n",
    ")"
   ]
  }
 ],
 "metadata": {
  "kernelspec": {
   "display_name": "venv-caregivers",
   "language": "python",
   "name": "venv-caregivers"
  },
  "language_info": {
   "codemirror_mode": {
    "name": "ipython",
    "version": 3
   },
   "file_extension": ".py",
   "mimetype": "text/x-python",
   "name": "python",
   "nbconvert_exporter": "python",
   "pygments_lexer": "ipython3",
   "version": "3.7.6"
  }
 },
 "nbformat": 4,
 "nbformat_minor": 4
}
