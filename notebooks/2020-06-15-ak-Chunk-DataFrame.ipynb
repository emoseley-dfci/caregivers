{
 "cells": [
  {
   "cell_type": "code",
   "execution_count": 4,
   "metadata": {},
   "outputs": [],
   "source": [
    "import pandas as pd\n",
    "\n",
    "from pathlib import Path"
   ]
  },
  {
   "cell_type": "code",
   "execution_count": 5,
   "metadata": {},
   "outputs": [
    {
     "name": "stdout",
     "output_type": "stream",
     "text": [
      "Directory\n",
      "\t../data/interim/2020-06-03-em-investigational_regex_results\n",
      "already exists!\n"
     ]
    }
   ],
   "source": [
    "DATA_DIR = Path('../data/interim')\n",
    "FILENAME = '2020-06-03-em-investigational_regex_results.csv'\n",
    "FILE_PATH = DATA_DIR / FILENAME\n",
    "TARGET_DIR = DATA_DIR / FILE_PATH.stem\n",
    "\n",
    "CHUNKSIZE = 10000\n",
    "\n",
    "try:\n",
    "    TARGET_DIR.mkdir()\n",
    "\n",
    "except FileExistsError:\n",
    "    print('Directory\\n\\t{}\\nalready exists!'.format(TARGET_DIR))"
   ]
  },
  {
   "cell_type": "code",
   "execution_count": 6,
   "metadata": {
    "scrolled": false
   },
   "outputs": [
    {
     "name": "stdout",
     "output_type": "stream",
     "text": [
      "Writing to file ../data/interim/2020-06-03-em-investigational_regex_results/2020-06-03-em-investigational_regex_results-chunked-0-10000.csv\n",
      "Writing to file ../data/interim/2020-06-03-em-investigational_regex_results/2020-06-03-em-investigational_regex_results-chunked-10000-20000.csv\n",
      "Writing to file ../data/interim/2020-06-03-em-investigational_regex_results/2020-06-03-em-investigational_regex_results-chunked-20000-30000.csv\n",
      "Writing to file ../data/interim/2020-06-03-em-investigational_regex_results/2020-06-03-em-investigational_regex_results-chunked-30000-40000.csv\n",
      "Writing to file ../data/interim/2020-06-03-em-investigational_regex_results/2020-06-03-em-investigational_regex_results-chunked-40000-50000.csv\n",
      "Writing to file ../data/interim/2020-06-03-em-investigational_regex_results/2020-06-03-em-investigational_regex_results-chunked-50000-60000.csv\n",
      "Writing to file ../data/interim/2020-06-03-em-investigational_regex_results/2020-06-03-em-investigational_regex_results-chunked-60000-70000.csv\n",
      "Writing to file ../data/interim/2020-06-03-em-investigational_regex_results/2020-06-03-em-investigational_regex_results-chunked-70000-80000.csv\n",
      "Writing to file ../data/interim/2020-06-03-em-investigational_regex_results/2020-06-03-em-investigational_regex_results-chunked-80000-90000.csv\n",
      "Writing to file ../data/interim/2020-06-03-em-investigational_regex_results/2020-06-03-em-investigational_regex_results-chunked-90000-100000.csv\n",
      "Writing to file ../data/interim/2020-06-03-em-investigational_regex_results/2020-06-03-em-investigational_regex_results-chunked-100000-108467.csv\n"
     ]
    }
   ],
   "source": [
    "df_chunks = pd.read_csv(FILE_PATH, chunksize=CHUNKSIZE)\n",
    "\n",
    "for df in df_chunks:\n",
    "    target_filename = '{}-chunked-{}-{}.csv'.format(FILE_PATH.stem,\n",
    "                                                   df.index.start,\n",
    "                                                   df.index.stop)\n",
    "\n",
    "    target_file_path = TARGET_DIR / target_filename\n",
    "    \n",
    "    print('Writing to file {}'.format(target_file_path))\n",
    "    \n",
    "    df.to_csv(target_file_path)"
   ]
  }
 ],
 "metadata": {
  "kernelspec": {
   "display_name": "Python 3",
   "language": "python",
   "name": "python3"
  },
  "language_info": {
   "codemirror_mode": {
    "name": "ipython",
    "version": 3
   },
   "file_extension": ".py",
   "mimetype": "text/x-python",
   "name": "python",
   "nbconvert_exporter": "python",
   "pygments_lexer": "ipython3",
   "version": "3.8.3"
  }
 },
 "nbformat": 4,
 "nbformat_minor": 4
}
