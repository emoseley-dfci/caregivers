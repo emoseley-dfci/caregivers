{
 "cells": [
  {
   "cell_type": "markdown",
   "metadata": {},
   "source": [
    "# Notes on Variables\n",
    "\n",
    "These are some assorted notes on the variables and processing steps for this project.\n",
    "\n",
    "See `cleaning/caregivers` for the source code."
   ]
  },
  {
   "cell_type": "markdown",
   "metadata": {},
   "source": [
    "----"
   ]
  },
  {
   "cell_type": "markdown",
   "metadata": {},
   "source": [
    "### `ADMISSION_AGE`\n",
    "\n",
    "#### Definition\n",
    "\n",
    "> Age at time of the hospital admission, in years.\n",
    "\n",
    "#### MIMIC References\n",
    "* [`ADMITTIME`](https://mimic.physionet.org/mimictables/admissions/#admittime-dischtime-deathtime)\n",
    "* [`DOB`](https://mimic.physionet.org/mimictables/patients/#dob)\n",
    "\n",
    "#### Notes\n",
    "\n",
    "* The `ADMISSION_AGE` for patients older than 89 has been filled in with `91.4`, the median age for those with shifted dates of birth (see [reference](https://mimic.physionet.org/mimictables/patients/))."
   ]
  },
  {
   "cell_type": "markdown",
   "metadata": {},
   "source": [
    "----"
   ]
  },
  {
   "cell_type": "markdown",
   "metadata": {},
   "source": [
    "### `ANNOTATION`\n",
    "\n",
    "#### Definition\n",
    "\n",
    "> `CHILD` if only child documentation was found\n",
    ">\n",
    "> `SPOUSE` if only spouse documentation was found\n",
    ">\n",
    "> `BOTH` if both child and spouse documentation were found\n",
    ">\n",
    "> `NEITHER` if neither child nor spouse documentation were found\n",
    "\n",
    "#### Notes\n",
    "\n",
    "* This is just an alternative formulation of the other `ANNOTATION_` variables.\n",
    "* Note that\n",
    "    > `ANNOTATION = CHILD`\n",
    "\n",
    "  is different from\n",
    "    > `ANNOTATION_CHILD = True`\n",
    "\n",
    "  The first is\n",
    "    > has `CHILD` only\n",
    "\n",
    "  but the second is\n",
    "    > has `CHILD` (but may also have `SPOUSE`)\n",
    "    \n",
    "  (Same idea goes for `SPOUSE`.)"
   ]
  },
  {
   "cell_type": "markdown",
   "metadata": {},
   "source": [
    "### `ANNOTATION_[DOMAIN]`\n",
    "\n",
    "#### Definition\n",
    "\n",
    "> `True` if any documentation of `[DOMAIN]` was found in the notes for the given hospital admission. `False` otherwise.\n",
    "\n",
    "#### Variables\n",
    "```\n",
    "ANNOTATION_CHILD\n",
    "ANNOTATION_SPOUSE\n",
    "```\n",
    "\n",
    "#### Notes\n",
    "\n",
    "* Annotations were resolved using the following key:\n",
    "   > 1 = \"true positive\" $\\to$ `True`\n",
    "   >\n",
    "   > 9 = \"false positive\" $\\to$ `False`\n",
    "   >\n",
    "   > 0 = \"true negative\" $\\to$ `False`"
   ]
  },
  {
   "cell_type": "markdown",
   "metadata": {},
   "source": [
    "### `ANNOTATION_BOTH`\n",
    "\n",
    "#### Definition\n",
    "\n",
    "> `True` if documentation of both domains was found in the notes of the given hospital admission. `False` otherwise."
   ]
  },
  {
   "cell_type": "markdown",
   "metadata": {},
   "source": [
    "### `ANNOTATION_ANY`\n",
    "\n",
    "#### Definition\n",
    "\n",
    "> `True` if documentation of any domain was found in the notes of the given hospital admission. `False` otherwise."
   ]
  },
  {
   "cell_type": "markdown",
   "metadata": {},
   "source": [
    "----"
   ]
  },
  {
   "cell_type": "markdown",
   "metadata": {},
   "source": [
    "### `ETHNICITY`\n",
    "\n",
    "#### MIMIC References\n",
    "* [`ETHNICITY`](https://mimic.physionet.org/mimictables/admissions/#insurance-language-religion-marital_status-ethnicity)\n",
    "\n",
    "#### Notes\n",
    "\n",
    "* Categories were collapsed into broad categories by the prefix given in MIMIC, e.g.,\n",
    "    > `ASIAN - CHINESE` $\\to$ `ASIAN`\n",
    "    >\n",
    "    > `ASIAN - JAPANESE` $\\to$ `ASIAN`.\n",
    "* The following categories were mapped to `UNKNOWN/NOT SPECIFIED`:\n",
    "    > `UNABLE TO OBTAIN`\n",
    "    >\n",
    "    > `UNKNOWN/NOT SPECIFIED`\n",
    "    >\n",
    "    > `PATIENT DECLINED TO ANSWER`\n",
    "* Categories with less than three hospital admissions were put into `OTHER`."
   ]
  },
  {
   "cell_type": "markdown",
   "metadata": {},
   "source": [
    "----"
   ]
  },
  {
   "cell_type": "markdown",
   "metadata": {},
   "source": [
    "### `DISCHARGE_LOCATION`\n",
    "\n",
    "#### MIMIC References\n",
    "* [`DISCHARGE_LOCATION`](https://mimic.physionet.org/mimictables/admissions/)\n",
    "\n",
    "#### Notes\n",
    "\n",
    "* Any category containing `HOSPICE` was collapsed into `HOSPICE`.\n",
    "* The following categories were mapped to `SNF`:\n",
    "    > `ICF`\n",
    "    >\n",
    "    > `REHAB/DISTINCT PART HOSP`\n",
    "* The following categories were mapped to `OTHER`:\n",
    "    > `LEFT AGAINST MEDICAL ADVI`\n",
    "    >\n",
    "    > `SHORT TERM HOSPITAL`\n",
    "    >\n",
    "    > `DISC-TRAN TO FEDERAL HC`\n",
    "    >\n",
    "    > `DISCH-TRAN TO PSYCH HOSP`\n",
    "    >\n",
    "    > `OTHER FACILITY`"
   ]
  },
  {
   "cell_type": "markdown",
   "metadata": {},
   "source": [
    "----"
   ]
  },
  {
   "cell_type": "markdown",
   "metadata": {},
   "source": [
    "### `ELIX_SCORE`\n",
    "\n",
    "#### Definition\n",
    "\n",
    "> Unweighted Elixhauser score (30 comorbidity domains).\n",
    "\n",
    "#### MIMIC References\n",
    "* [`elixhauser_ahrq_v37.sql`](https://github.com/MIT-LCP/mimic-code/blob/master/concepts/comorbidity/elixhauser_ahrq_v37.sql) (GitHub)"
   ]
  },
  {
   "cell_type": "markdown",
   "metadata": {},
   "source": [
    "----"
   ]
  },
  {
   "cell_type": "markdown",
   "metadata": {},
   "source": [
    "### `ELIX_WEIGHTED_[STANDARD]`\n",
    "\n",
    "#### Definition\n",
    "\n",
    "> Weighted Elixhauser score (30 comorbidity domains) using the weighting standard `[STANDARD]`.\n",
    "\n",
    "#### Variables\n",
    "```\n",
    "ELIX_WEIGHTED_AHRQ\n",
    "ELIX_WEIGHTED_VW\n",
    "```\n",
    "\n",
    "#### MIMIC References\n",
    "* [`elixhauser_score_ahrq.sql`](https://github.com/MIT-LCP/mimic-code/blob/master/concepts/comorbidity/elixhauser_score_ahrq.sql) (GitHub)"
   ]
  },
  {
   "cell_type": "markdown",
   "metadata": {},
   "source": [
    "----"
   ]
  },
  {
   "cell_type": "markdown",
   "metadata": {},
   "source": [
    "### `HAS_READMISSION`\n",
    "\n",
    "#### Definition\n",
    "\n",
    "> `True` if the patient had another hospital admission after the given one. `False` otherwise.\n",
    "\n",
    "#### MIMIC References\n",
    "* [`ADMITTIME`](https://mimic.physionet.org/mimictables/admissions/#admittime-dischtime-deathtime)"
   ]
  },
  {
   "cell_type": "markdown",
   "metadata": {},
   "source": [
    "----"
   ]
  },
  {
   "cell_type": "markdown",
   "metadata": {},
   "source": [
    "### `HOSPITAL_EXPIRE_FLAG`\n",
    "\n",
    "\n",
    "#### Definition\n",
    "> `True` if the patient passed away during the given hospital admission. `False` otherwise.\n",
    "\n",
    "#### MIMIC References\n",
    "* [`HOSPITAL_EXPIRE_FLAG`](https://mimic.physionet.org/mimictables/admissions/#hospital_expire_flag)\n",
    "\n",
    "#### Notes\n",
    "* Changed from `0`/`1` in MIMIC to `False`/`True` (for consistency with other similar columns)."
   ]
  },
  {
   "cell_type": "markdown",
   "metadata": {},
   "source": [
    "----"
   ]
  },
  {
   "cell_type": "markdown",
   "metadata": {},
   "source": [
    "### `IDENTIFIED_CONV_[DOMAIN]`\n",
    "\n",
    "#### Definition\n",
    "\n",
    "> `True` if the 2018 PM Goals of Care model for `[DOMAIN]` predicted `True` on any of the notes within the given hospital admission.\n",
    "\n",
    "\n",
    "#### Variables\n",
    "```\n",
    "IDENTIFIED_CONV_GOC (Goals of Care)\n",
    "IDENTIFIED_CONV_LIM (Code Status Limitations)\n",
    "```"
   ]
  },
  {
   "cell_type": "markdown",
   "metadata": {},
   "source": [
    "----"
   ]
  },
  {
   "cell_type": "markdown",
   "metadata": {},
   "source": [
    "### `LANGUAGE`\n",
    "\n",
    "#### MIMIC References\n",
    "* [`LANGUAGE`](https://mimic.physionet.org/mimictables/admissions/#insurance-language-religion-marital_status-ethnicity)\n",
    "\n",
    "#### Notes\n",
    "\n",
    "* The four most common categories, `ENGL`, `PTUN`, `SPAN`, `RUSS` were kept as-is; all others were put into `OTHER`."
   ]
  },
  {
   "cell_type": "markdown",
   "metadata": {},
   "source": [
    "----"
   ]
  },
  {
   "cell_type": "markdown",
   "metadata": {},
   "source": [
    "### `MARITAL_STATUS`\n",
    "\n",
    "#### MIMIC References\n",
    "* [`MARITAL_STATUS`](https://mimic.physionet.org/mimictables/admissions/#insurance-language-religion-marital_status-ethnicity)\n",
    "\n",
    "#### Notes\n",
    "\n",
    "* `DIVORCED` and `SEPARATED` were collapsed into a single category, `DIVORCED/SEPARATED`."
   ]
  },
  {
   "cell_type": "markdown",
   "metadata": {},
   "source": [
    "----"
   ]
  },
  {
   "cell_type": "markdown",
   "metadata": {},
   "source": [
    "### `MORTALITY_[DURATION]_FROM_[REFERENCE]`\n",
    "\n",
    "#### Definition\n",
    "\n",
    "> `True` if the patient passed away within `[DURATION]` from a given `[REFERENCE]` time (e.g. hospital admission). `False` otherwise.\n",
    "\n",
    "#### Variables\n",
    "```\n",
    "MORTALITY_3MO_FROM_HADM_ADMIT\n",
    "MORTALITY_1Y_FROM_HADM_ADMIT\n",
    "```\n",
    "\n",
    "#### MIMIC References\n",
    "* [`DOD`](https://mimic.physionet.org/mimictables/patients/#dod-dod_hosp-dod_ssn)\n",
    "* [`ADMITTIME`](https://mimic.physionet.org/mimictables/admissions/#admittime-dischtime-deathtime)\n",
    "\n",
    "#### Notes\n",
    "* Patients without a specified `DOD` are considered to be alive."
   ]
  },
  {
   "cell_type": "markdown",
   "metadata": {},
   "source": [
    "----"
   ]
  },
  {
   "cell_type": "markdown",
   "metadata": {},
   "source": [
    "### `SOFA`\n",
    "\n",
    "#### Definition\n",
    "\n",
    "> Earliest available SOFA score within the given hospital admission.\n",
    "\n",
    "#### MIMIC References\n",
    "* [`sofa.sql`](https://github.com/MIT-LCP/mimic-code/blob/master/concepts/severityscores/sofa.sql) (GitHub)"
   ]
  },
  {
   "cell_type": "markdown",
   "metadata": {},
   "source": [
    "----"
   ]
  },
  {
   "cell_type": "markdown",
   "metadata": {},
   "source": [
    "### `VENT_FIRST_48_[REFERENCE]`\n",
    "\n",
    "#### Definition\n",
    "\n",
    "> `True` if there was a ventilation event during the first 48 hours from the given `[REFERENCE]` point during the given hospital admission. `False` otherwise.\n",
    "\n",
    "#### Variables\n",
    "```\n",
    "VENT_FIRST_48_HADM\n",
    "VENT_FIRST_48_ICU\n",
    "```\n",
    "\n",
    "#### MIMIC References\n",
    "* [`ventilation_durations.sql`](https://github.com/MIT-LCP/mimic-code/blob/master/concepts/durations/ventilation_durations.sql) (GitHub)\n",
    "* [`ADMITTIME`](https://mimic.physionet.org/mimictables/admissions/#admittime-dischtime-deathtime)\n",
    "* [`INTIME`](https://mimic.physionet.org/mimictables/icustays/#intime-outtime)\n",
    "\n",
    "#### Notes\n",
    "* Each ventilation event is associated with an ICU stay.\n",
    "* `VENT_FIRST_48_ICU` is with respect to the first ICU stay in the hospital admission (if there were multiple)"
   ]
  },
  {
   "cell_type": "markdown",
   "metadata": {},
   "source": [
    "----"
   ]
  },
  {
   "cell_type": "markdown",
   "metadata": {},
   "source": [
    "### `VENT_TIME_FROM_[REFERENCE]`\n",
    "\n",
    "#### Definition\n",
    "\n",
    "> Time from a given `[REFERENCE]` point to the first ventilation event during the hospital admission, in hours.\n",
    "\n",
    "#### Variables\n",
    "```\n",
    "VENT_TIME_FROM_HADM\n",
    "VENT_TIME_FROM_ICU\n",
    "```\n",
    "\n",
    "#### MIMIC References\n",
    "* [`ventilation_durations.sql`](https://github.com/MIT-LCP/mimic-code/blob/master/concepts/durations/ventilation_durations.sql) (GitHub)\n",
    "* [`ADMITTIME`](https://mimic.physionet.org/mimictables/admissions/#admittime-dischtime-deathtime)\n",
    "* [`INTIME`](https://mimic.physionet.org/mimictables/icustays/#intime-outtime)\n",
    "\n",
    "\n",
    "#### Notes\n",
    "* Each ventilation event is associated with an ICU stay.\n",
    "* `VENT_TIME_FROM_ICU` is with respect to the first ICU stay in the hospital admission (if there were multiple)"
   ]
  },
  {
   "cell_type": "markdown",
   "metadata": {},
   "source": [
    "----"
   ]
  },
  {
   "cell_type": "markdown",
   "metadata": {},
   "source": [
    "### `VENT_TOTAL_COUNT`\n",
    "\n",
    "#### Definition\n",
    "\n",
    "> Total number of ventilation events recorded during the given hospital admission.\n",
    "\n",
    "#### MIMIC References\n",
    "* [`ventilation_durations.sql`](https://github.com/MIT-LCP/mimic-code/blob/master/concepts/durations/ventilation_durations.sql) (GitHub)"
   ]
  },
  {
   "cell_type": "markdown",
   "metadata": {},
   "source": [
    "----"
   ]
  },
  {
   "cell_type": "markdown",
   "metadata": {},
   "source": [
    "### `VENT_TOTAL_HOURS`\n",
    "\n",
    "#### Definition\n",
    "\n",
    "> Total hours spent on mechanical ventilation during the given hospital admission.\n",
    "\n",
    "#### MIMIC References\n",
    "* [`ventilation_durations.sql`](https://github.com/MIT-LCP/mimic-code/blob/master/concepts/durations/ventilation_durations.sql) (GitHub)"
   ]
  }
 ],
 "metadata": {
  "kernelspec": {
   "display_name": "Python 3",
   "language": "python",
   "name": "python3"
  },
  "language_info": {
   "codemirror_mode": {
    "name": "ipython",
    "version": 3
   },
   "file_extension": ".py",
   "mimetype": "text/x-python",
   "name": "python",
   "nbconvert_exporter": "python",
   "pygments_lexer": "ipython3",
   "version": "3.7.3"
  }
 },
 "nbformat": 4,
 "nbformat_minor": 4
}
