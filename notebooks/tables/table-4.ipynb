{
 "cells": [
  {
   "cell_type": "code",
   "execution_count": null,
   "metadata": {},
   "outputs": [],
   "source": [
    "import pandas as pd\n",
    "from tableone import TableOne\n",
    "\n",
    "from cleaning.caregivers.main import load_data\n",
    "from notebooks.tables.ref import columns, nonnormal\n",
    "\n",
    "df = load_data()"
   ]
  },
  {
   "cell_type": "markdown",
   "metadata": {},
   "source": [
    "# Table 4\n",
    "\n",
    "Include only cohort that was discharged (3-mo and 1-y mortality post discharge)"
   ]
  },
  {
   "cell_type": "markdown",
   "metadata": {},
   "source": [
    "## Overall"
   ]
  },
  {
   "cell_type": "code",
   "execution_count": null,
   "metadata": {},
   "outputs": [],
   "source": [
    "TableOne(\n",
    "    df[~df[\"HOSPITAL_EXPIRE_FLAG\"]],\n",
    "    columns = columns,\n",
    "    nonnormal = nonnormal\n",
    ")"
   ]
  },
  {
   "cell_type": "markdown",
   "metadata": {},
   "source": [
    "## Has Child Documentation"
   ]
  },
  {
   "cell_type": "code",
   "execution_count": null,
   "metadata": {},
   "outputs": [],
   "source": [
    "TableOne(\n",
    "    df[~df[\"HOSPITAL_EXPIRE_FLAG\"]],\n",
    "    columns = columns,\n",
    "    groupby = \"ANNOTATION_CHILD\",\n",
    "    nonnormal = nonnormal,\n",
    "    pval = True\n",
    ")"
   ]
  },
  {
   "cell_type": "markdown",
   "metadata": {},
   "source": [
    "## Has Spouse Documentation"
   ]
  },
  {
   "cell_type": "code",
   "execution_count": null,
   "metadata": {},
   "outputs": [],
   "source": [
    "TableOne(\n",
    "    df[~df[\"HOSPITAL_EXPIRE_FLAG\"]],\n",
    "    columns = columns,\n",
    "    groupby = \"ANNOTATION_SPOUSE\",\n",
    "    nonnormal = nonnormal,\n",
    "    pval = True\n",
    ")"
   ]
  },
  {
   "cell_type": "markdown",
   "metadata": {},
   "source": [
    "## Has Both Child and Spouse Documentation"
   ]
  },
  {
   "cell_type": "code",
   "execution_count": null,
   "metadata": {},
   "outputs": [],
   "source": [
    "TableOne(\n",
    "    df[~df[\"HOSPITAL_EXPIRE_FLAG\"]],\n",
    "    columns = columns,\n",
    "    groupby = \"ANNOTATION_BOTH\",\n",
    "    nonnormal = nonnormal,\n",
    "    pval = True\n",
    ")"
   ]
  },
  {
   "cell_type": "markdown",
   "metadata": {},
   "source": [
    "## Has at Least One of Child and Spouse Documentation"
   ]
  },
  {
   "cell_type": "code",
   "execution_count": null,
   "metadata": {},
   "outputs": [],
   "source": [
    "TableOne(\n",
    "    df[~df[\"HOSPITAL_EXPIRE_FLAG\"]],\n",
    "    columns = columns,\n",
    "    groupby = \"ANNOTATION_ANY\",\n",
    "    nonnormal = nonnormal,\n",
    "    pval = True\n",
    ")"
   ]
  }
 ],
 "metadata": {
  "kernelspec": {
   "display_name": "Python 3",
   "language": "python",
   "name": "python3"
  },
  "language_info": {
   "codemirror_mode": {
    "name": "ipython",
    "version": 3
   },
   "file_extension": ".py",
   "mimetype": "text/x-python",
   "name": "python",
   "nbconvert_exporter": "python",
   "pygments_lexer": "ipython3",
   "version": "3.7.3"
  }
 },
 "nbformat": 4,
 "nbformat_minor": 4
}
