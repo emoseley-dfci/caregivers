{
 "cells": [
  {
   "cell_type": "markdown",
   "metadata": {},
   "source": [
    "# Models: GOC Documentation, Adjusted"
   ]
  },
  {
   "cell_type": "code",
   "execution_count": 1,
   "metadata": {},
   "outputs": [],
   "source": [
    "import numpy as np\n",
    "import pandas as pd\n",
    "import patsy\n",
    "import plotly.express as px\n",
    "import statsmodels.api as sm\n",
    "\n",
    "from cleaning.caregivers.models import load_data\n",
    "\n",
    "df = load_data()"
   ]
  },
  {
   "cell_type": "code",
   "execution_count": 2,
   "metadata": {},
   "outputs": [],
   "source": [
    "def logistic_fit(formula):\n",
    "    y, X = patsy.dmatrices(formula, df, return_type=\"dataframe\")\n",
    "    model = sm.Logit(y, X).fit()\n",
    "\n",
    "    return model"
   ]
  },
  {
   "cell_type": "markdown",
   "metadata": {},
   "source": [
    "## Has GOC Documentation ~ **Has Child Documentation (True/False)** + Demographic + Elixhauser + SOFA"
   ]
  },
  {
   "cell_type": "code",
   "execution_count": 3,
   "metadata": {},
   "outputs": [
    {
     "name": "stdout",
     "output_type": "stream",
     "text": [
      "Optimization terminated successfully.\n",
      "         Current function value: 0.602427\n",
      "         Iterations 5\n",
      "                            Logit Regression Results                           \n",
      "===============================================================================\n",
      "Dep. Variable:     IDENTIFIED_CONV_GOC   No. Observations:                 1389\n",
      "Model:                           Logit   Df Residuals:                     1379\n",
      "Method:                            MLE   Df Model:                            9\n",
      "Date:                 Wed, 20 Jan 2021   Pseudo R-squ.:                 0.03775\n",
      "Time:                         16:38:03   Log-Likelihood:                -836.77\n",
      "converged:                        True   LL-Null:                       -869.60\n",
      "Covariance Type:             nonrobust   LLR p-value:                 1.072e-10\n",
      "===========================================================================================================\n",
      "                                              coef    std err          z      P>|z|      [0.025      0.975]\n",
      "-----------------------------------------------------------------------------------------------------------\n",
      "Intercept                                  -0.1625      0.281     -0.577      0.564      -0.714       0.389\n",
      "MARITAL_STATUS[T.NOT MARRIED]              -0.0411      0.124     -0.332      0.740      -0.284       0.201\n",
      "MARITAL_STATUS[T.UNKNOWN/NOT SPECIFIED]    -0.0400      0.365     -0.110      0.913      -0.755       0.675\n",
      "ETHNICITY[T.OTHER]                         -0.3279      0.146     -2.247      0.025      -0.614      -0.042\n",
      "ETHNICITY[T.UNKNOWN/NOT SPECIFIED]         -0.0529      0.299     -0.177      0.860      -0.640       0.534\n",
      "SEX                                         0.0381      0.121      0.315      0.752      -0.199       0.275\n",
      "ADMISSION_AGE                               0.0060      0.004      1.499      0.134      -0.002       0.014\n",
      "ELIX_SCORE                                 -0.0039      0.028     -0.138      0.890      -0.059       0.051\n",
      "SOFA                                        0.0674      0.017      4.025      0.000       0.035       0.100\n",
      "ANNOTATION_CHILD                            0.6309      0.139      4.538      0.000       0.358       0.903\n",
      "===========================================================================================================\n"
     ]
    }
   ],
   "source": [
    "formula = \"IDENTIFIED_CONV_GOC ~ SEX + MARITAL_STATUS + ETHNICITY + ADMISSION_AGE + ELIX_SCORE + SOFA + ANNOTATION_CHILD\"\n",
    "\n",
    "model_fit = logistic_fit(formula)\n",
    "\n",
    "print(model_fit.summary())"
   ]
  },
  {
   "cell_type": "code",
   "execution_count": 4,
   "metadata": {},
   "outputs": [
    {
     "data": {
      "text/plain": [
       "Intercept                                  0.850033\n",
       "MARITAL_STATUS[T.NOT MARRIED]              0.959706\n",
       "MARITAL_STATUS[T.UNKNOWN/NOT SPECIFIED]    0.960837\n",
       "ETHNICITY[T.OTHER]                         0.720439\n",
       "ETHNICITY[T.UNKNOWN/NOT SPECIFIED]         0.948469\n",
       "SEX                                        1.038838\n",
       "ADMISSION_AGE                              1.005996\n",
       "ELIX_SCORE                                 0.996098\n",
       "SOFA                                       1.069689\n",
       "ANNOTATION_CHILD                           1.879298\n",
       "dtype: float64"
      ]
     },
     "execution_count": 4,
     "metadata": {},
     "output_type": "execute_result"
    }
   ],
   "source": [
    "np.exp(model_fit.params)"
   ]
  },
  {
   "cell_type": "markdown",
   "metadata": {},
   "source": [
    "## Has GOC Documentation ~ **Has Spouse Documentation (True/False)** + Demographic + Elixhauser + SOFA"
   ]
  },
  {
   "cell_type": "code",
   "execution_count": 12,
   "metadata": {},
   "outputs": [
    {
     "name": "stdout",
     "output_type": "stream",
     "text": [
      "Optimization terminated successfully.\n",
      "         Current function value: 0.597438\n",
      "         Iterations 5\n",
      "                            Logit Regression Results                           \n",
      "===============================================================================\n",
      "Dep. Variable:     IDENTIFIED_CONV_GOC   No. Observations:                 1389\n",
      "Model:                           Logit   Df Residuals:                     1379\n",
      "Method:                            MLE   Df Model:                            9\n",
      "Date:                 Wed, 20 Jan 2021   Pseudo R-squ.:                 0.04572\n",
      "Time:                         16:40:37   Log-Likelihood:                -829.84\n",
      "converged:                        True   LL-Null:                       -869.60\n",
      "Covariance Type:             nonrobust   LLR p-value:                 2.010e-13\n",
      "===========================================================================================================\n",
      "                                              coef    std err          z      P>|z|      [0.025      0.975]\n",
      "-----------------------------------------------------------------------------------------------------------\n",
      "Intercept                                  -1.3258      0.311     -4.262      0.000      -1.936      -0.716\n",
      "MARITAL_STATUS[T.NOT MARRIED]               0.4655      0.151      3.084      0.002       0.170       0.761\n",
      "MARITAL_STATUS[T.UNKNOWN/NOT SPECIFIED]     0.4496      0.374      1.201      0.230      -0.284       1.183\n",
      "ETHNICITY[T.OTHER]                         -0.1892      0.147     -1.289      0.197      -0.477       0.098\n",
      "ETHNICITY[T.UNKNOWN/NOT SPECIFIED]         -0.1164      0.299     -0.389      0.697      -0.703       0.470\n",
      "SEX                                         0.1704      0.121      1.410      0.159      -0.066       0.407\n",
      "ADMISSION_AGE                               0.0176      0.004      4.672      0.000       0.010       0.025\n",
      "ELIX_SCORE                                 -0.0257      0.029     -0.895      0.371      -0.082       0.031\n",
      "SOFA                                        0.0767      0.017      4.596      0.000       0.044       0.109\n",
      "ANNOTATION_SPOUSE                           0.9197      0.159      5.794      0.000       0.609       1.231\n",
      "===========================================================================================================\n"
     ]
    }
   ],
   "source": [
    "formula = \"IDENTIFIED_CONV_GOC ~ SEX + MARITAL_STATUS + ETHNICITY + ADMISSION_AGE + ELIX_SCORE + SOFA + ANNOTATION_SPOUSE\"\n",
    "\n",
    "model_fit = logistic_fit(formula)\n",
    "\n",
    "print(model_fit.summary())"
   ]
  },
  {
   "cell_type": "code",
   "execution_count": 6,
   "metadata": {},
   "outputs": [
    {
     "data": {
      "text/plain": [
       "Intercept                                  0.265588\n",
       "MARITAL_STATUS[T.NOT MARRIED]              1.592868\n",
       "MARITAL_STATUS[T.UNKNOWN/NOT SPECIFIED]    1.567619\n",
       "ETHNICITY[T.OTHER]                         0.827621\n",
       "ETHNICITY[T.UNKNOWN/NOT SPECIFIED]         0.890094\n",
       "SEX                                        1.185786\n",
       "ADMISSION_AGE                              1.017792\n",
       "ELIX_SCORE                                 0.974659\n",
       "SOFA                                       1.079761\n",
       "ANNOTATION_SPOUSE                          2.508623\n",
       "dtype: float64"
      ]
     },
     "execution_count": 6,
     "metadata": {},
     "output_type": "execute_result"
    }
   ],
   "source": [
    "np.exp(model_fit.params)"
   ]
  },
  {
   "cell_type": "markdown",
   "metadata": {},
   "source": [
    "## Has GOC Documentation ~ **Has Child Documentation (True/False)** + **Has Spouse Documentation (True/False)** + Demographic + Elixhauser + SOFA"
   ]
  },
  {
   "cell_type": "code",
   "execution_count": 7,
   "metadata": {},
   "outputs": [
    {
     "name": "stdout",
     "output_type": "stream",
     "text": [
      "Optimization terminated successfully.\n",
      "         Current function value: 0.591196\n",
      "         Iterations 5\n",
      "                            Logit Regression Results                           \n",
      "===============================================================================\n",
      "Dep. Variable:     IDENTIFIED_CONV_GOC   No. Observations:                 1389\n",
      "Model:                           Logit   Df Residuals:                     1378\n",
      "Method:                            MLE   Df Model:                           10\n",
      "Date:                 Wed, 20 Jan 2021   Pseudo R-squ.:                 0.05569\n",
      "Time:                         16:38:03   Log-Likelihood:                -821.17\n",
      "converged:                        True   LL-Null:                       -869.60\n",
      "Covariance Type:             nonrobust   LLR p-value:                 2.310e-16\n",
      "===========================================================================================================\n",
      "                                              coef    std err          z      P>|z|      [0.025      0.975]\n",
      "-----------------------------------------------------------------------------------------------------------\n",
      "Intercept                                  -0.9889      0.321     -3.077      0.002      -1.619      -0.359\n",
      "MARITAL_STATUS[T.NOT MARRIED]               0.4367      0.152      2.875      0.004       0.139       0.734\n",
      "MARITAL_STATUS[T.UNKNOWN/NOT SPECIFIED]     0.3933      0.379      1.037      0.300      -0.350       1.137\n",
      "ETHNICITY[T.OTHER]                         -0.2528      0.148     -1.705      0.088      -0.543       0.038\n",
      "ETHNICITY[T.UNKNOWN/NOT SPECIFIED]         -0.0945      0.302     -0.313      0.754      -0.687       0.497\n",
      "SEX                                         0.0991      0.123      0.808      0.419      -0.141       0.340\n",
      "ADMISSION_AGE                               0.0107      0.004      2.588      0.010       0.003       0.019\n",
      "ELIX_SCORE                                 -0.0205      0.029     -0.713      0.476      -0.077       0.036\n",
      "SOFA                                        0.0687      0.017      4.064      0.000       0.036       0.102\n",
      "ANNOTATION_CHILD                            0.5812      0.141      4.126      0.000       0.305       0.857\n",
      "ANNOTATION_SPOUSE                           0.8758      0.160      5.486      0.000       0.563       1.189\n",
      "===========================================================================================================\n"
     ]
    }
   ],
   "source": [
    "formula = \"IDENTIFIED_CONV_GOC ~ SEX + MARITAL_STATUS + ETHNICITY + ADMISSION_AGE + ELIX_SCORE + SOFA + ANNOTATION_CHILD + ANNOTATION_SPOUSE\"\n",
    "\n",
    "model_fit = logistic_fit(formula)\n",
    "\n",
    "print(model_fit.summary())"
   ]
  },
  {
   "cell_type": "code",
   "execution_count": 8,
   "metadata": {},
   "outputs": [
    {
     "data": {
      "text/plain": [
       "Intercept                                  0.372001\n",
       "MARITAL_STATUS[T.NOT MARRIED]              1.547570\n",
       "MARITAL_STATUS[T.UNKNOWN/NOT SPECIFIED]    1.481872\n",
       "ETHNICITY[T.OTHER]                         0.776635\n",
       "ETHNICITY[T.UNKNOWN/NOT SPECIFIED]         0.909809\n",
       "SEX                                        1.104176\n",
       "ADMISSION_AGE                              1.010721\n",
       "ELIX_SCORE                                 0.979664\n",
       "SOFA                                       1.071063\n",
       "ANNOTATION_CHILD                           1.788235\n",
       "ANNOTATION_SPOUSE                          2.400825\n",
       "dtype: float64"
      ]
     },
     "execution_count": 8,
     "metadata": {},
     "output_type": "execute_result"
    }
   ],
   "source": [
    "np.exp(model_fit.params)"
   ]
  },
  {
   "cell_type": "markdown",
   "metadata": {},
   "source": [
    "## Has GOC Documentation ~ **Type of Caregiver Documentation (Child/Spouse/Both/Neither)** + Demographic + Elixhauser + SOFA"
   ]
  },
  {
   "cell_type": "code",
   "execution_count": 9,
   "metadata": {},
   "outputs": [
    {
     "name": "stdout",
     "output_type": "stream",
     "text": [
      "Optimization terminated successfully.\n",
      "         Current function value: 0.590429\n",
      "         Iterations 5\n",
      "                            Logit Regression Results                           \n",
      "===============================================================================\n",
      "Dep. Variable:     IDENTIFIED_CONV_GOC   No. Observations:                 1389\n",
      "Model:                           Logit   Df Residuals:                     1377\n",
      "Method:                            MLE   Df Model:                           11\n",
      "Date:                 Wed, 20 Jan 2021   Pseudo R-squ.:                 0.05692\n",
      "Time:                         16:38:03   Log-Likelihood:                -820.11\n",
      "converged:                        True   LL-Null:                       -869.60\n",
      "Covariance Type:             nonrobust   LLR p-value:                 2.824e-16\n",
      "===========================================================================================================\n",
      "                                              coef    std err          z      P>|z|      [0.025      0.975]\n",
      "-----------------------------------------------------------------------------------------------------------\n",
      "Intercept                                   0.3122      0.361      0.866      0.387      -0.394       1.019\n",
      "MARITAL_STATUS[T.NOT MARRIED]               0.4278      0.152      2.806      0.005       0.129       0.727\n",
      "MARITAL_STATUS[T.UNKNOWN/NOT SPECIFIED]     0.3924      0.380      1.033      0.302      -0.352       1.137\n",
      "ETHNICITY[T.OTHER]                         -0.2609      0.149     -1.755      0.079      -0.552       0.030\n",
      "ETHNICITY[T.UNKNOWN/NOT SPECIFIED]         -0.1020      0.302     -0.338      0.736      -0.694       0.490\n",
      "ANNOTATION[T.CHILD]                        -0.5968      0.246     -2.426      0.015      -1.079      -0.115\n",
      "ANNOTATION[T.NEITHER]                      -1.3103      0.225     -5.822      0.000      -1.751      -0.869\n",
      "ANNOTATION[T.SPOUSE]                       -0.3128      0.228     -1.369      0.171      -0.761       0.135\n",
      "SEX                                         0.0870      0.123      0.707      0.480      -0.154       0.328\n",
      "ADMISSION_AGE                               0.0102      0.004      2.479      0.013       0.002       0.018\n",
      "ELIX_SCORE                                 -0.0201      0.029     -0.697      0.486      -0.077       0.036\n",
      "SOFA                                        0.0694      0.017      4.102      0.000       0.036       0.103\n",
      "===========================================================================================================\n"
     ]
    }
   ],
   "source": [
    "formula = \"IDENTIFIED_CONV_GOC ~ SEX + MARITAL_STATUS + ETHNICITY + ADMISSION_AGE + ELIX_SCORE + SOFA + ANNOTATION\"\n",
    "\n",
    "model_fit = logistic_fit(formula)\n",
    "\n",
    "print(model_fit.summary())"
   ]
  },
  {
   "cell_type": "code",
   "execution_count": 10,
   "metadata": {},
   "outputs": [
    {
     "data": {
      "text/plain": [
       "Intercept                                  1.366477\n",
       "MARITAL_STATUS[T.NOT MARRIED]              1.533875\n",
       "MARITAL_STATUS[T.UNKNOWN/NOT SPECIFIED]    1.480457\n",
       "ETHNICITY[T.OTHER]                         0.770339\n",
       "ETHNICITY[T.UNKNOWN/NOT SPECIFIED]         0.903039\n",
       "ANNOTATION[T.CHILD]                        0.550555\n",
       "ANNOTATION[T.NEITHER]                      0.269751\n",
       "ANNOTATION[T.SPOUSE]                       0.731371\n",
       "SEX                                        1.090845\n",
       "ADMISSION_AGE                              1.010302\n",
       "ELIX_SCORE                                 0.980076\n",
       "SOFA                                       1.071912\n",
       "dtype: float64"
      ]
     },
     "execution_count": 10,
     "metadata": {},
     "output_type": "execute_result"
    }
   ],
   "source": [
    "np.exp(model_fit.params)"
   ]
  }
 ],
 "metadata": {
  "kernelspec": {
   "display_name": "Python 3",
   "language": "python",
   "name": "python3"
  },
  "language_info": {
   "codemirror_mode": {
    "name": "ipython",
    "version": 3
   },
   "file_extension": ".py",
   "mimetype": "text/x-python",
   "name": "python",
   "nbconvert_exporter": "python",
   "pygments_lexer": "ipython3",
   "version": "3.7.6"
  }
 },
 "nbformat": 4,
 "nbformat_minor": 4
}
