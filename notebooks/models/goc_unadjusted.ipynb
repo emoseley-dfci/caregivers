{
 "cells": [
  {
   "cell_type": "markdown",
   "metadata": {},
   "source": [
    "# Models: GOC Documentation, Unadjusted"
   ]
  },
  {
   "cell_type": "code",
   "execution_count": 1,
   "metadata": {},
   "outputs": [],
   "source": [
    "import numpy as np\n",
    "import pandas as pd\n",
    "import patsy\n",
    "import plotly.express as px\n",
    "import statsmodels.api as sm\n",
    "\n",
    "from cleaning.caregivers.models import load_data\n",
    "\n",
    "df = load_data()"
   ]
  },
  {
   "cell_type": "code",
   "execution_count": 2,
   "metadata": {},
   "outputs": [],
   "source": [
    "def logistic_fit(formula):\n",
    "    y, X = patsy.dmatrices(formula, df, return_type=\"dataframe\")\n",
    "    model = sm.Logit(y, X).fit()\n",
    "\n",
    "    return model"
   ]
  },
  {
   "cell_type": "markdown",
   "metadata": {},
   "source": [
    "## Has GOC Documentation ~ **Has Child Documentation (True/False)**"
   ]
  },
  {
   "cell_type": "code",
   "execution_count": 3,
   "metadata": {},
   "outputs": [
    {
     "name": "stdout",
     "output_type": "stream",
     "text": [
      "Optimization terminated successfully.\n",
      "         Current function value: 0.611868\n",
      "         Iterations 5\n",
      "                            Logit Regression Results                           \n",
      "===============================================================================\n",
      "Dep. Variable:     IDENTIFIED_CONV_GOC   No. Observations:                 1389\n",
      "Model:                           Logit   Df Residuals:                     1387\n",
      "Method:                            MLE   Df Model:                            1\n",
      "Date:                 Wed, 20 Jan 2021   Pseudo R-squ.:                 0.02267\n",
      "Time:                         16:38:32   Log-Likelihood:                -849.89\n",
      "converged:                        True   LL-Null:                       -869.60\n",
      "Covariance Type:             nonrobust   LLR p-value:                 3.392e-10\n",
      "====================================================================================\n",
      "                       coef    std err          z      P>|z|      [0.025      0.975]\n",
      "------------------------------------------------------------------------------------\n",
      "Intercept            0.4809      0.071      6.752      0.000       0.341       0.621\n",
      "ANNOTATION_CHILD     0.7626      0.124      6.133      0.000       0.519       1.006\n",
      "====================================================================================\n"
     ]
    }
   ],
   "source": [
    "formula = \"IDENTIFIED_CONV_GOC ~ ANNOTATION_CHILD\"\n",
    "\n",
    "model_fit = logistic_fit(formula)\n",
    "\n",
    "print(model_fit.summary())"
   ]
  },
  {
   "cell_type": "code",
   "execution_count": 4,
   "metadata": {},
   "outputs": [
    {
     "data": {
      "text/plain": [
       "Intercept           1.617555\n",
       "ANNOTATION_CHILD    2.143817\n",
       "dtype: float64"
      ]
     },
     "execution_count": 4,
     "metadata": {},
     "output_type": "execute_result"
    }
   ],
   "source": [
    "np.exp(model_fit.params)"
   ]
  },
  {
   "cell_type": "markdown",
   "metadata": {},
   "source": [
    "## Has GOC Documentation ~ **Has Spouse Documentation (True/False)**"
   ]
  },
  {
   "cell_type": "code",
   "execution_count": 5,
   "metadata": {},
   "outputs": [
    {
     "name": "stdout",
     "output_type": "stream",
     "text": [
      "Optimization terminated successfully.\n",
      "         Current function value: 0.617448\n",
      "         Iterations 5\n",
      "                            Logit Regression Results                           \n",
      "===============================================================================\n",
      "Dep. Variable:     IDENTIFIED_CONV_GOC   No. Observations:                 1389\n",
      "Model:                           Logit   Df Residuals:                     1387\n",
      "Method:                            MLE   Df Model:                            1\n",
      "Date:                 Wed, 20 Jan 2021   Pseudo R-squ.:                 0.01376\n",
      "Time:                         16:38:32   Log-Likelihood:                -857.64\n",
      "converged:                        True   LL-Null:                       -869.60\n",
      "Covariance Type:             nonrobust   LLR p-value:                 9.968e-07\n",
      "=====================================================================================\n",
      "                        coef    std err          z      P>|z|      [0.025      0.975]\n",
      "-------------------------------------------------------------------------------------\n",
      "Intercept             0.5552      0.070      7.941      0.000       0.418       0.692\n",
      "ANNOTATION_SPOUSE     0.6023      0.125      4.799      0.000       0.356       0.848\n",
      "=====================================================================================\n"
     ]
    }
   ],
   "source": [
    "formula = \"IDENTIFIED_CONV_GOC ~ ANNOTATION_SPOUSE\"\n",
    "\n",
    "model_fit = logistic_fit(formula)\n",
    "\n",
    "print(model_fit.summary())"
   ]
  },
  {
   "cell_type": "code",
   "execution_count": 6,
   "metadata": {},
   "outputs": [
    {
     "data": {
      "text/plain": [
       "Intercept            1.742236\n",
       "ANNOTATION_SPOUSE    1.826284\n",
       "dtype: float64"
      ]
     },
     "execution_count": 6,
     "metadata": {},
     "output_type": "execute_result"
    }
   ],
   "source": [
    "np.exp(model_fit.params)"
   ]
  },
  {
   "cell_type": "markdown",
   "metadata": {},
   "source": [
    "## Has GOC Documentation ~ **Has Child Documentation (True/False)** + **Has Spouse Documentation (True/False)**"
   ]
  },
  {
   "cell_type": "code",
   "execution_count": 7,
   "metadata": {},
   "outputs": [
    {
     "name": "stdout",
     "output_type": "stream",
     "text": [
      "Optimization terminated successfully.\n",
      "         Current function value: 0.603024\n",
      "         Iterations 5\n",
      "                            Logit Regression Results                           \n",
      "===============================================================================\n",
      "Dep. Variable:     IDENTIFIED_CONV_GOC   No. Observations:                 1389\n",
      "Model:                           Logit   Df Residuals:                     1386\n",
      "Method:                            MLE   Df Model:                            2\n",
      "Date:                 Wed, 20 Jan 2021   Pseudo R-squ.:                 0.03680\n",
      "Time:                         16:38:32   Log-Likelihood:                -837.60\n",
      "converged:                        True   LL-Null:                       -869.60\n",
      "Covariance Type:             nonrobust   LLR p-value:                 1.264e-14\n",
      "=====================================================================================\n",
      "                        coef    std err          z      P>|z|      [0.025      0.975]\n",
      "-------------------------------------------------------------------------------------\n",
      "Intercept             0.2672      0.083      3.220      0.001       0.105       0.430\n",
      "ANNOTATION_CHILD      0.7753      0.125      6.181      0.000       0.529       1.021\n",
      "ANNOTATION_SPOUSE     0.6187      0.127      4.862      0.000       0.369       0.868\n",
      "=====================================================================================\n"
     ]
    }
   ],
   "source": [
    "formula = \"IDENTIFIED_CONV_GOC ~ ANNOTATION_CHILD + ANNOTATION_SPOUSE\"\n",
    "\n",
    "model_fit = logistic_fit(formula)\n",
    "\n",
    "print(model_fit.summary())"
   ]
  },
  {
   "cell_type": "code",
   "execution_count": 8,
   "metadata": {},
   "outputs": [
    {
     "data": {
      "text/plain": [
       "Intercept            1.306273\n",
       "ANNOTATION_CHILD     2.171187\n",
       "ANNOTATION_SPOUSE    1.856449\n",
       "dtype: float64"
      ]
     },
     "execution_count": 8,
     "metadata": {},
     "output_type": "execute_result"
    }
   ],
   "source": [
    "np.exp(model_fit.params)"
   ]
  },
  {
   "cell_type": "markdown",
   "metadata": {},
   "source": [
    "## Has GOC Documentation ~ **Type of Caregiver Documentation (Child/Spouse/Both/Neither)**"
   ]
  },
  {
   "cell_type": "code",
   "execution_count": 9,
   "metadata": {},
   "outputs": [
    {
     "name": "stdout",
     "output_type": "stream",
     "text": [
      "Optimization terminated successfully.\n",
      "         Current function value: 0.602141\n",
      "         Iterations 5\n",
      "                            Logit Regression Results                           \n",
      "===============================================================================\n",
      "Dep. Variable:     IDENTIFIED_CONV_GOC   No. Observations:                 1389\n",
      "Model:                           Logit   Df Residuals:                     1385\n",
      "Method:                            MLE   Df Model:                            3\n",
      "Date:                 Wed, 20 Jan 2021   Pseudo R-squ.:                 0.03821\n",
      "Time:                         16:38:32   Log-Likelihood:                -836.37\n",
      "converged:                        True   LL-Null:                       -869.60\n",
      "Covariance Type:             nonrobust   LLR p-value:                 2.445e-14\n",
      "=========================================================================================\n",
      "                            coef    std err          z      P>|z|      [0.025      0.975]\n",
      "-----------------------------------------------------------------------------------------\n",
      "Intercept                 1.4623      0.180      8.122      0.000       1.109       1.815\n",
      "ANNOTATION[T.CHILD]      -0.3331      0.219     -1.524      0.128      -0.762       0.095\n",
      "ANNOTATION[T.NEITHER]    -1.2391      0.200     -6.193      0.000      -1.631      -0.847\n",
      "ANNOTATION[T.SPOUSE]     -0.4830      0.221     -2.182      0.029      -0.917      -0.049\n",
      "=========================================================================================\n"
     ]
    }
   ],
   "source": [
    "formula = \"IDENTIFIED_CONV_GOC ~ ANNOTATION\"\n",
    "\n",
    "model_fit = logistic_fit(formula)\n",
    "\n",
    "print(model_fit.summary())"
   ]
  },
  {
   "cell_type": "code",
   "execution_count": 10,
   "metadata": {},
   "outputs": [
    {
     "data": {
      "text/plain": [
       "Intercept                4.315789\n",
       "ANNOTATION[T.CHILD]      0.716676\n",
       "ANNOTATION[T.NEITHER]    0.289634\n",
       "ANNOTATION[T.SPOUSE]     0.616956\n",
       "dtype: float64"
      ]
     },
     "execution_count": 10,
     "metadata": {},
     "output_type": "execute_result"
    }
   ],
   "source": [
    "np.exp(model_fit.params)"
   ]
  }
 ],
 "metadata": {
  "kernelspec": {
   "display_name": "Python 3",
   "language": "python",
   "name": "python3"
  },
  "language_info": {
   "codemirror_mode": {
    "name": "ipython",
    "version": 3
   },
   "file_extension": ".py",
   "mimetype": "text/x-python",
   "name": "python",
   "nbconvert_exporter": "python",
   "pygments_lexer": "ipython3",
   "version": "3.7.6"
  }
 },
 "nbformat": 4,
 "nbformat_minor": 4
}
