{
 "cells": [
  {
   "cell_type": "markdown",
   "metadata": {},
   "source": [
    "# Models: GOC Documentation, Unadjusted"
   ]
  },
  {
   "cell_type": "code",
   "execution_count": 1,
   "metadata": {},
   "outputs": [],
   "source": [
    "from cleaning.caregivers.models import (\n",
    "    load_data,\n",
    "    run_logit,\n",
    "    format_logit_results\n",
    ")\n",
    "\n",
    "df = load_data()"
   ]
  },
  {
   "cell_type": "markdown",
   "metadata": {},
   "source": [
    "## Caregiver:Child[Binary]"
   ]
  },
  {
   "cell_type": "code",
   "execution_count": 2,
   "metadata": {},
   "outputs": [
    {
     "name": "stdout",
     "output_type": "stream",
     "text": [
      "Optimization terminated successfully.\n",
      "         Current function value: 0.611868\n",
      "         Iterations 5\n"
     ]
    },
    {
     "data": {
      "text/html": [
       "<div>\n",
       "<style scoped>\n",
       "    .dataframe tbody tr th:only-of-type {\n",
       "        vertical-align: middle;\n",
       "    }\n",
       "\n",
       "    .dataframe tbody tr th {\n",
       "        vertical-align: top;\n",
       "    }\n",
       "\n",
       "    .dataframe thead th {\n",
       "        text-align: right;\n",
       "    }\n",
       "</style>\n",
       "<table border=\"1\" class=\"dataframe\">\n",
       "  <thead>\n",
       "    <tr style=\"text-align: right;\">\n",
       "      <th></th>\n",
       "      <th>odds ratio</th>\n",
       "      <th>95% CI, lower</th>\n",
       "      <th>95% CI, upper</th>\n",
       "      <th>p-value</th>\n",
       "    </tr>\n",
       "  </thead>\n",
       "  <tbody>\n",
       "    <tr>\n",
       "      <th>Intercept</th>\n",
       "      <td>1.6176</td>\n",
       "      <td>1.4068</td>\n",
       "      <td>1.8599</td>\n",
       "      <td>0.0</td>\n",
       "    </tr>\n",
       "    <tr>\n",
       "      <th>ANNOTATION_CHILD</th>\n",
       "      <td>2.1438</td>\n",
       "      <td>1.6801</td>\n",
       "      <td>2.7355</td>\n",
       "      <td>0.0</td>\n",
       "    </tr>\n",
       "  </tbody>\n",
       "</table>\n",
       "</div>"
      ],
      "text/plain": [
       "                  odds ratio  95% CI, lower  95% CI, upper  p-value\n",
       "Intercept             1.6176         1.4068         1.8599      0.0\n",
       "ANNOTATION_CHILD      2.1438         1.6801         2.7355      0.0"
      ]
     },
     "execution_count": 2,
     "metadata": {},
     "output_type": "execute_result"
    }
   ],
   "source": [
    "formula = \"IDENTIFIED_CONV_GOC ~ ANNOTATION_CHILD\"\n",
    "\n",
    "model = run_logit(formula, df)\n",
    "\n",
    "format_logit_results(model)"
   ]
  },
  {
   "cell_type": "markdown",
   "metadata": {},
   "source": [
    "## Caregiver:Spouse[Binary]"
   ]
  },
  {
   "cell_type": "code",
   "execution_count": 3,
   "metadata": {},
   "outputs": [
    {
     "name": "stdout",
     "output_type": "stream",
     "text": [
      "Optimization terminated successfully.\n",
      "         Current function value: 0.617448\n",
      "         Iterations 5\n"
     ]
    },
    {
     "data": {
      "text/html": [
       "<div>\n",
       "<style scoped>\n",
       "    .dataframe tbody tr th:only-of-type {\n",
       "        vertical-align: middle;\n",
       "    }\n",
       "\n",
       "    .dataframe tbody tr th {\n",
       "        vertical-align: top;\n",
       "    }\n",
       "\n",
       "    .dataframe thead th {\n",
       "        text-align: right;\n",
       "    }\n",
       "</style>\n",
       "<table border=\"1\" class=\"dataframe\">\n",
       "  <thead>\n",
       "    <tr style=\"text-align: right;\">\n",
       "      <th></th>\n",
       "      <th>odds ratio</th>\n",
       "      <th>95% CI, lower</th>\n",
       "      <th>95% CI, upper</th>\n",
       "      <th>p-value</th>\n",
       "    </tr>\n",
       "  </thead>\n",
       "  <tbody>\n",
       "    <tr>\n",
       "      <th>Intercept</th>\n",
       "      <td>1.7422</td>\n",
       "      <td>1.5191</td>\n",
       "      <td>1.9981</td>\n",
       "      <td>0.0</td>\n",
       "    </tr>\n",
       "    <tr>\n",
       "      <th>ANNOTATION_SPOUSE</th>\n",
       "      <td>1.8263</td>\n",
       "      <td>1.4281</td>\n",
       "      <td>2.3356</td>\n",
       "      <td>0.0</td>\n",
       "    </tr>\n",
       "  </tbody>\n",
       "</table>\n",
       "</div>"
      ],
      "text/plain": [
       "                   odds ratio  95% CI, lower  95% CI, upper  p-value\n",
       "Intercept              1.7422         1.5191         1.9981      0.0\n",
       "ANNOTATION_SPOUSE      1.8263         1.4281         2.3356      0.0"
      ]
     },
     "execution_count": 3,
     "metadata": {},
     "output_type": "execute_result"
    }
   ],
   "source": [
    "formula = \"IDENTIFIED_CONV_GOC ~ ANNOTATION_SPOUSE\"\n",
    "\n",
    "model = run_logit(formula, df)\n",
    "\n",
    "format_logit_results(model)"
   ]
  },
  {
   "cell_type": "markdown",
   "metadata": {},
   "source": [
    "## Caregiver:Child[Binary] + Caregiver:Spouse[Binary]"
   ]
  },
  {
   "cell_type": "code",
   "execution_count": 4,
   "metadata": {},
   "outputs": [
    {
     "name": "stdout",
     "output_type": "stream",
     "text": [
      "Optimization terminated successfully.\n",
      "         Current function value: 0.603024\n",
      "         Iterations 5\n"
     ]
    },
    {
     "data": {
      "text/html": [
       "<div>\n",
       "<style scoped>\n",
       "    .dataframe tbody tr th:only-of-type {\n",
       "        vertical-align: middle;\n",
       "    }\n",
       "\n",
       "    .dataframe tbody tr th {\n",
       "        vertical-align: top;\n",
       "    }\n",
       "\n",
       "    .dataframe thead th {\n",
       "        text-align: right;\n",
       "    }\n",
       "</style>\n",
       "<table border=\"1\" class=\"dataframe\">\n",
       "  <thead>\n",
       "    <tr style=\"text-align: right;\">\n",
       "      <th></th>\n",
       "      <th>odds ratio</th>\n",
       "      <th>95% CI, lower</th>\n",
       "      <th>95% CI, upper</th>\n",
       "      <th>p-value</th>\n",
       "    </tr>\n",
       "  </thead>\n",
       "  <tbody>\n",
       "    <tr>\n",
       "      <th>Intercept</th>\n",
       "      <td>1.3063</td>\n",
       "      <td>1.1102</td>\n",
       "      <td>1.5370</td>\n",
       "      <td>0.0013</td>\n",
       "    </tr>\n",
       "    <tr>\n",
       "      <th>ANNOTATION_CHILD</th>\n",
       "      <td>2.1712</td>\n",
       "      <td>1.6980</td>\n",
       "      <td>2.7763</td>\n",
       "      <td>0.0000</td>\n",
       "    </tr>\n",
       "    <tr>\n",
       "      <th>ANNOTATION_SPOUSE</th>\n",
       "      <td>1.8564</td>\n",
       "      <td>1.4467</td>\n",
       "      <td>2.3822</td>\n",
       "      <td>0.0000</td>\n",
       "    </tr>\n",
       "  </tbody>\n",
       "</table>\n",
       "</div>"
      ],
      "text/plain": [
       "                   odds ratio  95% CI, lower  95% CI, upper  p-value\n",
       "Intercept              1.3063         1.1102         1.5370   0.0013\n",
       "ANNOTATION_CHILD       2.1712         1.6980         2.7763   0.0000\n",
       "ANNOTATION_SPOUSE      1.8564         1.4467         2.3822   0.0000"
      ]
     },
     "execution_count": 4,
     "metadata": {},
     "output_type": "execute_result"
    }
   ],
   "source": [
    "formula = \"IDENTIFIED_CONV_GOC ~ ANNOTATION_CHILD + ANNOTATION_SPOUSE\"\n",
    "\n",
    "model = run_logit(formula, df)\n",
    "\n",
    "format_logit_results(model)"
   ]
  },
  {
   "cell_type": "markdown",
   "metadata": {},
   "source": [
    "## Caregiver[Categorical]"
   ]
  },
  {
   "cell_type": "code",
   "execution_count": 5,
   "metadata": {},
   "outputs": [
    {
     "name": "stdout",
     "output_type": "stream",
     "text": [
      "Optimization terminated successfully.\n",
      "         Current function value: 0.602141\n",
      "         Iterations 5\n"
     ]
    },
    {
     "data": {
      "text/html": [
       "<div>\n",
       "<style scoped>\n",
       "    .dataframe tbody tr th:only-of-type {\n",
       "        vertical-align: middle;\n",
       "    }\n",
       "\n",
       "    .dataframe tbody tr th {\n",
       "        vertical-align: top;\n",
       "    }\n",
       "\n",
       "    .dataframe thead th {\n",
       "        text-align: right;\n",
       "    }\n",
       "</style>\n",
       "<table border=\"1\" class=\"dataframe\">\n",
       "  <thead>\n",
       "    <tr style=\"text-align: right;\">\n",
       "      <th></th>\n",
       "      <th>odds ratio</th>\n",
       "      <th>95% CI, lower</th>\n",
       "      <th>95% CI, upper</th>\n",
       "      <th>p-value</th>\n",
       "    </tr>\n",
       "  </thead>\n",
       "  <tbody>\n",
       "    <tr>\n",
       "      <th>Intercept</th>\n",
       "      <td>1.2500</td>\n",
       "      <td>1.0533</td>\n",
       "      <td>1.4834</td>\n",
       "      <td>0.0106</td>\n",
       "    </tr>\n",
       "    <tr>\n",
       "      <th>ANNOTATION[T.BOTH]</th>\n",
       "      <td>3.4526</td>\n",
       "      <td>2.3325</td>\n",
       "      <td>5.1107</td>\n",
       "      <td>0.0000</td>\n",
       "    </tr>\n",
       "    <tr>\n",
       "      <th>ANNOTATION[T.CHILD]</th>\n",
       "      <td>2.4744</td>\n",
       "      <td>1.8380</td>\n",
       "      <td>3.3312</td>\n",
       "      <td>0.0000</td>\n",
       "    </tr>\n",
       "    <tr>\n",
       "      <th>ANNOTATION[T.SPOUSE]</th>\n",
       "      <td>2.1301</td>\n",
       "      <td>1.5703</td>\n",
       "      <td>2.8895</td>\n",
       "      <td>0.0000</td>\n",
       "    </tr>\n",
       "  </tbody>\n",
       "</table>\n",
       "</div>"
      ],
      "text/plain": [
       "                      odds ratio  95% CI, lower  95% CI, upper  p-value\n",
       "Intercept                 1.2500         1.0533         1.4834   0.0106\n",
       "ANNOTATION[T.BOTH]        3.4526         2.3325         5.1107   0.0000\n",
       "ANNOTATION[T.CHILD]       2.4744         1.8380         3.3312   0.0000\n",
       "ANNOTATION[T.SPOUSE]      2.1301         1.5703         2.8895   0.0000"
      ]
     },
     "execution_count": 5,
     "metadata": {},
     "output_type": "execute_result"
    }
   ],
   "source": [
    "formula = \"IDENTIFIED_CONV_GOC ~ C(ANNOTATION, Treatment(reference='NEITHER'))\"\n",
    "\n",
    "model = run_logit(formula, df)\n",
    "\n",
    "format_logit_results(model)"
   ]
  }
 ],
 "metadata": {
  "kernelspec": {
   "display_name": "Python 3",
   "language": "python",
   "name": "python3"
  },
  "language_info": {
   "codemirror_mode": {
    "name": "ipython",
    "version": 3
   },
   "file_extension": ".py",
   "mimetype": "text/x-python",
   "name": "python",
   "nbconvert_exporter": "python",
   "pygments_lexer": "ipython3",
   "version": "3.7.6"
  }
 },
 "nbformat": 4,
 "nbformat_minor": 4
}
