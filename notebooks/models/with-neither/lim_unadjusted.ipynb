{
 "cells": [
  {
   "cell_type": "markdown",
   "metadata": {},
   "source": [
    "# Models: LIM Documentation, Unadjusted"
   ]
  },
  {
   "cell_type": "code",
   "execution_count": 1,
   "metadata": {},
   "outputs": [],
   "source": [
    "from cleaning.caregivers.models import (\n",
    "    load_data,\n",
    "    run_logit,\n",
    "    format_logit_results\n",
    ")\n",
    "\n",
    "df = load_data()"
   ]
  },
  {
   "cell_type": "markdown",
   "metadata": {},
   "source": [
    "## Caregiver:Child[Binary]"
   ]
  },
  {
   "cell_type": "code",
   "execution_count": 2,
   "metadata": {},
   "outputs": [
    {
     "name": "stdout",
     "output_type": "stream",
     "text": [
      "Optimization terminated successfully.\n",
      "         Current function value: 0.541515\n",
      "         Iterations 5\n"
     ]
    },
    {
     "data": {
      "text/html": [
       "<div>\n",
       "<style scoped>\n",
       "    .dataframe tbody tr th:only-of-type {\n",
       "        vertical-align: middle;\n",
       "    }\n",
       "\n",
       "    .dataframe tbody tr th {\n",
       "        vertical-align: top;\n",
       "    }\n",
       "\n",
       "    .dataframe thead th {\n",
       "        text-align: right;\n",
       "    }\n",
       "</style>\n",
       "<table border=\"1\" class=\"dataframe\">\n",
       "  <thead>\n",
       "    <tr style=\"text-align: right;\">\n",
       "      <th></th>\n",
       "      <th>odds ratio</th>\n",
       "      <th>95% CI, lower</th>\n",
       "      <th>95% CI, upper</th>\n",
       "      <th>p-value</th>\n",
       "    </tr>\n",
       "  </thead>\n",
       "  <tbody>\n",
       "    <tr>\n",
       "      <th>Intercept</th>\n",
       "      <td>0.2032</td>\n",
       "      <td>0.1695</td>\n",
       "      <td>0.2435</td>\n",
       "      <td>0.0</td>\n",
       "    </tr>\n",
       "    <tr>\n",
       "      <th>ANNOTATION_CHILD</th>\n",
       "      <td>3.2912</td>\n",
       "      <td>2.5675</td>\n",
       "      <td>4.2188</td>\n",
       "      <td>0.0</td>\n",
       "    </tr>\n",
       "  </tbody>\n",
       "</table>\n",
       "</div>"
      ],
      "text/plain": [
       "                  odds ratio  95% CI, lower  95% CI, upper  p-value\n",
       "Intercept             0.2032         0.1695         0.2435      0.0\n",
       "ANNOTATION_CHILD      3.2912         2.5675         4.2188      0.0"
      ]
     },
     "execution_count": 2,
     "metadata": {},
     "output_type": "execute_result"
    }
   ],
   "source": [
    "formula = \"IDENTIFIED_CONV_LIM ~ ANNOTATION_CHILD\"\n",
    "\n",
    "model = run_logit(formula, df)\n",
    "\n",
    "format_logit_results(model)"
   ]
  },
  {
   "cell_type": "markdown",
   "metadata": {},
   "source": [
    "## Caregiver:Spouse[Binary]"
   ]
  },
  {
   "cell_type": "code",
   "execution_count": 3,
   "metadata": {},
   "outputs": [
    {
     "name": "stdout",
     "output_type": "stream",
     "text": [
      "Optimization terminated successfully.\n",
      "         Current function value: 0.574148\n",
      "         Iterations 5\n"
     ]
    },
    {
     "data": {
      "text/html": [
       "<div>\n",
       "<style scoped>\n",
       "    .dataframe tbody tr th:only-of-type {\n",
       "        vertical-align: middle;\n",
       "    }\n",
       "\n",
       "    .dataframe tbody tr th {\n",
       "        vertical-align: top;\n",
       "    }\n",
       "\n",
       "    .dataframe thead th {\n",
       "        text-align: right;\n",
       "    }\n",
       "</style>\n",
       "<table border=\"1\" class=\"dataframe\">\n",
       "  <thead>\n",
       "    <tr style=\"text-align: right;\">\n",
       "      <th></th>\n",
       "      <th>odds ratio</th>\n",
       "      <th>95% CI, lower</th>\n",
       "      <th>95% CI, upper</th>\n",
       "      <th>p-value</th>\n",
       "    </tr>\n",
       "  </thead>\n",
       "  <tbody>\n",
       "    <tr>\n",
       "      <th>Intercept</th>\n",
       "      <td>0.3690</td>\n",
       "      <td>0.3180</td>\n",
       "      <td>0.4281</td>\n",
       "      <td>0.0000</td>\n",
       "    </tr>\n",
       "    <tr>\n",
       "      <th>ANNOTATION_SPOUSE</th>\n",
       "      <td>0.8891</td>\n",
       "      <td>0.6919</td>\n",
       "      <td>1.1426</td>\n",
       "      <td>0.3585</td>\n",
       "    </tr>\n",
       "  </tbody>\n",
       "</table>\n",
       "</div>"
      ],
      "text/plain": [
       "                   odds ratio  95% CI, lower  95% CI, upper  p-value\n",
       "Intercept              0.3690         0.3180         0.4281   0.0000\n",
       "ANNOTATION_SPOUSE      0.8891         0.6919         1.1426   0.3585"
      ]
     },
     "execution_count": 3,
     "metadata": {},
     "output_type": "execute_result"
    }
   ],
   "source": [
    "formula = \"IDENTIFIED_CONV_LIM ~ ANNOTATION_SPOUSE\"\n",
    "\n",
    "model = run_logit(formula, df)\n",
    "\n",
    "format_logit_results(model)"
   ]
  },
  {
   "cell_type": "markdown",
   "metadata": {},
   "source": [
    "## Caregiver:Child[Binary] + Caregiver:Spouse[Binary]"
   ]
  },
  {
   "cell_type": "code",
   "execution_count": 4,
   "metadata": {},
   "outputs": [
    {
     "name": "stdout",
     "output_type": "stream",
     "text": [
      "Optimization terminated successfully.\n",
      "         Current function value: 0.541185\n",
      "         Iterations 5\n"
     ]
    },
    {
     "data": {
      "text/html": [
       "<div>\n",
       "<style scoped>\n",
       "    .dataframe tbody tr th:only-of-type {\n",
       "        vertical-align: middle;\n",
       "    }\n",
       "\n",
       "    .dataframe tbody tr th {\n",
       "        vertical-align: top;\n",
       "    }\n",
       "\n",
       "    .dataframe thead th {\n",
       "        text-align: right;\n",
       "    }\n",
       "</style>\n",
       "<table border=\"1\" class=\"dataframe\">\n",
       "  <thead>\n",
       "    <tr style=\"text-align: right;\">\n",
       "      <th></th>\n",
       "      <th>odds ratio</th>\n",
       "      <th>95% CI, lower</th>\n",
       "      <th>95% CI, upper</th>\n",
       "      <th>p-value</th>\n",
       "    </tr>\n",
       "  </thead>\n",
       "  <tbody>\n",
       "    <tr>\n",
       "      <th>Intercept</th>\n",
       "      <td>0.2125</td>\n",
       "      <td>0.1736</td>\n",
       "      <td>0.2601</td>\n",
       "      <td>0.0000</td>\n",
       "    </tr>\n",
       "    <tr>\n",
       "      <th>ANNOTATION_CHILD</th>\n",
       "      <td>3.2942</td>\n",
       "      <td>2.5696</td>\n",
       "      <td>4.2232</td>\n",
       "      <td>0.0000</td>\n",
       "    </tr>\n",
       "    <tr>\n",
       "      <th>ANNOTATION_SPOUSE</th>\n",
       "      <td>0.8811</td>\n",
       "      <td>0.6797</td>\n",
       "      <td>1.1422</td>\n",
       "      <td>0.3391</td>\n",
       "    </tr>\n",
       "  </tbody>\n",
       "</table>\n",
       "</div>"
      ],
      "text/plain": [
       "                   odds ratio  95% CI, lower  95% CI, upper  p-value\n",
       "Intercept              0.2125         0.1736         0.2601   0.0000\n",
       "ANNOTATION_CHILD       3.2942         2.5696         4.2232   0.0000\n",
       "ANNOTATION_SPOUSE      0.8811         0.6797         1.1422   0.3391"
      ]
     },
     "execution_count": 4,
     "metadata": {},
     "output_type": "execute_result"
    }
   ],
   "source": [
    "formula = \"IDENTIFIED_CONV_LIM ~ ANNOTATION_CHILD + ANNOTATION_SPOUSE\"\n",
    "\n",
    "model = run_logit(formula, df)\n",
    "\n",
    "format_logit_results(model)"
   ]
  },
  {
   "cell_type": "markdown",
   "metadata": {},
   "source": [
    "## Caregiver[Categorical]"
   ]
  },
  {
   "cell_type": "code",
   "execution_count": 5,
   "metadata": {},
   "outputs": [
    {
     "name": "stdout",
     "output_type": "stream",
     "text": [
      "Optimization terminated successfully.\n",
      "         Current function value: 0.540768\n",
      "         Iterations 5\n"
     ]
    },
    {
     "data": {
      "text/html": [
       "<div>\n",
       "<style scoped>\n",
       "    .dataframe tbody tr th:only-of-type {\n",
       "        vertical-align: middle;\n",
       "    }\n",
       "\n",
       "    .dataframe tbody tr th {\n",
       "        vertical-align: top;\n",
       "    }\n",
       "\n",
       "    .dataframe thead th {\n",
       "        text-align: right;\n",
       "    }\n",
       "</style>\n",
       "<table border=\"1\" class=\"dataframe\">\n",
       "  <thead>\n",
       "    <tr style=\"text-align: right;\">\n",
       "      <th></th>\n",
       "      <th>odds ratio</th>\n",
       "      <th>95% CI, lower</th>\n",
       "      <th>95% CI, upper</th>\n",
       "      <th>p-value</th>\n",
       "    </tr>\n",
       "  </thead>\n",
       "  <tbody>\n",
       "    <tr>\n",
       "      <th>Intercept</th>\n",
       "      <td>0.2014</td>\n",
       "      <td>0.1604</td>\n",
       "      <td>0.2528</td>\n",
       "      <td>0.0000</td>\n",
       "    </tr>\n",
       "    <tr>\n",
       "      <th>ANNOTATION[T.BOTH]</th>\n",
       "      <td>2.8104</td>\n",
       "      <td>1.9482</td>\n",
       "      <td>4.0541</td>\n",
       "      <td>0.0000</td>\n",
       "    </tr>\n",
       "    <tr>\n",
       "      <th>ANNOTATION[T.CHILD]</th>\n",
       "      <td>3.6452</td>\n",
       "      <td>2.6716</td>\n",
       "      <td>4.9736</td>\n",
       "      <td>0.0000</td>\n",
       "    </tr>\n",
       "    <tr>\n",
       "      <th>ANNOTATION[T.SPOUSE]</th>\n",
       "      <td>1.0248</td>\n",
       "      <td>0.7040</td>\n",
       "      <td>1.4918</td>\n",
       "      <td>0.8983</td>\n",
       "    </tr>\n",
       "  </tbody>\n",
       "</table>\n",
       "</div>"
      ],
      "text/plain": [
       "                      odds ratio  95% CI, lower  95% CI, upper  p-value\n",
       "Intercept                 0.2014         0.1604         0.2528   0.0000\n",
       "ANNOTATION[T.BOTH]        2.8104         1.9482         4.0541   0.0000\n",
       "ANNOTATION[T.CHILD]       3.6452         2.6716         4.9736   0.0000\n",
       "ANNOTATION[T.SPOUSE]      1.0248         0.7040         1.4918   0.8983"
      ]
     },
     "execution_count": 5,
     "metadata": {},
     "output_type": "execute_result"
    }
   ],
   "source": [
    "formula = \"IDENTIFIED_CONV_LIM ~ C(ANNOTATION, Treatment(reference='NEITHER'))\"\n",
    "\n",
    "model = run_logit(formula, df)\n",
    "\n",
    "format_logit_results(model)"
   ]
  }
 ],
 "metadata": {
  "kernelspec": {
   "display_name": "Python 3",
   "language": "python",
   "name": "python3"
  },
  "language_info": {
   "codemirror_mode": {
    "name": "ipython",
    "version": 3
   },
   "file_extension": ".py",
   "mimetype": "text/x-python",
   "name": "python",
   "nbconvert_exporter": "python",
   "pygments_lexer": "ipython3",
   "version": "3.7.6"
  }
 },
 "nbformat": 4,
 "nbformat_minor": 4
}
