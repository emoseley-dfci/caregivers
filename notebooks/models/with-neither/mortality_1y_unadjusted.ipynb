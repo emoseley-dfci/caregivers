{
 "cells": [
  {
   "cell_type": "markdown",
   "metadata": {},
   "source": [
    "# Models: Mortality (1-year, from hospital admit), Unadjusted"
   ]
  },
  {
   "cell_type": "code",
   "execution_count": 1,
   "metadata": {},
   "outputs": [],
   "source": [
    "from cleaning.caregivers.models import (\n",
    "    load_data,\n",
    "    run_logit,\n",
    "    format_logit_results\n",
    ")\n",
    "\n",
    "df = load_data()"
   ]
  },
  {
   "cell_type": "markdown",
   "metadata": {},
   "source": [
    "## Caregiver:Child[Binary]"
   ]
  },
  {
   "cell_type": "code",
   "execution_count": 2,
   "metadata": {},
   "outputs": [
    {
     "name": "stdout",
     "output_type": "stream",
     "text": [
      "Optimization terminated successfully.\n",
      "         Current function value: 0.674303\n",
      "         Iterations 4\n"
     ]
    },
    {
     "data": {
      "text/html": [
       "<div>\n",
       "<style scoped>\n",
       "    .dataframe tbody tr th:only-of-type {\n",
       "        vertical-align: middle;\n",
       "    }\n",
       "\n",
       "    .dataframe tbody tr th {\n",
       "        vertical-align: top;\n",
       "    }\n",
       "\n",
       "    .dataframe thead th {\n",
       "        text-align: right;\n",
       "    }\n",
       "</style>\n",
       "<table border=\"1\" class=\"dataframe\">\n",
       "  <thead>\n",
       "    <tr style=\"text-align: right;\">\n",
       "      <th></th>\n",
       "      <th>odds ratio</th>\n",
       "      <th>95% CI, lower</th>\n",
       "      <th>95% CI, upper</th>\n",
       "      <th>p-value</th>\n",
       "    </tr>\n",
       "  </thead>\n",
       "  <tbody>\n",
       "    <tr>\n",
       "      <th>Intercept</th>\n",
       "      <td>0.6373</td>\n",
       "      <td>0.5545</td>\n",
       "      <td>0.7324</td>\n",
       "      <td>0.0</td>\n",
       "    </tr>\n",
       "    <tr>\n",
       "      <th>ANNOTATION_CHILD</th>\n",
       "      <td>2.0835</td>\n",
       "      <td>1.6749</td>\n",
       "      <td>2.5918</td>\n",
       "      <td>0.0</td>\n",
       "    </tr>\n",
       "  </tbody>\n",
       "</table>\n",
       "</div>"
      ],
      "text/plain": [
       "                  odds ratio  95% CI, lower  95% CI, upper  p-value\n",
       "Intercept             0.6373         0.5545         0.7324      0.0\n",
       "ANNOTATION_CHILD      2.0835         1.6749         2.5918      0.0"
      ]
     },
     "execution_count": 2,
     "metadata": {},
     "output_type": "execute_result"
    }
   ],
   "source": [
    "formula = \"MORTALITY_1Y_FROM_HADM_ADMIT ~ ANNOTATION_CHILD\"\n",
    "\n",
    "model = run_logit(formula, df)\n",
    "\n",
    "format_logit_results(model)"
   ]
  },
  {
   "cell_type": "markdown",
   "metadata": {},
   "source": [
    "## Caregiver:Spouse[Binary]"
   ]
  },
  {
   "cell_type": "code",
   "execution_count": 3,
   "metadata": {},
   "outputs": [
    {
     "name": "stdout",
     "output_type": "stream",
     "text": [
      "Optimization terminated successfully.\n",
      "         Current function value: 0.689682\n",
      "         Iterations 4\n"
     ]
    },
    {
     "data": {
      "text/html": [
       "<div>\n",
       "<style scoped>\n",
       "    .dataframe tbody tr th:only-of-type {\n",
       "        vertical-align: middle;\n",
       "    }\n",
       "\n",
       "    .dataframe tbody tr th {\n",
       "        vertical-align: top;\n",
       "    }\n",
       "\n",
       "    .dataframe thead th {\n",
       "        text-align: right;\n",
       "    }\n",
       "</style>\n",
       "<table border=\"1\" class=\"dataframe\">\n",
       "  <thead>\n",
       "    <tr style=\"text-align: right;\">\n",
       "      <th></th>\n",
       "      <th>odds ratio</th>\n",
       "      <th>95% CI, lower</th>\n",
       "      <th>95% CI, upper</th>\n",
       "      <th>p-value</th>\n",
       "    </tr>\n",
       "  </thead>\n",
       "  <tbody>\n",
       "    <tr>\n",
       "      <th>Intercept</th>\n",
       "      <td>0.8169</td>\n",
       "      <td>0.7154</td>\n",
       "      <td>0.9327</td>\n",
       "      <td>0.0028</td>\n",
       "    </tr>\n",
       "    <tr>\n",
       "      <th>ANNOTATION_SPOUSE</th>\n",
       "      <td>1.1401</td>\n",
       "      <td>0.9158</td>\n",
       "      <td>1.4193</td>\n",
       "      <td>0.2408</td>\n",
       "    </tr>\n",
       "  </tbody>\n",
       "</table>\n",
       "</div>"
      ],
      "text/plain": [
       "                   odds ratio  95% CI, lower  95% CI, upper  p-value\n",
       "Intercept              0.8169         0.7154         0.9327   0.0028\n",
       "ANNOTATION_SPOUSE      1.1401         0.9158         1.4193   0.2408"
      ]
     },
     "execution_count": 3,
     "metadata": {},
     "output_type": "execute_result"
    }
   ],
   "source": [
    "formula = \"MORTALITY_1Y_FROM_HADM_ADMIT ~ ANNOTATION_SPOUSE\"\n",
    "\n",
    "model = run_logit(formula, df)\n",
    "\n",
    "format_logit_results(model)"
   ]
  },
  {
   "cell_type": "markdown",
   "metadata": {},
   "source": [
    "## Caregiver:Child[Binary] + Caregiver:Spouse[Binary]"
   ]
  },
  {
   "cell_type": "code",
   "execution_count": 4,
   "metadata": {},
   "outputs": [
    {
     "name": "stdout",
     "output_type": "stream",
     "text": [
      "Optimization terminated successfully.\n",
      "         Current function value: 0.673795\n",
      "         Iterations 4\n"
     ]
    },
    {
     "data": {
      "text/html": [
       "<div>\n",
       "<style scoped>\n",
       "    .dataframe tbody tr th:only-of-type {\n",
       "        vertical-align: middle;\n",
       "    }\n",
       "\n",
       "    .dataframe tbody tr th {\n",
       "        vertical-align: top;\n",
       "    }\n",
       "\n",
       "    .dataframe thead th {\n",
       "        text-align: right;\n",
       "    }\n",
       "</style>\n",
       "<table border=\"1\" class=\"dataframe\">\n",
       "  <thead>\n",
       "    <tr style=\"text-align: right;\">\n",
       "      <th></th>\n",
       "      <th>odds ratio</th>\n",
       "      <th>95% CI, lower</th>\n",
       "      <th>95% CI, upper</th>\n",
       "      <th>p-value</th>\n",
       "    </tr>\n",
       "  </thead>\n",
       "  <tbody>\n",
       "    <tr>\n",
       "      <th>Intercept</th>\n",
       "      <td>0.6064</td>\n",
       "      <td>0.5158</td>\n",
       "      <td>0.7129</td>\n",
       "      <td>0.0000</td>\n",
       "    </tr>\n",
       "    <tr>\n",
       "      <th>ANNOTATION_CHILD</th>\n",
       "      <td>2.0850</td>\n",
       "      <td>1.6759</td>\n",
       "      <td>2.5939</td>\n",
       "      <td>0.0000</td>\n",
       "    </tr>\n",
       "    <tr>\n",
       "      <th>ANNOTATION_SPOUSE</th>\n",
       "      <td>1.1445</td>\n",
       "      <td>0.9161</td>\n",
       "      <td>1.4299</td>\n",
       "      <td>0.2348</td>\n",
       "    </tr>\n",
       "  </tbody>\n",
       "</table>\n",
       "</div>"
      ],
      "text/plain": [
       "                   odds ratio  95% CI, lower  95% CI, upper  p-value\n",
       "Intercept              0.6064         0.5158         0.7129   0.0000\n",
       "ANNOTATION_CHILD       2.0850         1.6759         2.5939   0.0000\n",
       "ANNOTATION_SPOUSE      1.1445         0.9161         1.4299   0.2348"
      ]
     },
     "execution_count": 4,
     "metadata": {},
     "output_type": "execute_result"
    }
   ],
   "source": [
    "formula = \"MORTALITY_1Y_FROM_HADM_ADMIT ~ ANNOTATION_CHILD + ANNOTATION_SPOUSE\"\n",
    "\n",
    "model = run_logit(formula, df)\n",
    "\n",
    "format_logit_results(model)"
   ]
  },
  {
   "cell_type": "markdown",
   "metadata": {},
   "source": [
    "## Caregiver[Categorical]"
   ]
  },
  {
   "cell_type": "code",
   "execution_count": 5,
   "metadata": {},
   "outputs": [
    {
     "name": "stdout",
     "output_type": "stream",
     "text": [
      "Optimization terminated successfully.\n",
      "         Current function value: 0.673754\n",
      "         Iterations 4\n"
     ]
    },
    {
     "data": {
      "text/html": [
       "<div>\n",
       "<style scoped>\n",
       "    .dataframe tbody tr th:only-of-type {\n",
       "        vertical-align: middle;\n",
       "    }\n",
       "\n",
       "    .dataframe tbody tr th {\n",
       "        vertical-align: top;\n",
       "    }\n",
       "\n",
       "    .dataframe thead th {\n",
       "        text-align: right;\n",
       "    }\n",
       "</style>\n",
       "<table border=\"1\" class=\"dataframe\">\n",
       "  <thead>\n",
       "    <tr style=\"text-align: right;\">\n",
       "      <th></th>\n",
       "      <th>odds ratio</th>\n",
       "      <th>95% CI, lower</th>\n",
       "      <th>95% CI, upper</th>\n",
       "      <th>p-value</th>\n",
       "    </tr>\n",
       "  </thead>\n",
       "  <tbody>\n",
       "    <tr>\n",
       "      <th>Intercept</th>\n",
       "      <td>0.5994</td>\n",
       "      <td>0.5028</td>\n",
       "      <td>0.7145</td>\n",
       "      <td>0.0000</td>\n",
       "    </tr>\n",
       "    <tr>\n",
       "      <th>ANNOTATION[T.BOTH]</th>\n",
       "      <td>2.3436</td>\n",
       "      <td>1.6842</td>\n",
       "      <td>3.2612</td>\n",
       "      <td>0.0000</td>\n",
       "    </tr>\n",
       "    <tr>\n",
       "      <th>ANNOTATION[T.CHILD]</th>\n",
       "      <td>2.1450</td>\n",
       "      <td>1.6305</td>\n",
       "      <td>2.8219</td>\n",
       "      <td>0.0000</td>\n",
       "    </tr>\n",
       "    <tr>\n",
       "      <th>ANNOTATION[T.SPOUSE]</th>\n",
       "      <td>1.1810</td>\n",
       "      <td>0.8854</td>\n",
       "      <td>1.5751</td>\n",
       "      <td>0.2577</td>\n",
       "    </tr>\n",
       "  </tbody>\n",
       "</table>\n",
       "</div>"
      ],
      "text/plain": [
       "                      odds ratio  95% CI, lower  95% CI, upper  p-value\n",
       "Intercept                 0.5994         0.5028         0.7145   0.0000\n",
       "ANNOTATION[T.BOTH]        2.3436         1.6842         3.2612   0.0000\n",
       "ANNOTATION[T.CHILD]       2.1450         1.6305         2.8219   0.0000\n",
       "ANNOTATION[T.SPOUSE]      1.1810         0.8854         1.5751   0.2577"
      ]
     },
     "execution_count": 5,
     "metadata": {},
     "output_type": "execute_result"
    }
   ],
   "source": [
    "formula = \"MORTALITY_1Y_FROM_HADM_ADMIT ~ C(ANNOTATION, Treatment(reference='NEITHER'))\"\n",
    "\n",
    "model = run_logit(formula, df)\n",
    "\n",
    "format_logit_results(model)"
   ]
  },
  {
   "cell_type": "markdown",
   "metadata": {},
   "source": [
    "## GOC Documentation[Binary]"
   ]
  },
  {
   "cell_type": "code",
   "execution_count": 6,
   "metadata": {},
   "outputs": [
    {
     "name": "stdout",
     "output_type": "stream",
     "text": [
      "Optimization terminated successfully.\n",
      "         Current function value: 0.670484\n",
      "         Iterations 4\n"
     ]
    },
    {
     "data": {
      "text/html": [
       "<div>\n",
       "<style scoped>\n",
       "    .dataframe tbody tr th:only-of-type {\n",
       "        vertical-align: middle;\n",
       "    }\n",
       "\n",
       "    .dataframe tbody tr th {\n",
       "        vertical-align: top;\n",
       "    }\n",
       "\n",
       "    .dataframe thead th {\n",
       "        text-align: right;\n",
       "    }\n",
       "</style>\n",
       "<table border=\"1\" class=\"dataframe\">\n",
       "  <thead>\n",
       "    <tr style=\"text-align: right;\">\n",
       "      <th></th>\n",
       "      <th>odds ratio</th>\n",
       "      <th>95% CI, lower</th>\n",
       "      <th>95% CI, upper</th>\n",
       "      <th>p-value</th>\n",
       "    </tr>\n",
       "  </thead>\n",
       "  <tbody>\n",
       "    <tr>\n",
       "      <th>Intercept</th>\n",
       "      <td>0.4669</td>\n",
       "      <td>0.3823</td>\n",
       "      <td>0.5702</td>\n",
       "      <td>0.0</td>\n",
       "    </tr>\n",
       "    <tr>\n",
       "      <th>IDENTIFIED_CONV_GOC</th>\n",
       "      <td>2.4012</td>\n",
       "      <td>1.8941</td>\n",
       "      <td>3.0439</td>\n",
       "      <td>0.0</td>\n",
       "    </tr>\n",
       "  </tbody>\n",
       "</table>\n",
       "</div>"
      ],
      "text/plain": [
       "                     odds ratio  95% CI, lower  95% CI, upper  p-value\n",
       "Intercept                0.4669         0.3823         0.5702      0.0\n",
       "IDENTIFIED_CONV_GOC      2.4012         1.8941         3.0439      0.0"
      ]
     },
     "execution_count": 6,
     "metadata": {},
     "output_type": "execute_result"
    }
   ],
   "source": [
    "formula = \"MORTALITY_1Y_FROM_HADM_ADMIT ~ IDENTIFIED_CONV_GOC\"\n",
    "\n",
    "model = run_logit(formula, df)\n",
    "\n",
    "format_logit_results(model)"
   ]
  }
 ],
 "metadata": {
  "kernelspec": {
   "display_name": "Python 3",
   "language": "python",
   "name": "python3"
  },
  "language_info": {
   "codemirror_mode": {
    "name": "ipython",
    "version": 3
   },
   "file_extension": ".py",
   "mimetype": "text/x-python",
   "name": "python",
   "nbconvert_exporter": "python",
   "pygments_lexer": "ipython3",
   "version": "3.7.6"
  }
 },
 "nbformat": 4,
 "nbformat_minor": 4
}
