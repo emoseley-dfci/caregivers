{
 "cells": [
  {
   "cell_type": "markdown",
   "metadata": {},
   "source": [
    "# Models: Mortality (3-month, from hospital admit), Unadjusted"
   ]
  },
  {
   "cell_type": "code",
   "execution_count": 1,
   "metadata": {},
   "outputs": [],
   "source": [
    "from cleaning.caregivers.models import (\n",
    "    load_data,\n",
    "    run_logit,\n",
    "    format_logit_results\n",
    ")\n",
    "\n",
    "df = load_data()"
   ]
  },
  {
   "cell_type": "markdown",
   "metadata": {},
   "source": [
    "## Caregiver:Child[Binary]"
   ]
  },
  {
   "cell_type": "code",
   "execution_count": 2,
   "metadata": {},
   "outputs": [
    {
     "name": "stdout",
     "output_type": "stream",
     "text": [
      "Optimization terminated successfully.\n",
      "         Current function value: 0.631154\n",
      "         Iterations 5\n"
     ]
    },
    {
     "data": {
      "text/html": [
       "<div>\n",
       "<style scoped>\n",
       "    .dataframe tbody tr th:only-of-type {\n",
       "        vertical-align: middle;\n",
       "    }\n",
       "\n",
       "    .dataframe tbody tr th {\n",
       "        vertical-align: top;\n",
       "    }\n",
       "\n",
       "    .dataframe thead th {\n",
       "        text-align: right;\n",
       "    }\n",
       "</style>\n",
       "<table border=\"1\" class=\"dataframe\">\n",
       "  <thead>\n",
       "    <tr style=\"text-align: right;\">\n",
       "      <th></th>\n",
       "      <th>odds ratio</th>\n",
       "      <th>95% CI, lower</th>\n",
       "      <th>95% CI, upper</th>\n",
       "      <th>p-value</th>\n",
       "    </tr>\n",
       "  </thead>\n",
       "  <tbody>\n",
       "    <tr>\n",
       "      <th>Intercept</th>\n",
       "      <td>0.3894</td>\n",
       "      <td>0.3348</td>\n",
       "      <td>0.4528</td>\n",
       "      <td>0.0</td>\n",
       "    </tr>\n",
       "    <tr>\n",
       "      <th>ANNOTATION_CHILD</th>\n",
       "      <td>2.1122</td>\n",
       "      <td>1.6859</td>\n",
       "      <td>2.6462</td>\n",
       "      <td>0.0</td>\n",
       "    </tr>\n",
       "  </tbody>\n",
       "</table>\n",
       "</div>"
      ],
      "text/plain": [
       "                  odds ratio  95% CI, lower  95% CI, upper  p-value\n",
       "Intercept             0.3894         0.3348         0.4528      0.0\n",
       "ANNOTATION_CHILD      2.1122         1.6859         2.6462      0.0"
      ]
     },
     "execution_count": 2,
     "metadata": {},
     "output_type": "execute_result"
    }
   ],
   "source": [
    "formula = \"MORTALITY_3MO_FROM_HADM_ADMIT ~ ANNOTATION_CHILD\"\n",
    "\n",
    "model = run_logit(formula, df)\n",
    "\n",
    "format_logit_results(model)"
   ]
  },
  {
   "cell_type": "markdown",
   "metadata": {},
   "source": [
    "## Caregiver:Spouse[Binary]"
   ]
  },
  {
   "cell_type": "code",
   "execution_count": 3,
   "metadata": {},
   "outputs": [
    {
     "name": "stdout",
     "output_type": "stream",
     "text": [
      "Optimization terminated successfully.\n",
      "         Current function value: 0.645565\n",
      "         Iterations 4\n"
     ]
    },
    {
     "data": {
      "text/html": [
       "<div>\n",
       "<style scoped>\n",
       "    .dataframe tbody tr th:only-of-type {\n",
       "        vertical-align: middle;\n",
       "    }\n",
       "\n",
       "    .dataframe tbody tr th {\n",
       "        vertical-align: top;\n",
       "    }\n",
       "\n",
       "    .dataframe thead th {\n",
       "        text-align: right;\n",
       "    }\n",
       "</style>\n",
       "<table border=\"1\" class=\"dataframe\">\n",
       "  <thead>\n",
       "    <tr style=\"text-align: right;\">\n",
       "      <th></th>\n",
       "      <th>odds ratio</th>\n",
       "      <th>95% CI, lower</th>\n",
       "      <th>95% CI, upper</th>\n",
       "      <th>p-value</th>\n",
       "    </tr>\n",
       "  </thead>\n",
       "  <tbody>\n",
       "    <tr>\n",
       "      <th>Intercept</th>\n",
       "      <td>0.4992</td>\n",
       "      <td>0.434</td>\n",
       "      <td>0.5741</td>\n",
       "      <td>0.0000</td>\n",
       "    </tr>\n",
       "    <tr>\n",
       "      <th>ANNOTATION_SPOUSE</th>\n",
       "      <td>1.2046</td>\n",
       "      <td>0.959</td>\n",
       "      <td>1.5130</td>\n",
       "      <td>0.1095</td>\n",
       "    </tr>\n",
       "  </tbody>\n",
       "</table>\n",
       "</div>"
      ],
      "text/plain": [
       "                   odds ratio  95% CI, lower  95% CI, upper  p-value\n",
       "Intercept              0.4992          0.434         0.5741   0.0000\n",
       "ANNOTATION_SPOUSE      1.2046          0.959         1.5130   0.1095"
      ]
     },
     "execution_count": 3,
     "metadata": {},
     "output_type": "execute_result"
    }
   ],
   "source": [
    "formula = \"MORTALITY_3MO_FROM_HADM_ADMIT ~ ANNOTATION_SPOUSE\"\n",
    "\n",
    "model = run_logit(formula, df)\n",
    "\n",
    "format_logit_results(model)"
   ]
  },
  {
   "cell_type": "markdown",
   "metadata": {},
   "source": [
    "## Caregiver:Child[Binary] + Caregiver:Spouse[Binary]"
   ]
  },
  {
   "cell_type": "code",
   "execution_count": 4,
   "metadata": {},
   "outputs": [
    {
     "name": "stdout",
     "output_type": "stream",
     "text": [
      "Optimization terminated successfully.\n",
      "         Current function value: 0.630210\n",
      "         Iterations 5\n"
     ]
    },
    {
     "data": {
      "text/html": [
       "<div>\n",
       "<style scoped>\n",
       "    .dataframe tbody tr th:only-of-type {\n",
       "        vertical-align: middle;\n",
       "    }\n",
       "\n",
       "    .dataframe tbody tr th {\n",
       "        vertical-align: top;\n",
       "    }\n",
       "\n",
       "    .dataframe thead th {\n",
       "        text-align: right;\n",
       "    }\n",
       "</style>\n",
       "<table border=\"1\" class=\"dataframe\">\n",
       "  <thead>\n",
       "    <tr style=\"text-align: right;\">\n",
       "      <th></th>\n",
       "      <th>odds ratio</th>\n",
       "      <th>95% CI, lower</th>\n",
       "      <th>95% CI, upper</th>\n",
       "      <th>p-value</th>\n",
       "    </tr>\n",
       "  </thead>\n",
       "  <tbody>\n",
       "    <tr>\n",
       "      <th>Intercept</th>\n",
       "      <td>0.3624</td>\n",
       "      <td>0.3042</td>\n",
       "      <td>0.4319</td>\n",
       "      <td>0.0000</td>\n",
       "    </tr>\n",
       "    <tr>\n",
       "      <th>ANNOTATION_CHILD</th>\n",
       "      <td>2.1150</td>\n",
       "      <td>1.6878</td>\n",
       "      <td>2.6505</td>\n",
       "      <td>0.0000</td>\n",
       "    </tr>\n",
       "    <tr>\n",
       "      <th>ANNOTATION_SPOUSE</th>\n",
       "      <td>1.2113</td>\n",
       "      <td>0.9608</td>\n",
       "      <td>1.5270</td>\n",
       "      <td>0.1048</td>\n",
       "    </tr>\n",
       "  </tbody>\n",
       "</table>\n",
       "</div>"
      ],
      "text/plain": [
       "                   odds ratio  95% CI, lower  95% CI, upper  p-value\n",
       "Intercept              0.3624         0.3042         0.4319   0.0000\n",
       "ANNOTATION_CHILD       2.1150         1.6878         2.6505   0.0000\n",
       "ANNOTATION_SPOUSE      1.2113         0.9608         1.5270   0.1048"
      ]
     },
     "execution_count": 4,
     "metadata": {},
     "output_type": "execute_result"
    }
   ],
   "source": [
    "formula = \"MORTALITY_3MO_FROM_HADM_ADMIT ~ ANNOTATION_CHILD + ANNOTATION_SPOUSE\"\n",
    "\n",
    "model = run_logit(formula, df)\n",
    "\n",
    "format_logit_results(model)"
   ]
  },
  {
   "cell_type": "markdown",
   "metadata": {},
   "source": [
    "## Caregiver[Categorical]"
   ]
  },
  {
   "cell_type": "code",
   "execution_count": 5,
   "metadata": {},
   "outputs": [
    {
     "name": "stdout",
     "output_type": "stream",
     "text": [
      "Optimization terminated successfully.\n",
      "         Current function value: 0.630199\n",
      "         Iterations 5\n"
     ]
    },
    {
     "data": {
      "text/html": [
       "<div>\n",
       "<style scoped>\n",
       "    .dataframe tbody tr th:only-of-type {\n",
       "        vertical-align: middle;\n",
       "    }\n",
       "\n",
       "    .dataframe tbody tr th {\n",
       "        vertical-align: top;\n",
       "    }\n",
       "\n",
       "    .dataframe thead th {\n",
       "        text-align: right;\n",
       "    }\n",
       "</style>\n",
       "<table border=\"1\" class=\"dataframe\">\n",
       "  <thead>\n",
       "    <tr style=\"text-align: right;\">\n",
       "      <th></th>\n",
       "      <th>odds ratio</th>\n",
       "      <th>95% CI, lower</th>\n",
       "      <th>95% CI, upper</th>\n",
       "      <th>p-value</th>\n",
       "    </tr>\n",
       "  </thead>\n",
       "  <tbody>\n",
       "    <tr>\n",
       "      <th>Intercept</th>\n",
       "      <td>0.3650</td>\n",
       "      <td>0.3012</td>\n",
       "      <td>0.4424</td>\n",
       "      <td>0.0000</td>\n",
       "    </tr>\n",
       "    <tr>\n",
       "      <th>ANNOTATION[T.BOTH]</th>\n",
       "      <td>2.5814</td>\n",
       "      <td>1.8443</td>\n",
       "      <td>3.6131</td>\n",
       "      <td>0.0000</td>\n",
       "    </tr>\n",
       "    <tr>\n",
       "      <th>ANNOTATION[T.CHILD]</th>\n",
       "      <td>2.0820</td>\n",
       "      <td>1.5652</td>\n",
       "      <td>2.7694</td>\n",
       "      <td>0.0000</td>\n",
       "    </tr>\n",
       "    <tr>\n",
       "      <th>ANNOTATION[T.SPOUSE]</th>\n",
       "      <td>1.1888</td>\n",
       "      <td>0.8709</td>\n",
       "      <td>1.6227</td>\n",
       "      <td>0.2759</td>\n",
       "    </tr>\n",
       "  </tbody>\n",
       "</table>\n",
       "</div>"
      ],
      "text/plain": [
       "                      odds ratio  95% CI, lower  95% CI, upper  p-value\n",
       "Intercept                 0.3650         0.3012         0.4424   0.0000\n",
       "ANNOTATION[T.BOTH]        2.5814         1.8443         3.6131   0.0000\n",
       "ANNOTATION[T.CHILD]       2.0820         1.5652         2.7694   0.0000\n",
       "ANNOTATION[T.SPOUSE]      1.1888         0.8709         1.6227   0.2759"
      ]
     },
     "execution_count": 5,
     "metadata": {},
     "output_type": "execute_result"
    }
   ],
   "source": [
    "formula = \"MORTALITY_3MO_FROM_HADM_ADMIT ~ C(ANNOTATION, Treatment(reference='NEITHER'))\"\n",
    "\n",
    "model = run_logit(formula, df)\n",
    "\n",
    "format_logit_results(model)"
   ]
  },
  {
   "cell_type": "markdown",
   "metadata": {},
   "source": [
    "## GOC Documentation[Binary]"
   ]
  },
  {
   "cell_type": "code",
   "execution_count": 6,
   "metadata": {},
   "outputs": [
    {
     "name": "stdout",
     "output_type": "stream",
     "text": [
      "Optimization terminated successfully.\n",
      "         Current function value: 0.622770\n",
      "         Iterations 5\n"
     ]
    },
    {
     "data": {
      "text/html": [
       "<div>\n",
       "<style scoped>\n",
       "    .dataframe tbody tr th:only-of-type {\n",
       "        vertical-align: middle;\n",
       "    }\n",
       "\n",
       "    .dataframe tbody tr th {\n",
       "        vertical-align: top;\n",
       "    }\n",
       "\n",
       "    .dataframe thead th {\n",
       "        text-align: right;\n",
       "    }\n",
       "</style>\n",
       "<table border=\"1\" class=\"dataframe\">\n",
       "  <thead>\n",
       "    <tr style=\"text-align: right;\">\n",
       "      <th></th>\n",
       "      <th>odds ratio</th>\n",
       "      <th>95% CI, lower</th>\n",
       "      <th>95% CI, upper</th>\n",
       "      <th>p-value</th>\n",
       "    </tr>\n",
       "  </thead>\n",
       "  <tbody>\n",
       "    <tr>\n",
       "      <th>Intercept</th>\n",
       "      <td>0.2514</td>\n",
       "      <td>0.1993</td>\n",
       "      <td>0.3172</td>\n",
       "      <td>0.0</td>\n",
       "    </tr>\n",
       "    <tr>\n",
       "      <th>IDENTIFIED_CONV_GOC</th>\n",
       "      <td>2.8514</td>\n",
       "      <td>2.1856</td>\n",
       "      <td>3.7200</td>\n",
       "      <td>0.0</td>\n",
       "    </tr>\n",
       "  </tbody>\n",
       "</table>\n",
       "</div>"
      ],
      "text/plain": [
       "                     odds ratio  95% CI, lower  95% CI, upper  p-value\n",
       "Intercept                0.2514         0.1993         0.3172      0.0\n",
       "IDENTIFIED_CONV_GOC      2.8514         2.1856         3.7200      0.0"
      ]
     },
     "execution_count": 6,
     "metadata": {},
     "output_type": "execute_result"
    }
   ],
   "source": [
    "formula = \"MORTALITY_3MO_FROM_HADM_ADMIT ~ IDENTIFIED_CONV_GOC\"\n",
    "\n",
    "model = run_logit(formula, df)\n",
    "\n",
    "format_logit_results(model)"
   ]
  }
 ],
 "metadata": {
  "kernelspec": {
   "display_name": "Python 3",
   "language": "python",
   "name": "python3"
  },
  "language_info": {
   "codemirror_mode": {
    "name": "ipython",
    "version": 3
   },
   "file_extension": ".py",
   "mimetype": "text/x-python",
   "name": "python",
   "nbconvert_exporter": "python",
   "pygments_lexer": "ipython3",
   "version": "3.7.6"
  }
 },
 "nbformat": 4,
 "nbformat_minor": 4
}
