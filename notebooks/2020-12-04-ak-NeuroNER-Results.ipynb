{
 "cells": [
  {
   "cell_type": "markdown",
   "metadata": {},
   "source": [
    "# Goals of Care (NeuroNER Model Run)"
   ]
  },
  {
   "cell_type": "markdown",
   "metadata": {},
   "source": [
    "This notebook is to present the results of running the `PM_2018_NeuroNER` models on the (`caregivers_set13Jul2020.csv`) cohort notes.\n",
    "\n",
    "### To reproduce the results:\n",
    "\n",
    "* **To set up the data folder**, run the following notebook: `notebooks/2020-12-04-ak-Setup-Data-for-NeuroNER.ipynb`.\n",
    "* **To set up the models**, make sure the `PM2018_NeuroNER_models` (shared in Google Drive [here](https://drive.google.com/drive/u/1/folders/1xpX-2HhH5MFfui3SFzu4sQ-QB2W33J_S)) is in the `models` folder.\n",
    "* **To run the models**, run the scripts `scripts/run_car.sh` and `scripts_run_lim.sh`. These may take a while to run.\n",
    "\n",
    "If NeuroNER doesn't seem to be working, make sure you've run `pip install -r requirements.txt` and double check all the installation steps in the [NeuroNER README](https://github.com/Franck-Dernoncourt/NeuroNER#neuroner) have been done."
   ]
  },
  {
   "cell_type": "code",
   "execution_count": 1,
   "metadata": {},
   "outputs": [],
   "source": [
    "import pandas as pd\n",
    "from cleaning.caregivers.neuroner import load_data"
   ]
  },
  {
   "cell_type": "code",
   "execution_count": 2,
   "metadata": {},
   "outputs": [],
   "source": [
    "df = load_data(keep_string_cols=True)"
   ]
  },
  {
   "cell_type": "code",
   "execution_count": 3,
   "metadata": {},
   "outputs": [
    {
     "data": {
      "text/plain": [
       "True     946\n",
       "False    443\n",
       "Name: CAR, dtype: int64"
      ]
     },
     "execution_count": 3,
     "metadata": {},
     "output_type": "execute_result"
    }
   ],
   "source": [
    "df.groupby(\"HADM_ID\")[\"CAR\"].any().value_counts()"
   ]
  },
  {
   "cell_type": "code",
   "execution_count": 4,
   "metadata": {},
   "outputs": [
    {
     "data": {
      "text/plain": [
       "False    1026\n",
       "True      363\n",
       "Name: LIM, dtype: int64"
      ]
     },
     "execution_count": 4,
     "metadata": {},
     "output_type": "execute_result"
    }
   ],
   "source": [
    "df.groupby(\"HADM_ID\")[\"LIM\"].any().value_counts()"
   ]
  },
  {
   "cell_type": "code",
   "execution_count": 5,
   "metadata": {},
   "outputs": [
    {
     "data": {
      "text/html": [
       "<div>\n",
       "<style scoped>\n",
       "    .dataframe tbody tr th:only-of-type {\n",
       "        vertical-align: middle;\n",
       "    }\n",
       "\n",
       "    .dataframe tbody tr th {\n",
       "        vertical-align: top;\n",
       "    }\n",
       "\n",
       "    .dataframe thead th {\n",
       "        text-align: right;\n",
       "    }\n",
       "</style>\n",
       "<table border=\"1\" class=\"dataframe\">\n",
       "  <thead>\n",
       "    <tr style=\"text-align: right;\">\n",
       "      <th></th>\n",
       "      <th>ROW_ID</th>\n",
       "      <th>SUBJECT_ID</th>\n",
       "      <th>HADM_ID</th>\n",
       "      <th>TEXT</th>\n",
       "      <th>RESULT_STRING_CAR</th>\n",
       "      <th>RESULT_STRING_LIM</th>\n",
       "      <th>CAR</th>\n",
       "      <th>LIM</th>\n",
       "    </tr>\n",
       "  </thead>\n",
       "  <tbody>\n",
       "    <tr>\n",
       "      <th>0</th>\n",
       "      <td>569890</td>\n",
       "      <td>81881</td>\n",
       "      <td>172088</td>\n",
       "      <td>The patient is a 48-yo man with chronic ETOH a...</td>\n",
       "      <td>T1\\tCAR 3508 3514\\tagreed\\nT2\\tCAR 3515 3517\\t...</td>\n",
       "      <td></td>\n",
       "      <td>True</td>\n",
       "      <td>False</td>\n",
       "    </tr>\n",
       "    <tr>\n",
       "      <th>1</th>\n",
       "      <td>463558</td>\n",
       "      <td>45391</td>\n",
       "      <td>103165</td>\n",
       "      <td>Chief Complaint:\\n   24 Hour Events:\\n   - Pat...</td>\n",
       "      <td>T1\\tCAR 8153 8156\\tDNR\\nT2\\tCAR 8158 8160\\tdo\\...</td>\n",
       "      <td>T1\\tLIM 8153 8156\\tDNR\\nT2\\tLIM 8158 8160\\tdo\\...</td>\n",
       "      <td>True</td>\n",
       "      <td>True</td>\n",
       "    </tr>\n",
       "    <tr>\n",
       "      <th>2</th>\n",
       "      <td>322892</td>\n",
       "      <td>16976</td>\n",
       "      <td>146043</td>\n",
       "      <td>.H/O hepatic encephalopathy\\n   Assessment:\\n ...</td>\n",
       "      <td></td>\n",
       "      <td></td>\n",
       "      <td>False</td>\n",
       "      <td>False</td>\n",
       "    </tr>\n",
       "    <tr>\n",
       "      <th>3</th>\n",
       "      <td>597509</td>\n",
       "      <td>66745</td>\n",
       "      <td>192825</td>\n",
       "      <td>Nursing Admission Note:\\n   57 year old male w...</td>\n",
       "      <td></td>\n",
       "      <td></td>\n",
       "      <td>False</td>\n",
       "      <td>False</td>\n",
       "    </tr>\n",
       "    <tr>\n",
       "      <th>4</th>\n",
       "      <td>606029</td>\n",
       "      <td>77924</td>\n",
       "      <td>142313</td>\n",
       "      <td>TITLE:\\n   Chief Complaint:\\n   24 Hour Events...</td>\n",
       "      <td>T1\\tCAR 8745 8751\\tfamily\\nT2\\tCAR 8752 8757\\t...</td>\n",
       "      <td>T1\\tLIM 9715 9718\\tDNR\\nT2\\tLIM 9720 9722\\tok\\...</td>\n",
       "      <td>True</td>\n",
       "      <td>True</td>\n",
       "    </tr>\n",
       "    <tr>\n",
       "      <th>...</th>\n",
       "      <td>...</td>\n",
       "      <td>...</td>\n",
       "      <td>...</td>\n",
       "      <td>...</td>\n",
       "      <td>...</td>\n",
       "      <td>...</td>\n",
       "      <td>...</td>\n",
       "      <td>...</td>\n",
       "    </tr>\n",
       "    <tr>\n",
       "      <th>30187</th>\n",
       "      <td>512161</td>\n",
       "      <td>40622</td>\n",
       "      <td>135960</td>\n",
       "      <td>Events:\\n   =[**State **] tube d/c\\nd by GI MD...</td>\n",
       "      <td></td>\n",
       "      <td></td>\n",
       "      <td>False</td>\n",
       "      <td>False</td>\n",
       "    </tr>\n",
       "    <tr>\n",
       "      <th>30188</th>\n",
       "      <td>368110</td>\n",
       "      <td>31260</td>\n",
       "      <td>114524</td>\n",
       "      <td>62 yo woman w/ AF, CHF, ulcerative colitis pre...</td>\n",
       "      <td></td>\n",
       "      <td></td>\n",
       "      <td>False</td>\n",
       "      <td>False</td>\n",
       "    </tr>\n",
       "    <tr>\n",
       "      <th>30189</th>\n",
       "      <td>515920</td>\n",
       "      <td>84286</td>\n",
       "      <td>198906</td>\n",
       "      <td>CC: abdominal pain, nausea, vomiting\\n   HPI: ...</td>\n",
       "      <td></td>\n",
       "      <td></td>\n",
       "      <td>False</td>\n",
       "      <td>False</td>\n",
       "    </tr>\n",
       "    <tr>\n",
       "      <th>30190</th>\n",
       "      <td>582137</td>\n",
       "      <td>75281</td>\n",
       "      <td>123732</td>\n",
       "      <td>FULL CODE\\n   Ms. [**Known lastname 6887**] is...</td>\n",
       "      <td></td>\n",
       "      <td></td>\n",
       "      <td>False</td>\n",
       "      <td>False</td>\n",
       "    </tr>\n",
       "    <tr>\n",
       "      <th>30191</th>\n",
       "      <td>663523</td>\n",
       "      <td>69141</td>\n",
       "      <td>136542</td>\n",
       "      <td>Pt. found down by neighbor, brought to [**Name...</td>\n",
       "      <td></td>\n",
       "      <td></td>\n",
       "      <td>False</td>\n",
       "      <td>False</td>\n",
       "    </tr>\n",
       "  </tbody>\n",
       "</table>\n",
       "<p>30192 rows × 8 columns</p>\n",
       "</div>"
      ],
      "text/plain": [
       "       ROW_ID  SUBJECT_ID  HADM_ID  \\\n",
       "0      569890       81881   172088   \n",
       "1      463558       45391   103165   \n",
       "2      322892       16976   146043   \n",
       "3      597509       66745   192825   \n",
       "4      606029       77924   142313   \n",
       "...       ...         ...      ...   \n",
       "30187  512161       40622   135960   \n",
       "30188  368110       31260   114524   \n",
       "30189  515920       84286   198906   \n",
       "30190  582137       75281   123732   \n",
       "30191  663523       69141   136542   \n",
       "\n",
       "                                                    TEXT  \\\n",
       "0      The patient is a 48-yo man with chronic ETOH a...   \n",
       "1      Chief Complaint:\\n   24 Hour Events:\\n   - Pat...   \n",
       "2      .H/O hepatic encephalopathy\\n   Assessment:\\n ...   \n",
       "3      Nursing Admission Note:\\n   57 year old male w...   \n",
       "4      TITLE:\\n   Chief Complaint:\\n   24 Hour Events...   \n",
       "...                                                  ...   \n",
       "30187  Events:\\n   =[**State **] tube d/c\\nd by GI MD...   \n",
       "30188  62 yo woman w/ AF, CHF, ulcerative colitis pre...   \n",
       "30189  CC: abdominal pain, nausea, vomiting\\n   HPI: ...   \n",
       "30190  FULL CODE\\n   Ms. [**Known lastname 6887**] is...   \n",
       "30191  Pt. found down by neighbor, brought to [**Name...   \n",
       "\n",
       "                                       RESULT_STRING_CAR  \\\n",
       "0      T1\\tCAR 3508 3514\\tagreed\\nT2\\tCAR 3515 3517\\t...   \n",
       "1      T1\\tCAR 8153 8156\\tDNR\\nT2\\tCAR 8158 8160\\tdo\\...   \n",
       "2                                                          \n",
       "3                                                          \n",
       "4      T1\\tCAR 8745 8751\\tfamily\\nT2\\tCAR 8752 8757\\t...   \n",
       "...                                                  ...   \n",
       "30187                                                      \n",
       "30188                                                      \n",
       "30189                                                      \n",
       "30190                                                      \n",
       "30191                                                      \n",
       "\n",
       "                                       RESULT_STRING_LIM    CAR    LIM  \n",
       "0                                                          True  False  \n",
       "1      T1\\tLIM 8153 8156\\tDNR\\nT2\\tLIM 8158 8160\\tdo\\...   True   True  \n",
       "2                                                         False  False  \n",
       "3                                                         False  False  \n",
       "4      T1\\tLIM 9715 9718\\tDNR\\nT2\\tLIM 9720 9722\\tok\\...   True   True  \n",
       "...                                                  ...    ...    ...  \n",
       "30187                                                     False  False  \n",
       "30188                                                     False  False  \n",
       "30189                                                     False  False  \n",
       "30190                                                     False  False  \n",
       "30191                                                     False  False  \n",
       "\n",
       "[30192 rows x 8 columns]"
      ]
     },
     "execution_count": 5,
     "metadata": {},
     "output_type": "execute_result"
    }
   ],
   "source": [
    "df"
   ]
  },
  {
   "cell_type": "code",
   "execution_count": 6,
   "metadata": {},
   "outputs": [
    {
     "data": {
      "text/plain": [
       "'agreed to come to the hospital but did not want his mother notified'"
      ]
     },
     "execution_count": 6,
     "metadata": {},
     "output_type": "execute_result"
    }
   ],
   "source": [
    "def get_extracted_text(result_string):\n",
    "    results = result_string.splitlines()\n",
    "    results = [r.split()[-1] for r in results]\n",
    "    return \" \".join(results)\n",
    "\n",
    "get_extracted_text(df[\"RESULT_STRING_CAR\"].iloc[0])"
   ]
  }
 ],
 "metadata": {
  "kernelspec": {
   "display_name": "Python 3",
   "language": "python",
   "name": "python3"
  },
  "language_info": {
   "codemirror_mode": {
    "name": "ipython",
    "version": 3
   },
   "file_extension": ".py",
   "mimetype": "text/x-python",
   "name": "python",
   "nbconvert_exporter": "python",
   "pygments_lexer": "ipython3",
   "version": "3.7.6"
  }
 },
 "nbformat": 4,
 "nbformat_minor": 4
}
