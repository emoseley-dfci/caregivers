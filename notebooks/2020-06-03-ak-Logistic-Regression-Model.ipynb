{
 "cells": [
  {
   "cell_type": "markdown",
   "metadata": {},
   "source": [
    "# [Caregivers Project] Preliminary Models\n",
    "\n",
    "In this notebook we will try out:\n",
    "\n",
    "- Logistic Regression\n",
    "- Random Forest Classifier\n",
    "\n",
    "on the data containing labels from the latest (2020-06-03) regex search results."
   ]
  },
  {
   "cell_type": "code",
   "execution_count": 1,
   "metadata": {},
   "outputs": [],
   "source": [
    "import pandas as pd\n",
    "import matplotlib.pyplot as plt\n",
    "import seaborn as sns\n",
    "\n",
    "from cleaning.text_preprocessing import preprocess_text\n",
    "\n",
    "from sklearn.ensemble import RandomForestClassifier\n",
    "from sklearn.feature_extraction.text import CountVectorizer,\\\n",
    "                                            TfidfVectorizer,\\\n",
    "                                            TfidfTransformer\n",
    "from sklearn.linear_model import LogisticRegression\n",
    "from sklearn.metrics import accuracy_score,\\\n",
    "                            classification_report,\\\n",
    "                            confusion_matrix,\\\n",
    "                            plot_confusion_matrix\n",
    "from sklearn.model_selection import train_test_split,\\\n",
    "                                    GridSearchCV\n",
    "from sklearn.pipeline import Pipeline\n",
    "\n",
    "from time import time"
   ]
  },
  {
   "cell_type": "markdown",
   "metadata": {},
   "source": [
    "## Regex Results File"
   ]
  },
  {
   "cell_type": "code",
   "execution_count": 2,
   "metadata": {},
   "outputs": [],
   "source": [
    "df = pd.read_csv('../data/interim/2020-06-03-em-investigational_regex_results.csv')"
   ]
  },
  {
   "cell_type": "markdown",
   "metadata": {},
   "source": [
    "#### Total Number of Observations"
   ]
  },
  {
   "cell_type": "code",
   "execution_count": 3,
   "metadata": {},
   "outputs": [
    {
     "data": {
      "text/plain": [
       "108467"
      ]
     },
     "execution_count": 3,
     "metadata": {},
     "output_type": "execute_result"
    }
   ],
   "source": [
    "len(df)"
   ]
  },
  {
   "cell_type": "markdown",
   "metadata": {},
   "source": [
    "#### Number of Unique Values in Each Column"
   ]
  },
  {
   "cell_type": "code",
   "execution_count": 4,
   "metadata": {},
   "outputs": [
    {
     "data": {
      "text/plain": [
       "TEXT      108467\n",
       "CHILD          2\n",
       "SPOUSE         2\n",
       "dtype: int64"
      ]
     },
     "execution_count": 4,
     "metadata": {},
     "output_type": "execute_result"
    }
   ],
   "source": [
    "df[['TEXT', 'CHILD', 'SPOUSE']].nunique()"
   ]
  },
  {
   "cell_type": "markdown",
   "metadata": {},
   "source": [
    "#### Number of NA Values in Each Column"
   ]
  },
  {
   "cell_type": "code",
   "execution_count": 5,
   "metadata": {},
   "outputs": [
    {
     "data": {
      "text/plain": [
       "TEXT      0\n",
       "CHILD     0\n",
       "SPOUSE    0\n",
       "dtype: int64"
      ]
     },
     "execution_count": 5,
     "metadata": {},
     "output_type": "execute_result"
    }
   ],
   "source": [
    "df[['TEXT', 'CHILD', 'SPOUSE']].isna().sum()"
   ]
  },
  {
   "cell_type": "markdown",
   "metadata": {},
   "source": [
    "#### Value Counts"
   ]
  },
  {
   "cell_type": "code",
   "execution_count": 6,
   "metadata": {},
   "outputs": [
    {
     "data": {
      "text/plain": [
       "<matplotlib.axes._subplots.AxesSubplot at 0x7f0dbf8777f0>"
      ]
     },
     "execution_count": 6,
     "metadata": {},
     "output_type": "execute_result"
    },
    {
     "data": {
      "image/png": "[encoded data removed]",
      "text/plain": [
       "<Figure size 1152x288 with 2 Axes>"
      ]
     },
     "metadata": {
      "needs_background": "light"
     },
     "output_type": "display_data"
    }
   ],
   "source": [
    "fig, ax = plt.subplots(1, 2, figsize=(16, 4))\n",
    "\n",
    "sns.countplot(x='CHILD', data=df, ax=ax[0])\n",
    "sns.countplot(x='SPOUSE', data=df, ax=ax[1])"
   ]
  },
  {
   "cell_type": "markdown",
   "metadata": {},
   "source": [
    "## Logistic Regression Model"
   ]
  },
  {
   "cell_type": "markdown",
   "metadata": {},
   "source": [
    "Take first few notes as a \"dummy\" corpus to play around with just to see what the classes and methods do."
   ]
  },
  {
   "cell_type": "code",
   "execution_count": 7,
   "metadata": {},
   "outputs": [],
   "source": [
    "dummy_corpus = df['TEXT'].iloc[0:3]"
   ]
  },
  {
   "cell_type": "code",
   "execution_count": 8,
   "metadata": {},
   "outputs": [],
   "source": [
    "def vectorizer_fit_and_print(vectorizer, corpus, list_step=10):\n",
    "    matrix = vectorizer.fit_transform(corpus)\n",
    "    df = pd.DataFrame(matrix.todense().tolist(),\n",
    "                      columns=vectorizer.get_feature_names()).T\n",
    "    \n",
    "    print('{} Features (every {}):\\n\\n{}\\n'.format(vectorizer.__class__.__name__,\n",
    "                                                   list_step,\n",
    "                                                   vectorizer.get_feature_names()[::list_step]))\n",
    "    \n",
    "    print('{} Values:\\n\\n{}\\n'.format(vectorizer.__class__.__name__,\n",
    "                                      df))\n",
    "    \n",
    "    return vectorizer"
   ]
  },
  {
   "cell_type": "markdown",
   "metadata": {},
   "source": [
    "### CountVectorizer"
   ]
  },
  {
   "cell_type": "markdown",
   "metadata": {},
   "source": [
    "#### Basic Usage"
   ]
  },
  {
   "cell_type": "code",
   "execution_count": 9,
   "metadata": {
    "scrolled": false
   },
   "outputs": [
    {
     "name": "stdout",
     "output_type": "stream",
     "text": [
      "CountVectorizer Features (every 10):\n",
      "\n",
      "['00', '09', '130s', '153', '198', '24', '32', '42', '521', '6871', '83', '98', 'action', 'and', 'around', 'awaiting', 'bleeing', 'by', 'central', 'closely', 'conjunctiva', 'ctab', 'disease', 'drainage', 'ears', 'ext', 'fh', 'for', 'glycemic', 'hd', 'hold', 'hyperlipidemia', 'incisons', 'is', 'labs', 'lines', 'malignant', 'mg', 'month', 'neoplasm', 'nose', 'obtain', 'output', 'perrl', 'pmi', 'procedure', 'q4hour', 'related', 'restart', 'ros', 'serial', 'since', 'st', 'support', 'tenderness', 'tmax', 'trending', 'up', 'vital', 'while']\n",
      "\n",
      "CountVectorizer Values:\n",
      "\n",
      "           0  1  2\n",
      "00         2  1  2\n",
      "01         0  1  1\n",
      "02         0  1  0\n",
      "03         0  1  1\n",
      "04         0  0  1\n",
      "...       .. .. ..\n",
      "wnl        0  0  1\n",
      "wound      0  1  0\n",
      "year       0  0  1\n",
      "yesterday  0  2  0\n",
      "yo         0  0  1\n",
      "\n",
      "[599 rows x 3 columns]\n",
      "\n"
     ]
    },
    {
     "data": {
      "text/plain": [
       "CountVectorizer()"
      ]
     },
     "execution_count": 9,
     "metadata": {},
     "output_type": "execute_result"
    }
   ],
   "source": [
    "vectorizer_fit_and_print(CountVectorizer(),\n",
    "                        dummy_corpus)"
   ]
  },
  {
   "cell_type": "markdown",
   "metadata": {},
   "source": [
    "#### Add Preprocessor, Remove Stop Words"
   ]
  },
  {
   "cell_type": "code",
   "execution_count": 10,
   "metadata": {},
   "outputs": [
    {
     "name": "stdout",
     "output_type": "stream",
     "text": [
      "CountVectorizer Features (every 10):\n",
      "\n",
      "['abd', 'admission', 'anemia', 'around', 'awaiting', 'bleeding', 'but', 'cc', 'ckmb', 'complaint', 'crf', 'dialysis', 'downward', 'dt', 'examined', 'fenofibrate', 'follows', 'general', 'hcp', 'her', 'hpi', 'improves', 'instability', 'kul', 'likely', 'lytes', 'meql', 'mmoll', 'nephrectomy', 'note', 'old', 'patient', 'plan', 'prbcs', 'pulses', 'recommendations', 'responds', 'right', 'serial', 'since', 'sr', 'stopped', 'tenderness', 'tmax', 'trending', 'urology', 'vs', 'will']\n",
      "\n",
      "CountVectorizer Values:\n",
      "\n",
      "           0  1  2\n",
      "abd        0  1  1\n",
      "abdominal  0  0  1\n",
      "abg        0  1  1\n",
      "above      0  0  2\n",
      "absent     0  0  2\n",
      "...       .. .. ..\n",
      "wnl        0  0  1\n",
      "wound      0  1  0\n",
      "year       0  0  1\n",
      "yesterday  0  2  0\n",
      "yo         1  1  1\n",
      "\n",
      "[477 rows x 3 columns]\n",
      "\n"
     ]
    },
    {
     "data": {
      "text/plain": [
       "CountVectorizer(preprocessor=<function preprocess_text at 0x7f0dc4dc6430>)"
      ]
     },
     "execution_count": 10,
     "metadata": {},
     "output_type": "execute_result"
    }
   ],
   "source": [
    "vectorizer_fit_and_print(CountVectorizer(preprocessor=preprocess_text),\n",
    "                        dummy_corpus)"
   ]
  },
  {
   "cell_type": "markdown",
   "metadata": {},
   "source": [
    "### TfidfVectorizer"
   ]
  },
  {
   "cell_type": "markdown",
   "metadata": {},
   "source": [
    "#### Basic Usage"
   ]
  },
  {
   "cell_type": "code",
   "execution_count": 11,
   "metadata": {
    "scrolled": false
   },
   "outputs": [
    {
     "name": "stdout",
     "output_type": "stream",
     "text": [
      "TfidfVectorizer Features (every 10):\n",
      "\n",
      "['00', '09', '130s', '153', '198', '24', '32', '42', '521', '6871', '83', '98', 'action', 'and', 'around', 'awaiting', 'bleeing', 'by', 'central', 'closely', 'conjunctiva', 'ctab', 'disease', 'drainage', 'ears', 'ext', 'fh', 'for', 'glycemic', 'hd', 'hold', 'hyperlipidemia', 'incisons', 'is', 'labs', 'lines', 'malignant', 'mg', 'month', 'neoplasm', 'nose', 'obtain', 'output', 'perrl', 'pmi', 'procedure', 'q4hour', 'related', 'restart', 'ros', 'serial', 'since', 'st', 'support', 'tenderness', 'tmax', 'trending', 'up', 'vital', 'while']\n",
      "\n",
      "TfidfVectorizer Values:\n",
      "\n",
      "                  0         1         2\n",
      "00         0.089143  0.017625  0.032687\n",
      "01         0.000000  0.022695  0.021045\n",
      "02         0.000000  0.029841  0.000000\n",
      "03         0.000000  0.022695  0.021045\n",
      "04         0.000000  0.000000  0.027672\n",
      "...             ...       ...       ...\n",
      "wnl        0.000000  0.000000  0.027672\n",
      "wound      0.000000  0.029841  0.000000\n",
      "year       0.000000  0.000000  0.027672\n",
      "yesterday  0.000000  0.059682  0.000000\n",
      "yo         0.000000  0.000000  0.027672\n",
      "\n",
      "[599 rows x 3 columns]\n",
      "\n"
     ]
    },
    {
     "data": {
      "text/plain": [
       "TfidfVectorizer()"
      ]
     },
     "execution_count": 11,
     "metadata": {},
     "output_type": "execute_result"
    }
   ],
   "source": [
    "vectorizer_fit_and_print(TfidfVectorizer(), dummy_corpus)"
   ]
  },
  {
   "cell_type": "markdown",
   "metadata": {},
   "source": [
    "#### Add Preprocessor, Remove Stop Words"
   ]
  },
  {
   "cell_type": "code",
   "execution_count": 12,
   "metadata": {},
   "outputs": [
    {
     "name": "stdout",
     "output_type": "stream",
     "text": [
      "TfidfVectorizer Features (every 10):\n",
      "\n",
      "['abd', 'admission', 'anemia', 'around', 'awaiting', 'bleeding', 'but', 'cc', 'ckmb', 'complaint', 'crf', 'dialysis', 'downward', 'dt', 'examined', 'fenofibrate', 'follows', 'general', 'hcp', 'her', 'hpi', 'improves', 'instability', 'kul', 'likely', 'lytes', 'meql', 'mmoll', 'nephrectomy', 'note', 'old', 'patient', 'plan', 'prbcs', 'pulses', 'recommendations', 'responds', 'right', 'serial', 'since', 'sr', 'stopped', 'tenderness', 'tmax', 'trending', 'urology', 'vs', 'will']\n",
      "\n",
      "TfidfVectorizer Values:\n",
      "\n",
      "                  0         1         2\n",
      "abd        0.000000  0.027228  0.026838\n",
      "abdominal  0.000000  0.000000  0.035288\n",
      "abg        0.000000  0.027228  0.026838\n",
      "above      0.000000  0.000000  0.070577\n",
      "absent     0.000000  0.000000  0.070577\n",
      "...             ...       ...       ...\n",
      "wnl        0.000000  0.000000  0.035288\n",
      "wound      0.000000  0.035802  0.000000\n",
      "year       0.000000  0.000000  0.035288\n",
      "yesterday  0.000000  0.071604  0.000000\n",
      "yo         0.045337  0.021145  0.020842\n",
      "\n",
      "[477 rows x 3 columns]\n",
      "\n"
     ]
    },
    {
     "data": {
      "text/plain": [
       "TfidfVectorizer(preprocessor=<function preprocess_text at 0x7f0dc4dc6430>)"
      ]
     },
     "execution_count": 12,
     "metadata": {},
     "output_type": "execute_result"
    }
   ],
   "source": [
    "vectorizer_fit_and_print(TfidfVectorizer(preprocessor=preprocess_text), dummy_corpus)"
   ]
  },
  {
   "cell_type": "markdown",
   "metadata": {},
   "source": [
    "### Logistic Regression (and Random Forest, just for fun)"
   ]
  },
  {
   "cell_type": "code",
   "execution_count": 13,
   "metadata": {},
   "outputs": [
    {
     "name": "stderr",
     "output_type": "stream",
     "text": [
      "[Parallel(n_jobs=-1)]: Using backend LokyBackend with 12 concurrent workers.\n",
      "[Parallel(n_jobs=-1)]: Done   1 out of   1 | elapsed:   17.6s finished\n",
      "[Parallel(n_jobs=-1)]: Using backend ThreadingBackend with 12 concurrent workers.\n",
      "[Parallel(n_jobs=-1)]: Done  26 tasks      | elapsed:    9.4s\n",
      "[Parallel(n_jobs=-1)]: Done 100 out of 100 | elapsed:   28.3s finished\n",
      "[Parallel(n_jobs=12)]: Using backend ThreadingBackend with 12 concurrent workers.\n",
      "[Parallel(n_jobs=12)]: Done  26 tasks      | elapsed:    0.1s\n",
      "[Parallel(n_jobs=12)]: Done 100 out of 100 | elapsed:    0.3s finished\n"
     ]
    }
   ],
   "source": [
    "test_size = 0.2\n",
    "random_state = 10\n",
    "\n",
    "x_train, x_valid, y_train, y_valid = train_test_split(df['TEXT'],\n",
    "                                                      df['CHILD'],\n",
    "                                                      test_size=test_size,\n",
    "                                                      random_state=random_state)\n",
    "\n",
    "# Logistic Regression\n",
    "pipe_LR = Pipeline([('vect', CountVectorizer(preprocessor=preprocess_text,\n",
    "                                             stop_words='english')),\n",
    "                    ('tfidf', TfidfTransformer()),\n",
    "                    ('model', LogisticRegression(class_weight='balanced',\n",
    "                                                 max_iter=200,\n",
    "                                                 verbose=1,\n",
    "                                                 n_jobs=-1))])\n",
    "\n",
    "# Random Forest\n",
    "pipe_RF = Pipeline([('vect', CountVectorizer(preprocessor=preprocess_text,\n",
    "                                             stop_words='english')),\n",
    "                   ('tfidf', TfidfTransformer()),\n",
    "                   ('model', RandomForestClassifier(class_weight='balanced',\n",
    "                                                   verbose=1,\n",
    "                                                   n_jobs=-1))])\n",
    "\n",
    "model_LR = pipe_LR.fit(x_train, y_train)\n",
    "model_RF = pipe_RF.fit(x_train, y_train)\n",
    "\n",
    "y_pred_LR = model_LR.predict(x_valid)\n",
    "y_pred_RF = model_RF.predict(x_valid)"
   ]
  },
  {
   "cell_type": "code",
   "execution_count": 14,
   "metadata": {},
   "outputs": [],
   "source": [
    "def print_results(pipe, x_valid, y_valid, y_pred, header=''):\n",
    "    print(header)\n",
    "    print('Accuracy (validation): {}%\\n'.format(round(accuracy_score(y_valid, y_pred)*100, 2)))\n",
    "    print(classification_report(y_valid, y_pred))\n",
    "    print('Confusion Matrix:\\n{}'.format(confusion_matrix(y_valid, y_pred)))\n",
    "\n",
    "    return plot_confusion_matrix(pipe, x_valid, y_valid, normalize='true')"
   ]
  },
  {
   "cell_type": "markdown",
   "metadata": {},
   "source": [
    "#### Logistic Regression"
   ]
  },
  {
   "cell_type": "code",
   "execution_count": 15,
   "metadata": {
    "scrolled": false
   },
   "outputs": [
    {
     "name": "stdout",
     "output_type": "stream",
     "text": [
      "\n",
      "Accuracy (validation): 96.13%\n",
      "\n",
      "              precision    recall  f1-score   support\n",
      "\n",
      "           0       0.99      0.96      0.97     16399\n",
      "           1       0.89      0.97      0.92      5295\n",
      "\n",
      "    accuracy                           0.96     21694\n",
      "   macro avg       0.94      0.96      0.95     21694\n",
      "weighted avg       0.96      0.96      0.96     21694\n",
      "\n",
      "Confusion Matrix:\n",
      "[[15736   663]\n",
      " [  176  5119]]\n"
     ]
    },
    {
     "data": {
      "text/plain": [
       "<sklearn.metrics._plot.confusion_matrix.ConfusionMatrixDisplay at 0x7f0dbf81a310>"
      ]
     },
     "execution_count": 15,
     "metadata": {},
     "output_type": "execute_result"
    },
    {
     "data": {
      "image/png": "[encoded data removed]",
      "text/plain": [
       "<Figure size 432x288 with 2 Axes>"
      ]
     },
     "metadata": {
      "needs_background": "light"
     },
     "output_type": "display_data"
    }
   ],
   "source": [
    "print_results(pipe_LR, x_valid, y_valid, y_pred_LR)"
   ]
  },
  {
   "cell_type": "markdown",
   "metadata": {},
   "source": [
    "#### Random Forest"
   ]
  },
  {
   "cell_type": "code",
   "execution_count": 16,
   "metadata": {},
   "outputs": [
    {
     "name": "stdout",
     "output_type": "stream",
     "text": [
      "\n",
      "Accuracy (validation): 94.1%\n",
      "\n",
      "              precision    recall  f1-score   support\n",
      "\n",
      "           0       0.93      1.00      0.96     16399\n",
      "           1       0.98      0.77      0.86      5295\n",
      "\n",
      "    accuracy                           0.94     21694\n",
      "   macro avg       0.96      0.88      0.91     21694\n",
      "weighted avg       0.94      0.94      0.94     21694\n",
      "\n",
      "Confusion Matrix:\n",
      "[[16333    66]\n",
      " [ 1213  4082]]\n"
     ]
    },
    {
     "name": "stderr",
     "output_type": "stream",
     "text": [
      "[Parallel(n_jobs=12)]: Using backend ThreadingBackend with 12 concurrent workers.\n",
      "[Parallel(n_jobs=12)]: Done  26 tasks      | elapsed:    0.1s\n",
      "[Parallel(n_jobs=12)]: Done 100 out of 100 | elapsed:    0.3s finished\n"
     ]
    },
    {
     "data": {
      "text/plain": [
       "<sklearn.metrics._plot.confusion_matrix.ConfusionMatrixDisplay at 0x7f0dbf86dc70>"
      ]
     },
     "execution_count": 16,
     "metadata": {},
     "output_type": "execute_result"
    },
    {
     "data": {
      "image/png": "[encoded data removed]",
      "text/plain": [
       "<Figure size 432x288 with 2 Axes>"
      ]
     },
     "metadata": {
      "needs_background": "light"
     },
     "output_type": "display_data"
    }
   ],
   "source": [
    "print_results(pipe_RF, x_valid, y_valid, y_pred_RF)"
   ]
  },
  {
   "cell_type": "markdown",
   "metadata": {},
   "source": [
    "## Other Notes?"
   ]
  },
  {
   "cell_type": "markdown",
   "metadata": {},
   "source": [
    "Let's see what the model predicts on notes outside the original set (just for fun).\n",
    "\n",
    "The [`NOTEEVENTS` table](https://mimic.physionet.org/mimictables/noteevents/) (~1 GB) from MIMIC:"
   ]
  },
  {
   "cell_type": "code",
   "execution_count": 17,
   "metadata": {},
   "outputs": [
    {
     "name": "stderr",
     "output_type": "stream",
     "text": [
      "/home/anne/Desktop/caregivers/venv/lib/python3.8/site-packages/IPython/core/interactiveshell.py:3062: DtypeWarning: Columns (4,5) have mixed types.Specify dtype option on import or set low_memory=False.\n",
      "  has_raised = await self.run_ast_nodes(code_ast.body, cell_name,\n"
     ]
    }
   ],
   "source": [
    "df_NE = pd.read_csv('../data/raw/mimic-iii/NOTEEVENTS.csv')"
   ]
  },
  {
   "cell_type": "code",
   "execution_count": 18,
   "metadata": {},
   "outputs": [],
   "source": [
    "df_NE_unseen = df_NE[~df_NE['ROW_ID'].isin(df['ROW_ID'].values)]\n",
    "df_unseen = df_NE_unseen.sample(n=1000, random_state=1)"
   ]
  },
  {
   "cell_type": "code",
   "execution_count": 19,
   "metadata": {
    "scrolled": false
   },
   "outputs": [
    {
     "name": "stdout",
     "output_type": "stream",
     "text": [
      "[**2141-2-8**] 8:45 PM\n",
      " TRAUMA SERIES (LAT C-SPINE, AP CXR, AP PELVIS PORT) PORT        Clip # [**Clip Number (Radiology) 38650**]\n",
      " Reason: S/P MVA\n",
      " ______________________________________________________________________________\n",
      " [**Hospital 4**] MEDICAL CONDITION:\n",
      "  73 year old man with traumatic injury\n",
      " REASON FOR THIS EXAMINATION:\n",
      "  r/o traumatic injury\n",
      " ______________________________________________________________________________\n",
      "                                 FINAL REPORT\n",
      " HISTORY:  Major trauma.  Trauma series.\n",
      "\n",
      " Cross table lateral film cervical spine images only to level of the C6-7 disc.\n",
      " Normal vertebral body alignment and discs with no fractures identified. It is\n",
      " difficult to assess the prevertebral soft tissues which are probably normal.\n",
      "\n",
      " AP supine film of the chest done on trauma board does not image the left\n",
      " lateral hemithorax and lung.  No cardiomegaly, vascular congestion,\n",
      " consolidations, or mediastinal widening identified.  The right CP angle is\n",
      " sharp.  There is a fracture of the posterolateral 6th right rib which is\n",
      " probably old or subacute.\n",
      "\n",
      " AP supine film of the pelvis on trauma board does not completely image the\n",
      " left lateral pelvis.  The hip and SI joints are normal and no fractures\n",
      " identified.  Vascular calcifications.\n",
      "\n",
      " IMPRESSION:  No significant abnormalities identified although these exams are\n",
      " not optimal.\n",
      "\n",
      "\n",
      "\n"
     ]
    }
   ],
   "source": [
    "model = model_LR  # Change to model_RF if desired\n",
    "\n",
    "pred_unseen = model.predict(df_unseen['TEXT'])\n",
    "pred_unseen = pd.Series(pred_unseen).astype(bool)\n",
    "\n",
    "df_unseen_positive = df_unseen.reset_index(drop=True)[pred_unseen]\n",
    "\n",
    "\n",
    "print(df_unseen_positive['TEXT'].iloc[0])"
   ]
  },
  {
   "cell_type": "code",
   "execution_count": 21,
   "metadata": {
    "scrolled": true
   },
   "outputs": [
    {
     "name": "stdout",
     "output_type": "stream",
     "text": [
      "20\n",
      "251\n"
     ]
    }
   ],
   "source": [
    "# what proportion of the notes predicted positive don't have any of 'son', 'daughter', or 'child' in them?\n",
    "df_no_son_daughter_child = df_unseen_positive[~(df_unseen_positive['TEXT'].str.lower().str.contains('son') | \n",
    "                                                df_unseen_positive['TEXT'].str.lower().str.contains('daughter') | \n",
    "                                                df_unseen_positive['TEXT'].str.lower().str.contains('child'))]\n",
    "\n",
    "print(len(df_no_son_daughter_child))\n",
    "print(len(df_unseen_positive))"
   ]
  }
 ],
 "metadata": {
  "kernelspec": {
   "display_name": "Python 3",
   "language": "python",
   "name": "python3"
  },
  "language_info": {
   "codemirror_mode": {
    "name": "ipython",
    "version": 3
   },
   "file_extension": ".py",
   "mimetype": "text/x-python",
   "name": "python",
   "nbconvert_exporter": "python",
   "pygments_lexer": "ipython3",
   "version": "3.8.3"
  }
 },
 "nbformat": 4,
 "nbformat_minor": 4
}
