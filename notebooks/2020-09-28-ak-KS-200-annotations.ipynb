{
 "cells": [
  {
   "cell_type": "markdown",
   "metadata": {},
   "source": [
    "# IAA Quick Check\n",
    "\n",
    "Khuyen and Sandra, first 200 notes."
   ]
  },
  {
   "cell_type": "code",
   "execution_count": 1,
   "metadata": {},
   "outputs": [],
   "source": [
    "import pandas as pd\n",
    "import json\n",
    "import numpy as np\n",
    "import matplotlib.pyplot as plt\n",
    "\n",
    "from sklearn.metrics import cohen_kappa_score, confusion_matrix, precision_score, recall_score"
   ]
  },
  {
   "cell_type": "code",
   "execution_count": 2,
   "metadata": {},
   "outputs": [],
   "source": [
    "FILE_K = '../data/raw/2020-09-22-kd-200-annotations.csv'\n",
    "FILE_S = '../data/raw/2020-09-28-sz-200-annotations.csv'\n",
    "FILE_original = '../data/raw/caregivers_set13Jul2020.csv'\n",
    "\n",
    "# what to rename columns containing annotations as\n",
    "COL_CHILD = 'child'\n",
    "COL_SPOUSE = 'spouse'\n",
    "\n",
    "N_ROWS_TO_USE = 234                        # see note below on why this is\n",
    "\n",
    "df_o = pd.read_csv(FILE_original)          # original file provided to annotators, in case it's helpful later\n",
    "df_k = pd.read_csv(FILE_K)\n",
    "df_s = pd.read_csv(FILE_S)\n",
    "\n",
    "ids_k = df_k[:N_ROWS_TO_USE]['id']\n",
    "ids_s = df_s[:N_ROWS_TO_USE]['id']\n",
    "\n",
    "ids = set(ids_k) & set(ids_s)  # common annotations, in theory ids == ids_k == ids_s and len(ids) == 200\n",
    "\n",
    "assert ids_k.equals(ids_s)\n",
    "assert len(ids) == 200"
   ]
  },
  {
   "cell_type": "code",
   "execution_count": 3,
   "metadata": {},
   "outputs": [
    {
     "data": {
      "text/html": [
       "<div>\n",
       "<style scoped>\n",
       "    .dataframe tbody tr th:only-of-type {\n",
       "        vertical-align: middle;\n",
       "    }\n",
       "\n",
       "    .dataframe tbody tr th {\n",
       "        vertical-align: top;\n",
       "    }\n",
       "\n",
       "    .dataframe thead th {\n",
       "        text-align: right;\n",
       "    }\n",
       "</style>\n",
       "<table border=\"1\" class=\"dataframe\">\n",
       "  <thead>\n",
       "    <tr style=\"text-align: right;\">\n",
       "      <th></th>\n",
       "      <th>id</th>\n",
       "      <th>text</th>\n",
       "      <th>L1</th>\n",
       "      <th>L2</th>\n",
       "      <th>L3</th>\n",
       "      <th>annotationValues</th>\n",
       "      <th>labels</th>\n",
       "      <th>settings</th>\n",
       "      <th>update</th>\n",
       "    </tr>\n",
       "  </thead>\n",
       "  <tbody>\n",
       "    <tr>\n",
       "      <th>0</th>\n",
       "      <td>103165</td>\n",
       "      <td>[. . .]                                       ...</td>\n",
       "      <td>[{\"keyword\":\"daughter\",\"start\":8194,\"length\":8}]</td>\n",
       "      <td>[]</td>\n",
       "      <td>[]</td>\n",
       "      <td>{\"L1_annotation\":1,\"L2_annotation\":0,\"L3_annot...</td>\n",
       "      <td>{\"L1_title\":\"child\",\"L1_keywords\":\"child, chil...</td>\n",
       "      <td>{\"reviewMode\":\"0\",\"displayMode\":\"0\",\"numWords\"...</td>\n",
       "      <td>0</td>\n",
       "    </tr>\n",
       "    <tr>\n",
       "      <th>1</th>\n",
       "      <td>142313</td>\n",
       "      <td>[. . .]                                       ...</td>\n",
       "      <td>[{\"keyword\":\"daughter\",\"start\":9857,\"length\":8}]</td>\n",
       "      <td>[]</td>\n",
       "      <td>[]</td>\n",
       "      <td>{\"L1_annotation\":1,\"L2_annotation\":0,\"L3_annot...</td>\n",
       "      <td>NaN</td>\n",
       "      <td>NaN</td>\n",
       "      <td>0</td>\n",
       "    </tr>\n",
       "    <tr>\n",
       "      <th>2</th>\n",
       "      <td>160258</td>\n",
       "      <td>[. . .]                                       ...</td>\n",
       "      <td>[]</td>\n",
       "      <td>[{\"keyword\":\"husband\",\"start\":5591,\"length\":7}]</td>\n",
       "      <td>[]</td>\n",
       "      <td>{\"L1_annotation\":0,\"L2_annotation\":1,\"L3_annot...</td>\n",
       "      <td>NaN</td>\n",
       "      <td>NaN</td>\n",
       "      <td>0</td>\n",
       "    </tr>\n",
       "    <tr>\n",
       "      <th>3</th>\n",
       "      <td>134799</td>\n",
       "      <td>[. . .]                                       ...</td>\n",
       "      <td>[]</td>\n",
       "      <td>[{\"keyword\":\"girlfriend\",\"start\":661,\"length\":...</td>\n",
       "      <td>[]</td>\n",
       "      <td>{\"L1_annotation\":0,\"L2_annotation\":1,\"L3_annot...</td>\n",
       "      <td>NaN</td>\n",
       "      <td>NaN</td>\n",
       "      <td>0</td>\n",
       "    </tr>\n",
       "    <tr>\n",
       "      <th>4</th>\n",
       "      <td>130639</td>\n",
       "      <td>[. . .]                                       ...</td>\n",
       "      <td>[]</td>\n",
       "      <td>[{\"keyword\":\"fiance\",\"start\":4078,\"length\":6}]</td>\n",
       "      <td>[]</td>\n",
       "      <td>{\"L1_annotation\":0,\"L2_annotation\":1,\"L3_annot...</td>\n",
       "      <td>NaN</td>\n",
       "      <td>NaN</td>\n",
       "      <td>0</td>\n",
       "    </tr>\n",
       "    <tr>\n",
       "      <th>...</th>\n",
       "      <td>...</td>\n",
       "      <td>...</td>\n",
       "      <td>...</td>\n",
       "      <td>...</td>\n",
       "      <td>...</td>\n",
       "      <td>...</td>\n",
       "      <td>...</td>\n",
       "      <td>...</td>\n",
       "      <td>...</td>\n",
       "    </tr>\n",
       "    <tr>\n",
       "      <th>9179</th>\n",
       "      <td>138719</td>\n",
       "      <td>[. . .]                                       ...</td>\n",
       "      <td>[{\"keyword\":\"Son\",\"start\":11537,\"length\":3},{\"...</td>\n",
       "      <td>[]</td>\n",
       "      <td>[]</td>\n",
       "      <td>{\"L1_annotation\":1,\"L2_annotation\":0,\"L3_annot...</td>\n",
       "      <td>NaN</td>\n",
       "      <td>NaN</td>\n",
       "      <td>0</td>\n",
       "    </tr>\n",
       "    <tr>\n",
       "      <th>9180</th>\n",
       "      <td>194618</td>\n",
       "      <td>[. . .]                                       ...</td>\n",
       "      <td>[]</td>\n",
       "      <td>[{\"keyword\":\"husband\",\"start\":4952,\"length\":7}]</td>\n",
       "      <td>[]</td>\n",
       "      <td>{\"L1_annotation\":0,\"L2_annotation\":1,\"L3_annot...</td>\n",
       "      <td>NaN</td>\n",
       "      <td>NaN</td>\n",
       "      <td>0</td>\n",
       "    </tr>\n",
       "    <tr>\n",
       "      <th>9181</th>\n",
       "      <td>138836</td>\n",
       "      <td>[. . .]                                       ...</td>\n",
       "      <td>[{\"keyword\":\"son\",\"start\":5057,\"length\":3},{\"k...</td>\n",
       "      <td>[]</td>\n",
       "      <td>[]</td>\n",
       "      <td>{\"L1_annotation\":1,\"L2_annotation\":0,\"L3_annot...</td>\n",
       "      <td>NaN</td>\n",
       "      <td>NaN</td>\n",
       "      <td>0</td>\n",
       "    </tr>\n",
       "    <tr>\n",
       "      <th>9182</th>\n",
       "      <td>134768</td>\n",
       "      <td>This is a 63yoM w/h/o 4V CABG in [**4-21**] an...</td>\n",
       "      <td>[]</td>\n",
       "      <td>[{\"keyword\":\"wife\",\"start\":198,\"length\":4},{\"k...</td>\n",
       "      <td>[]</td>\n",
       "      <td>{\"L1_annotation\":0,\"L2_annotation\":1,\"L3_annot...</td>\n",
       "      <td>NaN</td>\n",
       "      <td>NaN</td>\n",
       "      <td>0</td>\n",
       "    </tr>\n",
       "    <tr>\n",
       "      <th>9183</th>\n",
       "      <td>103446</td>\n",
       "      <td>[. . .]                                       ...</td>\n",
       "      <td>[]</td>\n",
       "      <td>[{\"keyword\":\"ex\",\"start\":596,\"length\":2},{\"key...</td>\n",
       "      <td>[]</td>\n",
       "      <td>{\"L1_annotation\":0,\"L2_annotation\":1,\"L3_annot...</td>\n",
       "      <td>NaN</td>\n",
       "      <td>NaN</td>\n",
       "      <td>0</td>\n",
       "    </tr>\n",
       "  </tbody>\n",
       "</table>\n",
       "<p>9184 rows × 9 columns</p>\n",
       "</div>"
      ],
      "text/plain": [
       "          id                                               text  \\\n",
       "0     103165  [. . .]                                       ...   \n",
       "1     142313  [. . .]                                       ...   \n",
       "2     160258  [. . .]                                       ...   \n",
       "3     134799  [. . .]                                       ...   \n",
       "4     130639  [. . .]                                       ...   \n",
       "...      ...                                                ...   \n",
       "9179  138719  [. . .]                                       ...   \n",
       "9180  194618  [. . .]                                       ...   \n",
       "9181  138836  [. . .]                                       ...   \n",
       "9182  134768  This is a 63yoM w/h/o 4V CABG in [**4-21**] an...   \n",
       "9183  103446  [. . .]                                       ...   \n",
       "\n",
       "                                                     L1  \\\n",
       "0      [{\"keyword\":\"daughter\",\"start\":8194,\"length\":8}]   \n",
       "1      [{\"keyword\":\"daughter\",\"start\":9857,\"length\":8}]   \n",
       "2                                                    []   \n",
       "3                                                    []   \n",
       "4                                                    []   \n",
       "...                                                 ...   \n",
       "9179  [{\"keyword\":\"Son\",\"start\":11537,\"length\":3},{\"...   \n",
       "9180                                                 []   \n",
       "9181  [{\"keyword\":\"son\",\"start\":5057,\"length\":3},{\"k...   \n",
       "9182                                                 []   \n",
       "9183                                                 []   \n",
       "\n",
       "                                                     L2  L3  \\\n",
       "0                                                    []  []   \n",
       "1                                                    []  []   \n",
       "2       [{\"keyword\":\"husband\",\"start\":5591,\"length\":7}]  []   \n",
       "3     [{\"keyword\":\"girlfriend\",\"start\":661,\"length\":...  []   \n",
       "4        [{\"keyword\":\"fiance\",\"start\":4078,\"length\":6}]  []   \n",
       "...                                                 ...  ..   \n",
       "9179                                                 []  []   \n",
       "9180    [{\"keyword\":\"husband\",\"start\":4952,\"length\":7}]  []   \n",
       "9181                                                 []  []   \n",
       "9182  [{\"keyword\":\"wife\",\"start\":198,\"length\":4},{\"k...  []   \n",
       "9183  [{\"keyword\":\"ex\",\"start\":596,\"length\":2},{\"key...  []   \n",
       "\n",
       "                                       annotationValues  \\\n",
       "0     {\"L1_annotation\":1,\"L2_annotation\":0,\"L3_annot...   \n",
       "1     {\"L1_annotation\":1,\"L2_annotation\":0,\"L3_annot...   \n",
       "2     {\"L1_annotation\":0,\"L2_annotation\":1,\"L3_annot...   \n",
       "3     {\"L1_annotation\":0,\"L2_annotation\":1,\"L3_annot...   \n",
       "4     {\"L1_annotation\":0,\"L2_annotation\":1,\"L3_annot...   \n",
       "...                                                 ...   \n",
       "9179  {\"L1_annotation\":1,\"L2_annotation\":0,\"L3_annot...   \n",
       "9180  {\"L1_annotation\":0,\"L2_annotation\":1,\"L3_annot...   \n",
       "9181  {\"L1_annotation\":1,\"L2_annotation\":0,\"L3_annot...   \n",
       "9182  {\"L1_annotation\":0,\"L2_annotation\":1,\"L3_annot...   \n",
       "9183  {\"L1_annotation\":0,\"L2_annotation\":1,\"L3_annot...   \n",
       "\n",
       "                                                 labels  \\\n",
       "0     {\"L1_title\":\"child\",\"L1_keywords\":\"child, chil...   \n",
       "1                                                   NaN   \n",
       "2                                                   NaN   \n",
       "3                                                   NaN   \n",
       "4                                                   NaN   \n",
       "...                                                 ...   \n",
       "9179                                                NaN   \n",
       "9180                                                NaN   \n",
       "9181                                                NaN   \n",
       "9182                                                NaN   \n",
       "9183                                                NaN   \n",
       "\n",
       "                                               settings  update  \n",
       "0     {\"reviewMode\":\"0\",\"displayMode\":\"0\",\"numWords\"...       0  \n",
       "1                                                   NaN       0  \n",
       "2                                                   NaN       0  \n",
       "3                                                   NaN       0  \n",
       "4                                                   NaN       0  \n",
       "...                                                 ...     ...  \n",
       "9179                                                NaN       0  \n",
       "9180                                                NaN       0  \n",
       "9181                                                NaN       0  \n",
       "9182                                                NaN       0  \n",
       "9183                                                NaN       0  \n",
       "\n",
       "[9184 rows x 9 columns]"
      ]
     },
     "execution_count": 3,
     "metadata": {},
     "output_type": "execute_result"
    }
   ],
   "source": [
    "df_k"
   ]
  },
  {
   "cell_type": "markdown",
   "metadata": {},
   "source": [
    "#### Note on Clinical Regex output peculiarity\n",
    "The rows in the imported DataFrame don't actually correspond to the entry numbers displayed when using Clinical Regex. \n",
    "\n",
    "For example, Khuyen's file loaded into Clinical Regex indicates she stopped at entry 201, which has `id=105582` (`id` here corresponds to `HADM_ID` in the original data file). But `id=105582` is at index 234 in the DataFrame (see below).\n",
    "\n",
    "For now I will assume the set of unique values in `all_ids[:235]` is the set which was annotated. (The size of this set here does indeed turn out to be 200, so it's plausible that this is the case.)"
   ]
  },
  {
   "cell_type": "code",
   "execution_count": 4,
   "metadata": {},
   "outputs": [
    {
     "name": "stdout",
     "output_type": "stream",
     "text": [
      "The index of the final id within the imported DataFrame is 234.\n"
     ]
    }
   ],
   "source": [
    "# I use Khuyen's data for this, but it's easy to check it's the same case for Sandra's as well\n",
    "\n",
    "ids_unique = df_k['id'].unique()\n",
    "ids_all = df_k['id']\n",
    "\n",
    "id_final = 105582\n",
    "id_final_index = list(ids_all).index(id_final)\n",
    "\n",
    "print('The index of the final id within the imported DataFrame is {}.'.format(id_final_index))\n",
    "\n",
    "assert list(ids_unique).index(id_final) == 200\n",
    "assert len(ids_all[:id_final_index].unique()) == 200"
   ]
  },
  {
   "cell_type": "markdown",
   "metadata": {},
   "source": [
    "## Minor Cleanup\n",
    "\n",
    "- Rehsape annotation data (annotations are provided in a pseudo-JSON string column)\n",
    "- Resolve rows with duplicate `id`s\n",
    "- Select rows that were annotated by both annotators"
   ]
  },
  {
   "cell_type": "code",
   "execution_count": 5,
   "metadata": {},
   "outputs": [],
   "source": [
    "def reshape_cr_json(df):\n",
    "    \"\"\"Convert ClinicalRegex's 'annotationValues' from a 'JSON' string\n",
    "    (into appropriate columns).\"\"\"\n",
    "    df_annotations = pd.json_normalize(df['annotationValues'].map(json.loads))\n",
    "    \n",
    "    return pd.concat([df, df_annotations], axis=1)\n",
    "\n",
    "def resolve_annotations(arr):\n",
    "    \"\"\"An entry (in this case this is a HADM) gets a value of 1 if\n",
    "    any of the notes are annotated with 1.\n",
    "    \"\"\"\n",
    "    \n",
    "    unique = set(arr)\n",
    "    \n",
    "    if len(arr) <= 0:\n",
    "        return arr\n",
    "\n",
    "    elif len(unique) == 1:\n",
    "        return list(arr)[0]\n",
    "    \n",
    "    elif unique == {0, 1}:\n",
    "        return 1\n",
    "    \n",
    "    else:\n",
    "        raise ValueError('Resolution of annotations unclear/undecided.', arr)\n",
    "        \n",
    "def get_annotation_values(df):\n",
    "    return df.groupby('id')\\\n",
    "             .agg({'L1_annotation': resolve_annotations,\n",
    "                   'L2_annotation': resolve_annotations,\n",
    "                   'L1': list,\n",
    "                   'L2': list,\n",
    "                   'text': list})\\\n",
    "             .reset_index()\n",
    "\n",
    "def rename_columns(df):\n",
    "    return df.rename(columns={'L1_annotation': COL_CHILD,\n",
    "                              'L2_annotation': COL_SPOUSE})\n",
    "    \n",
    "\n",
    "def select_annotated_rows(df):\n",
    "    \"\"\"Take the subset of common annotations.\"\"\"\n",
    "    return df[df['id'].isin(ids)]"
   ]
  },
  {
   "cell_type": "code",
   "execution_count": 6,
   "metadata": {},
   "outputs": [],
   "source": [
    "df_k = df_k.pipe(reshape_cr_json)\\\n",
    "           .pipe(get_annotation_values)\\\n",
    "           .pipe(rename_columns)\\\n",
    "           .pipe(select_annotated_rows)\n",
    "df_s = df_s.pipe(reshape_cr_json)\\\n",
    "           .pipe(get_annotation_values)\\\n",
    "           .pipe(rename_columns)\\\n",
    "           .pipe(select_annotated_rows)"
   ]
  },
  {
   "cell_type": "markdown",
   "metadata": {},
   "source": [
    "## Cohen Kappa Score"
   ]
  },
  {
   "cell_type": "markdown",
   "metadata": {},
   "source": [
    "### Label 1: Child"
   ]
  },
  {
   "cell_type": "code",
   "execution_count": 7,
   "metadata": {},
   "outputs": [
    {
     "data": {
      "text/plain": [
       "0.8299167487243756"
      ]
     },
     "execution_count": 7,
     "metadata": {},
     "output_type": "execute_result"
    }
   ],
   "source": [
    "cohen_kappa_score(df_k[COL_CHILD],\n",
    "                  df_s[COL_CHILD])"
   ]
  },
  {
   "cell_type": "markdown",
   "metadata": {},
   "source": [
    "### Label 2: Spouse"
   ]
  },
  {
   "cell_type": "code",
   "execution_count": 8,
   "metadata": {},
   "outputs": [
    {
     "data": {
      "text/plain": [
       "0.8181893310193793"
      ]
     },
     "execution_count": 8,
     "metadata": {},
     "output_type": "execute_result"
    }
   ],
   "source": [
    "cohen_kappa_score(df_k[COL_SPOUSE],\n",
    "                  df_s[COL_SPOUSE])"
   ]
  },
  {
   "cell_type": "markdown",
   "metadata": {},
   "source": [
    "## Confusion Matrix / Value Counts"
   ]
  },
  {
   "cell_type": "code",
   "execution_count": 9,
   "metadata": {},
   "outputs": [
    {
     "data": {
      "text/plain": [
       "array([[ 62,   4,   0,   0],\n",
       "       [  3, 105,   2,   6],\n",
       "       [  0,   0,   0,   0],\n",
       "       [  2,   2,   0,  14]])"
      ]
     },
     "execution_count": 9,
     "metadata": {},
     "output_type": "execute_result"
    }
   ],
   "source": [
    "confusion_matrix(df_k[COL_CHILD],\n",
    "                 df_s[COL_CHILD])"
   ]
  },
  {
   "cell_type": "code",
   "execution_count": 10,
   "metadata": {},
   "outputs": [
    {
     "data": {
      "text/plain": [
       "array([[76,  1,  0,  0],\n",
       "       [ 4, 85,  5, 11],\n",
       "       [ 0,  0,  0,  0],\n",
       "       [ 0,  1,  0, 17]])"
      ]
     },
     "execution_count": 10,
     "metadata": {},
     "output_type": "execute_result"
    }
   ],
   "source": [
    "confusion_matrix(df_k[COL_SPOUSE],\n",
    "                 df_s[COL_SPOUSE])"
   ]
  },
  {
   "cell_type": "markdown",
   "metadata": {},
   "source": [
    "## Negative Note Check"
   ]
  },
  {
   "cell_type": "code",
   "execution_count": 11,
   "metadata": {},
   "outputs": [],
   "source": [
    "df_neg = pd.read_excel(\"../data/raw/Dr.Cooper Anaylsis .xlsx\", usecols=[\"HADMIN\"])"
   ]
  },
  {
   "cell_type": "code",
   "execution_count": 12,
   "metadata": {},
   "outputs": [
    {
     "name": "stdout",
     "output_type": "stream",
     "text": [
      "222\n"
     ]
    }
   ],
   "source": [
    "# sklearn compatible objects\n",
    "\n",
    "# all are true negatives, for both labels\n",
    "to_add = pd.Series([0]*len(df_neg))\n",
    "\n",
    "child_true = df_k['child'].apply(lambda v: 0 if v == 9 else v)\\\n",
    "                          .reset_index(drop=True)\\\n",
    "                          .append(to_add, ignore_index=True)\n",
    "child_pred = df_k['child'].apply(lambda v: 1 if v == 9 else v)\\\n",
    "                          .reset_index(drop=True)\\\n",
    "                          .append(to_add, ignore_index=True)\n",
    "spouse_true = df_k['spouse'].apply(lambda v: 0 if v == 9 else v)\\\n",
    "                          .reset_index(drop=True)\\\n",
    "                          .append(to_add, ignore_index=True)\n",
    "spouse_pred = df_k['spouse'].apply(lambda v: 1 if v == 9 else v)\\\n",
    "                          .reset_index(drop=True)\\\n",
    "                          .append(to_add, ignore_index=True)\n",
    "\n",
    "print(len(child_true))"
   ]
  },
  {
   "cell_type": "code",
   "execution_count": 13,
   "metadata": {},
   "outputs": [],
   "source": [
    "def precision_recall(label):\n",
    "    tp = sum(df_k[label] == 1)\n",
    "    fp = sum(df_k[label] == 9)\n",
    "    tn = sum(df_k[label] == 0)\n",
    "    tn += len(df_neg)\n",
    "    fn = 0\n",
    "    \n",
    "    return tp/(tp + fp), tp/(tp + fn)"
   ]
  },
  {
   "cell_type": "code",
   "execution_count": 14,
   "metadata": {},
   "outputs": [
    {
     "data": {
      "text/plain": [
       "(0.8656716417910447, 1.0)"
      ]
     },
     "execution_count": 14,
     "metadata": {},
     "output_type": "execute_result"
    }
   ],
   "source": [
    "precision_recall('child')"
   ]
  },
  {
   "cell_type": "code",
   "execution_count": 15,
   "metadata": {},
   "outputs": [
    {
     "data": {
      "text/plain": [
       "(0.8536585365853658, 1.0)"
      ]
     },
     "execution_count": 15,
     "metadata": {},
     "output_type": "execute_result"
    }
   ],
   "source": [
    "precision_recall('spouse')"
   ]
  }
 ],
 "metadata": {
  "kernelspec": {
   "display_name": "Python 3",
   "language": "python",
   "name": "python3"
  },
  "language_info": {
   "codemirror_mode": {
    "name": "ipython",
    "version": 3
   },
   "file_extension": ".py",
   "mimetype": "text/x-python",
   "name": "python",
   "nbconvert_exporter": "python",
   "pygments_lexer": "ipython3",
   "version": "3.7.3"
  }
 },
 "nbformat": 4,
 "nbformat_minor": 4
}
